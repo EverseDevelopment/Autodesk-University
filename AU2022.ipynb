{
  "cells": [
    {
      "cell_type": "markdown",
      "metadata": {
        "id": "nIMfUv_UCGM0"
      },
      "source": [
        "Define imports"
      ]
    },
    {
      "cell_type": "code",
      "execution_count": 1,
      "metadata": {
        "id": "sjgfHbL_sypD"
      },
      "outputs": [],
      "source": [
        "%matplotlib inline \n",
        "import matplotlib.pyplot as plt\n",
        "import requests\n",
        "import json\n",
        "import pandas as pd\n",
        "pd.options.plotting.backend = 'plotly'"
      ]
    },
    {
      "cell_type": "markdown",
      "metadata": {
        "id": "tf1wjzCfB6NO"
      },
      "source": [
        "# Call the enpoint to receive all the classes in the event\n",
        "\n",
        "Swapcard exposes a GraphQL endpoint with information about the event and its classes"
      ]
    },
    {
      "cell_type": "code",
      "execution_count": 2,
      "metadata": {
        "id": "VnKFFPynthSJ"
      },
      "outputs": [],
      "source": [
        "\n",
        "url = \"https://api.swapcard.com/graphql\"\n",
        "\n",
        "#First payload, around 21 classes\n",
        "payload=\"{\\\"query\\\":\\\"{Core_plannings(_eventId:\\\\\\\"RXZlbnRfOTQwNDk4\\\\\\\"){nodes{categories{name}, bannerUrl,type,fields{__typename,...on Core_MultipleSelectField{ name, values{text}}} withEvent(eventId:\\\\\\\"RXZlbnRfOTQwNDk4\\\\\\\"){htmlDescription,totalAttendees,beginsAt, title}}}}\\\",\\\"variables\\\":{}}\"\n",
        "headers = {\n",
        "  'Content-Type': 'application/json; charset=utf-8'\n",
        "}\n",
        "\n",
        "response = requests.request(\"POST\", url, headers=headers, data=payload)\n",
        "\n",
        "resp = json.loads(response.text)\n",
        "\n",
        "\n",
        "data = resp[\"data\"][\"Core_plannings\"][\"nodes\"]\n"
      ]
    },
    {
      "cell_type": "code",
      "execution_count": 3,
      "metadata": {},
      "outputs": [
        {
          "name": "stdout",
          "output_type": "stream",
          "text": [
            "{'categories': [{'name': 'Additive Manufacturing'}, {'name': 'Machining'}, {'name': 'Sustainability'}], 'bannerUrl': 'https://cdn-api.swapcard.com/public/images/4ecd7118d34b48fda324e416258327d2.png', 'type': 'Industry talk', 'fields': [{'__typename': 'Core_SelectField'}, {'__typename': 'Core_MultipleSelectField', 'name': 'Language', 'values': []}, {'__typename': 'Core_MultipleSelectField', 'name': 'Business outcome(s)', 'values': [{'text': 'Create more sustainable processes and results'}, {'text': 'Design and manufacture better products'}, {'text': 'Increase operational efficiency'}]}, {'__typename': 'Core_MultipleSelectField', 'name': 'Product(s)', 'values': [{'text': 'Fusion 360'}]}, {'__typename': 'Core_MultipleSelectField', 'name': 'Industry', 'values': [{'text': 'Manufacturing Other'}]}, {'__typename': 'Core_MultipleSelectField', 'name': 'Audience Occupations', 'values': [{'text': 'Manufacturing Engineer'}, {'text': 'Mechanical Engineer'}, {'text': 'Product Engineer'}]}, {'__typename': 'Core_SelectField'}], 'withEvent': {'htmlDescription': '<p>Modern manufacturing technology has given designers a large selection of possible avenues for the manufacturing of a component. However, with this variety, it’s difficult to know which method would provide the most-sustainable results. By maximizing manufacturing sustainability metrics, in this session, we’ll showcase how Autodesk Fusion 360 users can select a manufacturing workflow to ensure a reduced impact for their manufactured component. Focusing on additive, subtractive, and hybrid manufacturing workflows, our case study will highlight how to use manufacturing energy consumption and waste metrics to select the most sustainable manufacturing method for designs. Furthermore, this session will dive into ongoing research on how these decisions can be made within the design phase of product development, through maximizing predictive manufacturing energy and waste models.</p>', 'totalAttendees': 514, 'beginsAt': '2022-09-27 08:00:00', 'title': 'MFG501099 | How Can Sustainable Manufacturing Save You Money and Help the Planet'}}\n"
          ]
        }
      ],
      "source": [
        "print(data[0])"
      ]
    },
    {
      "cell_type": "markdown",
      "metadata": {
        "id": "wFWNgP4fB74G"
      },
      "source": [
        "Access only the classes (nodes) available.\n",
        "Extract categories, attendees and class title"
      ]
    },
    {
      "cell_type": "code",
      "execution_count": 4,
      "metadata": {
        "colab": {
          "base_uri": "https://localhost:8080/",
          "height": 1000
        },
        "id": "fNJQKJLgE4Vm",
        "outputId": "99b3579f-7d6f-455a-bb04-15bda56d0c6b"
      },
      "outputs": [
        {
          "name": "stdout",
          "output_type": "stream",
          "text": [
            "72 classes found\n"
          ]
        },
        {
          "data": {
            "text/html": [
              "<div>\n",
              "<style scoped>\n",
              "    .dataframe tbody tr th:only-of-type {\n",
              "        vertical-align: middle;\n",
              "    }\n",
              "\n",
              "    .dataframe tbody tr th {\n",
              "        vertical-align: top;\n",
              "    }\n",
              "\n",
              "    .dataframe thead th {\n",
              "        text-align: right;\n",
              "    }\n",
              "</style>\n",
              "<table border=\"1\" class=\"dataframe\">\n",
              "  <thead>\n",
              "    <tr style=\"text-align: right;\">\n",
              "      <th></th>\n",
              "      <th>bannerUrl</th>\n",
              "      <th>type</th>\n",
              "      <th>category</th>\n",
              "      <th>total_attendees</th>\n",
              "      <th>description</th>\n",
              "      <th>beginsAt</th>\n",
              "      <th>class_name</th>\n",
              "      <th>business_outcome</th>\n",
              "      <th>products</th>\n",
              "      <th>industry</th>\n",
              "      <th>audience_occupations</th>\n",
              "    </tr>\n",
              "  </thead>\n",
              "  <tbody>\n",
              "    <tr>\n",
              "      <th>0</th>\n",
              "      <td>https://cdn-api.swapcard.com/public/images/4ec...</td>\n",
              "      <td>Industry talk</td>\n",
              "      <td>[Additive Manufacturing, Machining, Sustainabi...</td>\n",
              "      <td>514</td>\n",
              "      <td>&lt;p&gt;Modern manufacturing technology has given d...</td>\n",
              "      <td>2022-09-27 08:00:00</td>\n",
              "      <td>MFG501099 | How Can Sustainable Manufacturing ...</td>\n",
              "      <td>[Create more sustainable processes and results...</td>\n",
              "      <td>[Fusion 360]</td>\n",
              "      <td>[Manufacturing Other]</td>\n",
              "      <td>[Manufacturing Engineer, Mechanical Engineer, ...</td>\n",
              "    </tr>\n",
              "    <tr>\n",
              "      <th>1</th>\n",
              "      <td>https://cdn-api.swapcard.com/public/images/83c...</td>\n",
              "      <td>Industry talk</td>\n",
              "      <td>[Automation, Data Management, Digital Delivery...</td>\n",
              "      <td>1228</td>\n",
              "      <td>&lt;p&gt;This class will demonstrate the implementat...</td>\n",
              "      <td>2022-09-27 08:00:00</td>\n",
              "      <td>AS500850 | Autodesk Construction Cloud and Aut...</td>\n",
              "      <td>[Better manage or reduce costs, Enable innovat...</td>\n",
              "      <td>[Autodesk BIM Collaborate Pro, BIM 360 Docs, F...</td>\n",
              "      <td>[Architecture]</td>\n",
              "      <td>[Architect, BIM Manager, Developer, Facilities...</td>\n",
              "    </tr>\n",
              "    <tr>\n",
              "      <th>2</th>\n",
              "      <td>https://cdn-api.swapcard.com/public/images/eac...</td>\n",
              "      <td>Industry talk</td>\n",
              "      <td>[Digital Transformation, Future of Work, Softw...</td>\n",
              "      <td>522</td>\n",
              "      <td>&lt;p&gt;The ability for teams to address and adapt ...</td>\n",
              "      <td>2022-09-27 08:00:00</td>\n",
              "      <td>CES501754 | Equipping Staff for the Digital Fu...</td>\n",
              "      <td>[Enable innovation, Enhance creative excellenc...</td>\n",
              "      <td>[AutoCAD, BIM 360 Docs, Civil 3D, Revit]</td>\n",
              "      <td>[Civil Engineering]</td>\n",
              "      <td>[Education Administrator, Education Mentor, Te...</td>\n",
              "    </tr>\n",
              "    <tr>\n",
              "      <th>3</th>\n",
              "      <td>https://cdn-api.swapcard.com/public/images/5a9...</td>\n",
              "      <td>Case study</td>\n",
              "      <td>[Automation, Building Design, Building Informa...</td>\n",
              "      <td>183</td>\n",
              "      <td>&lt;p&gt;The New Government Quarter is an ambitious ...</td>\n",
              "      <td>2022-09-27 08:00:00</td>\n",
              "      <td>AS502169 | Automating the New Government Quart...</td>\n",
              "      <td>[Better manage or reduce costs, Enable innovat...</td>\n",
              "      <td>[]</td>\n",
              "      <td>[Architecture]</td>\n",
              "      <td>[Architect, BIM Manager, Developer, Facilities...</td>\n",
              "    </tr>\n",
              "    <tr>\n",
              "      <th>4</th>\n",
              "      <td>https://cdn-api.swapcard.com/public/images/6af...</td>\n",
              "      <td>Technical instruction</td>\n",
              "      <td>[Injection Molding, Product Design, Simulation]</td>\n",
              "      <td>257</td>\n",
              "      <td>&lt;p&gt;Designing parts for the injection molding p...</td>\n",
              "      <td>2022-09-27 08:00:00</td>\n",
              "      <td>CP500829 | How to Design Plastic Parts More Ef...</td>\n",
              "      <td>[Design and manufacture better products, Incre...</td>\n",
              "      <td>[Fusion 360, Inventor]</td>\n",
              "      <td>[Consumer Products]</td>\n",
              "      <td>[Drafter, Mechanical Designer, Mechanical Deta...</td>\n",
              "    </tr>\n",
              "    <tr>\n",
              "      <th>...</th>\n",
              "      <td>...</td>\n",
              "      <td>...</td>\n",
              "      <td>...</td>\n",
              "      <td>...</td>\n",
              "      <td>...</td>\n",
              "      <td>...</td>\n",
              "      <td>...</td>\n",
              "      <td>...</td>\n",
              "      <td>...</td>\n",
              "      <td>...</td>\n",
              "      <td>...</td>\n",
              "    </tr>\n",
              "    <tr>\n",
              "      <th>67</th>\n",
              "      <td>https://cdn-api.swapcard.com/public/images/e6b...</td>\n",
              "      <td>Industry talk</td>\n",
              "      <td>[Artificial Intelligence and Machine Learning,...</td>\n",
              "      <td>1249</td>\n",
              "      <td>&lt;p&gt;This class will encompass creating a design...</td>\n",
              "      <td>2022-09-29 15:00:00</td>\n",
              "      <td>BES500957 | Design Technology Leadership: Inno...</td>\n",
              "      <td>[Enable innovation, Gain general industry lear...</td>\n",
              "      <td>[BIM 360 Docs]</td>\n",
              "      <td>[Building Engineering]</td>\n",
              "      <td>[Architect, BIM Manager, CAD Manager, Drafter,...</td>\n",
              "    </tr>\n",
              "    <tr>\n",
              "      <th>68</th>\n",
              "      <td>https://cdn-api.swapcard.com/public/images/e9e...</td>\n",
              "      <td>Product demo</td>\n",
              "      <td>[Digital Construction, Generative Design, Infr...</td>\n",
              "      <td>398</td>\n",
              "      <td>&lt;p&gt;This session will look at Grading Optimizat...</td>\n",
              "      <td>2022-09-29 15:00:00</td>\n",
              "      <td>CES501760 | Grading Optimization: Making Choic...</td>\n",
              "      <td>[Better manage or reduce costs, Increase opera...</td>\n",
              "      <td>[Civil 3D]</td>\n",
              "      <td>[Civil Engineering]</td>\n",
              "      <td>[Civil Engineer/Designer, Drafter, Environment...</td>\n",
              "    </tr>\n",
              "    <tr>\n",
              "      <th>69</th>\n",
              "      <td>https://cdn-api.swapcard.com/public/images/0e1...</td>\n",
              "      <td>Case study</td>\n",
              "      <td>[Cloud Collaboration, Digital Factory, Digital...</td>\n",
              "      <td>895</td>\n",
              "      <td>&lt;p&gt;Building projects are already realized with...</td>\n",
              "      <td>2022-09-29 16:30:00</td>\n",
              "      <td>MFG501919 | The Future of Integrated Factory M...</td>\n",
              "      <td>[Better manage or reduce costs, Enable innovat...</td>\n",
              "      <td>[Autodesk BIM Collaborate Pro, Autodesk Docs, ...</td>\n",
              "      <td>[Manufacturing Other]</td>\n",
              "      <td>[BIM Manager, CAD Manager, Manufacturing Engin...</td>\n",
              "    </tr>\n",
              "    <tr>\n",
              "      <th>70</th>\n",
              "      <td>https://cdn-api.swapcard.com/public/images/544...</td>\n",
              "      <td>Industry talk</td>\n",
              "      <td>[Carbon Management, Data Management, Digital D...</td>\n",
              "      <td>504</td>\n",
              "      <td>&lt;p&gt;In 2018, SYSTRA launched an R&amp;D program cal...</td>\n",
              "      <td>2022-09-29 16:30:00</td>\n",
              "      <td>CES500878 | SYSTRA Digital Engineering Innovat...</td>\n",
              "      <td>[Better manage or reduce costs, Create more su...</td>\n",
              "      <td>[Forge]</td>\n",
              "      <td>[Civil Engineering]</td>\n",
              "      <td>[Business Development Representative, Owner/Op...</td>\n",
              "    </tr>\n",
              "    <tr>\n",
              "      <th>71</th>\n",
              "      <td>https://cdn-api.swapcard.com/public/images/a54...</td>\n",
              "      <td>Technical instruction</td>\n",
              "      <td>[Automation, Building Information Modeling (BI...</td>\n",
              "      <td>924</td>\n",
              "      <td>&lt;p&gt;Revit 2023 software now unleashes the \"proj...</td>\n",
              "      <td>2022-09-29 16:30:00</td>\n",
              "      <td>AS502854 | Unleash BIM Project Data with Revit...</td>\n",
              "      <td>[Improve collaboration, Increase operational e...</td>\n",
              "      <td>[Autodesk BIM Collaborate Pro, Autodesk Build,...</td>\n",
              "      <td>[Architecture]</td>\n",
              "      <td>[Architect, BIM Manager, Software Developer/Pr...</td>\n",
              "    </tr>\n",
              "  </tbody>\n",
              "</table>\n",
              "<p>72 rows × 11 columns</p>\n",
              "</div>"
            ],
            "text/plain": [
              "                                            bannerUrl                   type  \\\n",
              "0   https://cdn-api.swapcard.com/public/images/4ec...          Industry talk   \n",
              "1   https://cdn-api.swapcard.com/public/images/83c...          Industry talk   \n",
              "2   https://cdn-api.swapcard.com/public/images/eac...          Industry talk   \n",
              "3   https://cdn-api.swapcard.com/public/images/5a9...             Case study   \n",
              "4   https://cdn-api.swapcard.com/public/images/6af...  Technical instruction   \n",
              "..                                                ...                    ...   \n",
              "67  https://cdn-api.swapcard.com/public/images/e6b...          Industry talk   \n",
              "68  https://cdn-api.swapcard.com/public/images/e9e...           Product demo   \n",
              "69  https://cdn-api.swapcard.com/public/images/0e1...             Case study   \n",
              "70  https://cdn-api.swapcard.com/public/images/544...          Industry talk   \n",
              "71  https://cdn-api.swapcard.com/public/images/a54...  Technical instruction   \n",
              "\n",
              "                                             category  total_attendees  \\\n",
              "0   [Additive Manufacturing, Machining, Sustainabi...              514   \n",
              "1   [Automation, Data Management, Digital Delivery...             1228   \n",
              "2   [Digital Transformation, Future of Work, Softw...              522   \n",
              "3   [Automation, Building Design, Building Informa...              183   \n",
              "4     [Injection Molding, Product Design, Simulation]              257   \n",
              "..                                                ...              ...   \n",
              "67  [Artificial Intelligence and Machine Learning,...             1249   \n",
              "68  [Digital Construction, Generative Design, Infr...              398   \n",
              "69  [Cloud Collaboration, Digital Factory, Digital...              895   \n",
              "70  [Carbon Management, Data Management, Digital D...              504   \n",
              "71  [Automation, Building Information Modeling (BI...              924   \n",
              "\n",
              "                                          description             beginsAt  \\\n",
              "0   <p>Modern manufacturing technology has given d...  2022-09-27 08:00:00   \n",
              "1   <p>This class will demonstrate the implementat...  2022-09-27 08:00:00   \n",
              "2   <p>The ability for teams to address and adapt ...  2022-09-27 08:00:00   \n",
              "3   <p>The New Government Quarter is an ambitious ...  2022-09-27 08:00:00   \n",
              "4   <p>Designing parts for the injection molding p...  2022-09-27 08:00:00   \n",
              "..                                                ...                  ...   \n",
              "67  <p>This class will encompass creating a design...  2022-09-29 15:00:00   \n",
              "68  <p>This session will look at Grading Optimizat...  2022-09-29 15:00:00   \n",
              "69  <p>Building projects are already realized with...  2022-09-29 16:30:00   \n",
              "70  <p>In 2018, SYSTRA launched an R&D program cal...  2022-09-29 16:30:00   \n",
              "71  <p>Revit 2023 software now unleashes the \"proj...  2022-09-29 16:30:00   \n",
              "\n",
              "                                           class_name  \\\n",
              "0   MFG501099 | How Can Sustainable Manufacturing ...   \n",
              "1   AS500850 | Autodesk Construction Cloud and Aut...   \n",
              "2   CES501754 | Equipping Staff for the Digital Fu...   \n",
              "3   AS502169 | Automating the New Government Quart...   \n",
              "4   CP500829 | How to Design Plastic Parts More Ef...   \n",
              "..                                                ...   \n",
              "67  BES500957 | Design Technology Leadership: Inno...   \n",
              "68  CES501760 | Grading Optimization: Making Choic...   \n",
              "69  MFG501919 | The Future of Integrated Factory M...   \n",
              "70  CES500878 | SYSTRA Digital Engineering Innovat...   \n",
              "71  AS502854 | Unleash BIM Project Data with Revit...   \n",
              "\n",
              "                                     business_outcome  \\\n",
              "0   [Create more sustainable processes and results...   \n",
              "1   [Better manage or reduce costs, Enable innovat...   \n",
              "2   [Enable innovation, Enhance creative excellenc...   \n",
              "3   [Better manage or reduce costs, Enable innovat...   \n",
              "4   [Design and manufacture better products, Incre...   \n",
              "..                                                ...   \n",
              "67  [Enable innovation, Gain general industry lear...   \n",
              "68  [Better manage or reduce costs, Increase opera...   \n",
              "69  [Better manage or reduce costs, Enable innovat...   \n",
              "70  [Better manage or reduce costs, Create more su...   \n",
              "71  [Improve collaboration, Increase operational e...   \n",
              "\n",
              "                                             products                industry  \\\n",
              "0                                        [Fusion 360]   [Manufacturing Other]   \n",
              "1   [Autodesk BIM Collaborate Pro, BIM 360 Docs, F...          [Architecture]   \n",
              "2            [AutoCAD, BIM 360 Docs, Civil 3D, Revit]     [Civil Engineering]   \n",
              "3                                                  []          [Architecture]   \n",
              "4                              [Fusion 360, Inventor]     [Consumer Products]   \n",
              "..                                                ...                     ...   \n",
              "67                                     [BIM 360 Docs]  [Building Engineering]   \n",
              "68                                         [Civil 3D]     [Civil Engineering]   \n",
              "69  [Autodesk BIM Collaborate Pro, Autodesk Docs, ...   [Manufacturing Other]   \n",
              "70                                            [Forge]     [Civil Engineering]   \n",
              "71  [Autodesk BIM Collaborate Pro, Autodesk Build,...          [Architecture]   \n",
              "\n",
              "                                 audience_occupations  \n",
              "0   [Manufacturing Engineer, Mechanical Engineer, ...  \n",
              "1   [Architect, BIM Manager, Developer, Facilities...  \n",
              "2   [Education Administrator, Education Mentor, Te...  \n",
              "3   [Architect, BIM Manager, Developer, Facilities...  \n",
              "4   [Drafter, Mechanical Designer, Mechanical Deta...  \n",
              "..                                                ...  \n",
              "67  [Architect, BIM Manager, CAD Manager, Drafter,...  \n",
              "68  [Civil Engineer/Designer, Drafter, Environment...  \n",
              "69  [BIM Manager, CAD Manager, Manufacturing Engin...  \n",
              "70  [Business Development Representative, Owner/Op...  \n",
              "71  [Architect, BIM Manager, Software Developer/Pr...  \n",
              "\n",
              "[72 rows x 11 columns]"
            ]
          },
          "execution_count": 4,
          "metadata": {},
          "output_type": "execute_result"
        }
      ],
      "source": [
        "def get_fields(fields, name):\n",
        "  for f in fields:\n",
        "    if \"name\" in f and f[\"name\"] == name:\n",
        "      return [x[\"text\"] for x in f[\"values\"]]\n",
        "\n",
        "records = []\n",
        "\n",
        "for item in data:\n",
        "  temp = item\n",
        "  temp['category'] = None\n",
        "  if item['categories']:\n",
        "    temp['category'] = [c[\"name\"] for c in item['categories']]\n",
        "  temp['total_attendees'] = item['withEvent']['totalAttendees']\n",
        "  temp['description'] = item['withEvent']['htmlDescription']\n",
        "  temp['beginsAt'] = item['withEvent']['beginsAt']\n",
        "  temp['class_name'] = item['withEvent']['title']\n",
        "\n",
        "  temp['business_outcome'] = get_fields(item['fields'], \"Business outcome(s)\")\n",
        "  temp['products'] = get_fields(item['fields'], \"Product(s)\")\n",
        "  temp['industry'] = get_fields(item['fields'], \"Industry\")\n",
        "  temp['audience_occupations'] = get_fields(item['fields'], \"Audience Occupations\")\n",
        "\n",
        "  records.append(temp)\n",
        "\n",
        "df_records = pd.DataFrame.from_records(records)\n",
        "df_records.drop([ 'withEvent','categories', 'fields' ], axis=1, inplace=True)\n",
        "print(f\"{len(df_records)} classes found\")\n",
        "df_records"
      ]
    },
    {
      "cell_type": "markdown",
      "metadata": {
        "id": "Ynm9Z8kaEd_D"
      },
      "source": [
        "# Top 10 classes by attendees"
      ]
    },
    {
      "cell_type": "code",
      "execution_count": 5,
      "metadata": {
        "colab": {
          "base_uri": "https://localhost:8080/",
          "height": 363
        },
        "id": "hSdVWFNLDDbV",
        "outputId": "959713be-fcf4-4ede-d1a3-e4852e8df3fe"
      },
      "outputs": [
        {
          "data": {
            "text/html": [
              "<div>\n",
              "<style scoped>\n",
              "    .dataframe tbody tr th:only-of-type {\n",
              "        vertical-align: middle;\n",
              "    }\n",
              "\n",
              "    .dataframe tbody tr th {\n",
              "        vertical-align: top;\n",
              "    }\n",
              "\n",
              "    .dataframe thead th {\n",
              "        text-align: right;\n",
              "    }\n",
              "</style>\n",
              "<table border=\"1\" class=\"dataframe\">\n",
              "  <thead>\n",
              "    <tr style=\"text-align: right;\">\n",
              "      <th></th>\n",
              "      <th>class_name</th>\n",
              "      <th>total_attendees</th>\n",
              "    </tr>\n",
              "  </thead>\n",
              "  <tbody>\n",
              "    <tr>\n",
              "      <th>12</th>\n",
              "      <td>674914 | General Session</td>\n",
              "      <td>3168</td>\n",
              "    </tr>\n",
              "    <tr>\n",
              "      <th>33</th>\n",
              "      <td>676706 | General Session Day 2</td>\n",
              "      <td>2798</td>\n",
              "    </tr>\n",
              "    <tr>\n",
              "      <th>41</th>\n",
              "      <td>678177 | Autodesk Construction Session</td>\n",
              "      <td>2690</td>\n",
              "    </tr>\n",
              "    <tr>\n",
              "      <th>56</th>\n",
              "      <td>CS501355 | Model Coordination or Navisworks fo...</td>\n",
              "      <td>1992</td>\n",
              "    </tr>\n",
              "    <tr>\n",
              "      <th>14</th>\n",
              "      <td>CI502227 | Giant Steps: Advances in Seamless B...</td>\n",
              "      <td>1957</td>\n",
              "    </tr>\n",
              "    <tr>\n",
              "      <th>19</th>\n",
              "      <td>AS502204 | Solving the Clash Between Model Coo...</td>\n",
              "      <td>1837</td>\n",
              "    </tr>\n",
              "    <tr>\n",
              "      <th>52</th>\n",
              "      <td>CS501621 | Microsoft Power BI to Maximize BIM ...</td>\n",
              "      <td>1755</td>\n",
              "    </tr>\n",
              "    <tr>\n",
              "      <th>30</th>\n",
              "      <td>CS501147 | Future of Work: How Do You Implemen...</td>\n",
              "      <td>1623</td>\n",
              "    </tr>\n",
              "    <tr>\n",
              "      <th>47</th>\n",
              "      <td>BLD501424 | Demystifying Digital Twins</td>\n",
              "      <td>1608</td>\n",
              "    </tr>\n",
              "    <tr>\n",
              "      <th>17</th>\n",
              "      <td>677160 | Forge Developer Session</td>\n",
              "      <td>1378</td>\n",
              "    </tr>\n",
              "  </tbody>\n",
              "</table>\n",
              "</div>"
            ],
            "text/plain": [
              "                                           class_name  total_attendees\n",
              "12                           674914 | General Session             3168\n",
              "33                     676706 | General Session Day 2             2798\n",
              "41             678177 | Autodesk Construction Session             2690\n",
              "56  CS501355 | Model Coordination or Navisworks fo...             1992\n",
              "14  CI502227 | Giant Steps: Advances in Seamless B...             1957\n",
              "19  AS502204 | Solving the Clash Between Model Coo...             1837\n",
              "52  CS501621 | Microsoft Power BI to Maximize BIM ...             1755\n",
              "30  CS501147 | Future of Work: How Do You Implemen...             1623\n",
              "47             BLD501424 | Demystifying Digital Twins             1608\n",
              "17                   677160 | Forge Developer Session             1378"
            ]
          },
          "execution_count": 5,
          "metadata": {},
          "output_type": "execute_result"
        }
      ],
      "source": [
        "class_attendees = df_records[['class_name', 'total_attendees']]\n",
        "top10_classes_by_attendees = class_attendees.sort_values(by='total_attendees',ascending=False)\n",
        "top10_classes_by_attendees.head(10)"
      ]
    },
    {
      "cell_type": "code",
      "execution_count": 6,
      "metadata": {
        "id": "5gpKdj98fihT"
      },
      "outputs": [
        {
          "data": {
            "application/vnd.plotly.v1+json": {
              "config": {
                "plotlyServerURL": "https://plot.ly"
              },
              "data": [
                {
                  "alignmentgroup": "True",
                  "hovertemplate": "total_attendees=%{x}<br>class_name=%{y}<extra></extra>",
                  "legendgroup": "",
                  "marker": {
                    "color": "#636efa",
                    "pattern": {
                      "shape": ""
                    }
                  },
                  "name": "",
                  "offsetgroup": "",
                  "orientation": "h",
                  "showlegend": false,
                  "textposition": "auto",
                  "type": "bar",
                  "x": [
                    0,
                    127,
                    144,
                    148,
                    156,
                    169,
                    183,
                    196,
                    203,
                    257,
                    264,
                    267,
                    270,
                    294,
                    295,
                    298,
                    320,
                    327,
                    349,
                    354,
                    357,
                    388,
                    398,
                    427,
                    437,
                    437,
                    438,
                    482,
                    488,
                    490,
                    504,
                    505,
                    514,
                    520,
                    522,
                    533,
                    537,
                    587,
                    627,
                    677,
                    683,
                    685,
                    686,
                    722,
                    746,
                    751,
                    804,
                    817,
                    825,
                    895,
                    909,
                    913,
                    924,
                    1035,
                    1205,
                    1222,
                    1228,
                    1249,
                    1311,
                    1317,
                    1347,
                    1362,
                    1378,
                    1608,
                    1623,
                    1755,
                    1837,
                    1957,
                    1992,
                    2690,
                    2798,
                    3168
                  ],
                  "xaxis": "x",
                  "y": [
                    "The New Possible | New Orleans",
                    "676764 | Driving Better Outcomes in Manufacturing with Data and Platform",
                    "FTV502734 | A New Breed of Prosumer Creation Tools for the Digital Economy",
                    "676729 | Drivers of Change: A Film Screening and Panel Discussion",
                    "676768 | Leading Industries to Decarbonize",
                    "676765 | New Cloud-Based Possibilities for Media Production",
                    "AS502169 | Automating the New Government Quarter in Norway",
                    "676763 | Unlocking Your Digital Transformation in Manufacturing",
                    "676774 | Predictable Success: Unlocking Better Construction Outcomes with Data | Leadership workshop",
                    "CP500829 | How to Design Plastic Parts More Effectively with Autodesk Fusion 360",
                    "676776 | Unexpected Ways the AEC Industry Can Reduce Carbon and Fight Climate Change | Leadership workshop",
                    "MFG501520 | Creating Custom Prosthetic Arms Using Fusion 360's Solid and Mesh Modeling",
                    "676771 | Achieving 2030 Sustainability Goals with Better Construction",
                    "676727 | Building a Culture of Inclusion in the Hybrid Workplace",
                    "676766 | How Developers Can Drive Your Digital Transformation",
                    "676773 | Transforming Construction for Growth",
                    "MFG500939 | Making Inventor and Vault Workflows Work for You",
                    "DE501894 | Using Autodesk Fusion 360 and Generative Design to Make Lighter Rockets in Less Time",
                    "BES502270 | Using AI for Sustainable Structural Design with DAISY and Autodesk Research",
                    "676772 | Data Across the AE&C Lifecycle | Leadership workshop",
                    "IM500815 | Integrated Factory Modeling: The Digital Story of a Factory",
                    "BLD502357 | Game of Inches: Digital As-Builting a 27-Year-Old NFL Stadium",
                    "CES501760 | Grading Optimization: Making Choices That Benefit Automatic Grading",
                    "EDU500767 | Leading Effective Change",
                    "CS500918 | A True Common Data Environment by Integrating Platforms with Autodesk Construction Cloud Connect",
                    "676770 | Embracing Digital Transformation for AEC: Change Doesn't Have to Be Hard",
                    "CS502262 | Bridging the Diversity Gap Through Inclusion and Belonging",
                    "FTV502884 | Camera to Cloud: Real Time Workflows with Moxion",
                    "MFG502453 | Elevating Sales with Autodesk Forge and Inventor iLogic",
                    "MFG501430 | A Case Study: Marvin Windows-From Marvin Docs to Autodesk Vault, and Back",
                    "CES500878 | SYSTRA Digital Engineering Innovation Strategy",
                    "AS501717 | Latin@s in Design Technology",
                    "MFG501099 | How Can Sustainable Manufacturing Save You Money and Help the Planet",
                    "AS501165 | AutoCAD: Are You Collaborating and Comparing Yet?",
                    "CES501754 | Equipping Staff for the Digital Future of Work",
                    "676769 | Before and After: Innovating with AI for AEC",
                    "CS502585 | Data, Reporting, and Analytics in Autodesk Construction Cloud",
                    "MFG501153 | A Tale of Three Vaults: How Custom Solutions Ensured Customer Success",
                    "CP500680 | Products with Cultural Identity: Connecting Design, Technology, and Tradition",
                    "CP502853 | How Decathlon Uses Generative Design for Designing the Consumers' Products of the Future",
                    "CES500986 | How to Implement BIM as Part of Companies' Digital Transformation Strategies",
                    "CES501286 | The Crossroads of Civil 3d and Revit",
                    "BES502686 | Making the Move: From AutoCAD to Revit",
                    "BES500719 | There's No Planet B: Sustainability's the Key!",
                    "GA502899 | Digital Barn Raising: How Standards Communities Are Building the Metaverse",
                    "CS500946 | Reduced Risk and Improved Productivity on CAHSR Using Autodesk Build and Autodesk Takeoff",
                    "AS500734 | Women in XR: Changing How We Work, Play, and Interact",
                    "BLD501569 | Fun, Fast, and for Real: Reducing Climate Footprint in a Click",
                    "BES500782 | Sustainable Structural Design: Answering the Global Environmental Challenge",
                    "MFG501919 | The Future of Integrated Factory Model Collaboration",
                    "AS500733 | HBIM for Historic Buildings: Refurbishment of Big Ben for UK Parliament",
                    "AS501209 | Revit 2021-'23: The Hits Keep Coming!",
                    "AS502854 | Unleash BIM Project Data with Revit and Microsoft Power Automate",
                    "AE502092 | From Maya and Unreal to Virtual Presence: The Epic Games Lab Case Study",
                    "CES501766 | A Case Study for Generative Design in Horizontal Infrastructure",
                    "AS502698 | Shared Coordinates: Tales of Two Bavarian-American Cities",
                    "AS500850 | Autodesk Construction Cloud and Autodesk Forge: Our CDE Backbone That Integrates the Hospital Data Management",
                    "BES500957 | Design Technology Leadership: Innovation Through Collaboration",
                    "CS502282 | Scaling Up-Enterprise Launch: A Case Study of BIM 360 to Autodesk Construction Cloud",
                    "EDU501272 | Overcoming the Seven Deadly Sins of Onboarding and Employee Upskilling",
                    "AS502740 | Enter the Omniverse: AI-Enhanced Collaboration and Simulation at Scale",
                    "676802 | Tech Trends: The Promise of Platform and Digital Transformation for People and the Planet",
                    "677160 | Forge Developer Session",
                    "BLD501424 | Demystifying Digital Twins",
                    "CS501147 | Future of Work: How Do You Implement That?",
                    "CS501621 | Microsoft Power BI to Maximize BIM and GIS Integration",
                    "AS502204 | Solving the Clash Between Model Coordination and Navisworks",
                    "CI502227 | Giant Steps: Advances in Seamless BIM, CAD, and GIS Integration",
                    "CS501355 | Model Coordination or Navisworks for BIM Coordination? How to Use Both.",
                    "678177 | Autodesk Construction Session",
                    "676706 | General Session Day 2",
                    "674914 | General Session"
                  ],
                  "yaxis": "y"
                }
              ],
              "layout": {
                "barmode": "relative",
                "legend": {
                  "tracegroupgap": 0
                },
                "margin": {
                  "t": 60
                },
                "template": {
                  "data": {
                    "bar": [
                      {
                        "error_x": {
                          "color": "#2a3f5f"
                        },
                        "error_y": {
                          "color": "#2a3f5f"
                        },
                        "marker": {
                          "line": {
                            "color": "#E5ECF6",
                            "width": 0.5
                          },
                          "pattern": {
                            "fillmode": "overlay",
                            "size": 10,
                            "solidity": 0.2
                          }
                        },
                        "type": "bar"
                      }
                    ],
                    "barpolar": [
                      {
                        "marker": {
                          "line": {
                            "color": "#E5ECF6",
                            "width": 0.5
                          },
                          "pattern": {
                            "fillmode": "overlay",
                            "size": 10,
                            "solidity": 0.2
                          }
                        },
                        "type": "barpolar"
                      }
                    ],
                    "carpet": [
                      {
                        "aaxis": {
                          "endlinecolor": "#2a3f5f",
                          "gridcolor": "white",
                          "linecolor": "white",
                          "minorgridcolor": "white",
                          "startlinecolor": "#2a3f5f"
                        },
                        "baxis": {
                          "endlinecolor": "#2a3f5f",
                          "gridcolor": "white",
                          "linecolor": "white",
                          "minorgridcolor": "white",
                          "startlinecolor": "#2a3f5f"
                        },
                        "type": "carpet"
                      }
                    ],
                    "choropleth": [
                      {
                        "colorbar": {
                          "outlinewidth": 0,
                          "ticks": ""
                        },
                        "type": "choropleth"
                      }
                    ],
                    "contour": [
                      {
                        "colorbar": {
                          "outlinewidth": 0,
                          "ticks": ""
                        },
                        "colorscale": [
                          [
                            0,
                            "#0d0887"
                          ],
                          [
                            0.1111111111111111,
                            "#46039f"
                          ],
                          [
                            0.2222222222222222,
                            "#7201a8"
                          ],
                          [
                            0.3333333333333333,
                            "#9c179e"
                          ],
                          [
                            0.4444444444444444,
                            "#bd3786"
                          ],
                          [
                            0.5555555555555556,
                            "#d8576b"
                          ],
                          [
                            0.6666666666666666,
                            "#ed7953"
                          ],
                          [
                            0.7777777777777778,
                            "#fb9f3a"
                          ],
                          [
                            0.8888888888888888,
                            "#fdca26"
                          ],
                          [
                            1,
                            "#f0f921"
                          ]
                        ],
                        "type": "contour"
                      }
                    ],
                    "contourcarpet": [
                      {
                        "colorbar": {
                          "outlinewidth": 0,
                          "ticks": ""
                        },
                        "type": "contourcarpet"
                      }
                    ],
                    "heatmap": [
                      {
                        "colorbar": {
                          "outlinewidth": 0,
                          "ticks": ""
                        },
                        "colorscale": [
                          [
                            0,
                            "#0d0887"
                          ],
                          [
                            0.1111111111111111,
                            "#46039f"
                          ],
                          [
                            0.2222222222222222,
                            "#7201a8"
                          ],
                          [
                            0.3333333333333333,
                            "#9c179e"
                          ],
                          [
                            0.4444444444444444,
                            "#bd3786"
                          ],
                          [
                            0.5555555555555556,
                            "#d8576b"
                          ],
                          [
                            0.6666666666666666,
                            "#ed7953"
                          ],
                          [
                            0.7777777777777778,
                            "#fb9f3a"
                          ],
                          [
                            0.8888888888888888,
                            "#fdca26"
                          ],
                          [
                            1,
                            "#f0f921"
                          ]
                        ],
                        "type": "heatmap"
                      }
                    ],
                    "heatmapgl": [
                      {
                        "colorbar": {
                          "outlinewidth": 0,
                          "ticks": ""
                        },
                        "colorscale": [
                          [
                            0,
                            "#0d0887"
                          ],
                          [
                            0.1111111111111111,
                            "#46039f"
                          ],
                          [
                            0.2222222222222222,
                            "#7201a8"
                          ],
                          [
                            0.3333333333333333,
                            "#9c179e"
                          ],
                          [
                            0.4444444444444444,
                            "#bd3786"
                          ],
                          [
                            0.5555555555555556,
                            "#d8576b"
                          ],
                          [
                            0.6666666666666666,
                            "#ed7953"
                          ],
                          [
                            0.7777777777777778,
                            "#fb9f3a"
                          ],
                          [
                            0.8888888888888888,
                            "#fdca26"
                          ],
                          [
                            1,
                            "#f0f921"
                          ]
                        ],
                        "type": "heatmapgl"
                      }
                    ],
                    "histogram": [
                      {
                        "marker": {
                          "pattern": {
                            "fillmode": "overlay",
                            "size": 10,
                            "solidity": 0.2
                          }
                        },
                        "type": "histogram"
                      }
                    ],
                    "histogram2d": [
                      {
                        "colorbar": {
                          "outlinewidth": 0,
                          "ticks": ""
                        },
                        "colorscale": [
                          [
                            0,
                            "#0d0887"
                          ],
                          [
                            0.1111111111111111,
                            "#46039f"
                          ],
                          [
                            0.2222222222222222,
                            "#7201a8"
                          ],
                          [
                            0.3333333333333333,
                            "#9c179e"
                          ],
                          [
                            0.4444444444444444,
                            "#bd3786"
                          ],
                          [
                            0.5555555555555556,
                            "#d8576b"
                          ],
                          [
                            0.6666666666666666,
                            "#ed7953"
                          ],
                          [
                            0.7777777777777778,
                            "#fb9f3a"
                          ],
                          [
                            0.8888888888888888,
                            "#fdca26"
                          ],
                          [
                            1,
                            "#f0f921"
                          ]
                        ],
                        "type": "histogram2d"
                      }
                    ],
                    "histogram2dcontour": [
                      {
                        "colorbar": {
                          "outlinewidth": 0,
                          "ticks": ""
                        },
                        "colorscale": [
                          [
                            0,
                            "#0d0887"
                          ],
                          [
                            0.1111111111111111,
                            "#46039f"
                          ],
                          [
                            0.2222222222222222,
                            "#7201a8"
                          ],
                          [
                            0.3333333333333333,
                            "#9c179e"
                          ],
                          [
                            0.4444444444444444,
                            "#bd3786"
                          ],
                          [
                            0.5555555555555556,
                            "#d8576b"
                          ],
                          [
                            0.6666666666666666,
                            "#ed7953"
                          ],
                          [
                            0.7777777777777778,
                            "#fb9f3a"
                          ],
                          [
                            0.8888888888888888,
                            "#fdca26"
                          ],
                          [
                            1,
                            "#f0f921"
                          ]
                        ],
                        "type": "histogram2dcontour"
                      }
                    ],
                    "mesh3d": [
                      {
                        "colorbar": {
                          "outlinewidth": 0,
                          "ticks": ""
                        },
                        "type": "mesh3d"
                      }
                    ],
                    "parcoords": [
                      {
                        "line": {
                          "colorbar": {
                            "outlinewidth": 0,
                            "ticks": ""
                          }
                        },
                        "type": "parcoords"
                      }
                    ],
                    "pie": [
                      {
                        "automargin": true,
                        "type": "pie"
                      }
                    ],
                    "scatter": [
                      {
                        "fillpattern": {
                          "fillmode": "overlay",
                          "size": 10,
                          "solidity": 0.2
                        },
                        "type": "scatter"
                      }
                    ],
                    "scatter3d": [
                      {
                        "line": {
                          "colorbar": {
                            "outlinewidth": 0,
                            "ticks": ""
                          }
                        },
                        "marker": {
                          "colorbar": {
                            "outlinewidth": 0,
                            "ticks": ""
                          }
                        },
                        "type": "scatter3d"
                      }
                    ],
                    "scattercarpet": [
                      {
                        "marker": {
                          "colorbar": {
                            "outlinewidth": 0,
                            "ticks": ""
                          }
                        },
                        "type": "scattercarpet"
                      }
                    ],
                    "scattergeo": [
                      {
                        "marker": {
                          "colorbar": {
                            "outlinewidth": 0,
                            "ticks": ""
                          }
                        },
                        "type": "scattergeo"
                      }
                    ],
                    "scattergl": [
                      {
                        "marker": {
                          "colorbar": {
                            "outlinewidth": 0,
                            "ticks": ""
                          }
                        },
                        "type": "scattergl"
                      }
                    ],
                    "scattermapbox": [
                      {
                        "marker": {
                          "colorbar": {
                            "outlinewidth": 0,
                            "ticks": ""
                          }
                        },
                        "type": "scattermapbox"
                      }
                    ],
                    "scatterpolar": [
                      {
                        "marker": {
                          "colorbar": {
                            "outlinewidth": 0,
                            "ticks": ""
                          }
                        },
                        "type": "scatterpolar"
                      }
                    ],
                    "scatterpolargl": [
                      {
                        "marker": {
                          "colorbar": {
                            "outlinewidth": 0,
                            "ticks": ""
                          }
                        },
                        "type": "scatterpolargl"
                      }
                    ],
                    "scatterternary": [
                      {
                        "marker": {
                          "colorbar": {
                            "outlinewidth": 0,
                            "ticks": ""
                          }
                        },
                        "type": "scatterternary"
                      }
                    ],
                    "surface": [
                      {
                        "colorbar": {
                          "outlinewidth": 0,
                          "ticks": ""
                        },
                        "colorscale": [
                          [
                            0,
                            "#0d0887"
                          ],
                          [
                            0.1111111111111111,
                            "#46039f"
                          ],
                          [
                            0.2222222222222222,
                            "#7201a8"
                          ],
                          [
                            0.3333333333333333,
                            "#9c179e"
                          ],
                          [
                            0.4444444444444444,
                            "#bd3786"
                          ],
                          [
                            0.5555555555555556,
                            "#d8576b"
                          ],
                          [
                            0.6666666666666666,
                            "#ed7953"
                          ],
                          [
                            0.7777777777777778,
                            "#fb9f3a"
                          ],
                          [
                            0.8888888888888888,
                            "#fdca26"
                          ],
                          [
                            1,
                            "#f0f921"
                          ]
                        ],
                        "type": "surface"
                      }
                    ],
                    "table": [
                      {
                        "cells": {
                          "fill": {
                            "color": "#EBF0F8"
                          },
                          "line": {
                            "color": "white"
                          }
                        },
                        "header": {
                          "fill": {
                            "color": "#C8D4E3"
                          },
                          "line": {
                            "color": "white"
                          }
                        },
                        "type": "table"
                      }
                    ]
                  },
                  "layout": {
                    "annotationdefaults": {
                      "arrowcolor": "#2a3f5f",
                      "arrowhead": 0,
                      "arrowwidth": 1
                    },
                    "autotypenumbers": "strict",
                    "coloraxis": {
                      "colorbar": {
                        "outlinewidth": 0,
                        "ticks": ""
                      }
                    },
                    "colorscale": {
                      "diverging": [
                        [
                          0,
                          "#8e0152"
                        ],
                        [
                          0.1,
                          "#c51b7d"
                        ],
                        [
                          0.2,
                          "#de77ae"
                        ],
                        [
                          0.3,
                          "#f1b6da"
                        ],
                        [
                          0.4,
                          "#fde0ef"
                        ],
                        [
                          0.5,
                          "#f7f7f7"
                        ],
                        [
                          0.6,
                          "#e6f5d0"
                        ],
                        [
                          0.7,
                          "#b8e186"
                        ],
                        [
                          0.8,
                          "#7fbc41"
                        ],
                        [
                          0.9,
                          "#4d9221"
                        ],
                        [
                          1,
                          "#276419"
                        ]
                      ],
                      "sequential": [
                        [
                          0,
                          "#0d0887"
                        ],
                        [
                          0.1111111111111111,
                          "#46039f"
                        ],
                        [
                          0.2222222222222222,
                          "#7201a8"
                        ],
                        [
                          0.3333333333333333,
                          "#9c179e"
                        ],
                        [
                          0.4444444444444444,
                          "#bd3786"
                        ],
                        [
                          0.5555555555555556,
                          "#d8576b"
                        ],
                        [
                          0.6666666666666666,
                          "#ed7953"
                        ],
                        [
                          0.7777777777777778,
                          "#fb9f3a"
                        ],
                        [
                          0.8888888888888888,
                          "#fdca26"
                        ],
                        [
                          1,
                          "#f0f921"
                        ]
                      ],
                      "sequentialminus": [
                        [
                          0,
                          "#0d0887"
                        ],
                        [
                          0.1111111111111111,
                          "#46039f"
                        ],
                        [
                          0.2222222222222222,
                          "#7201a8"
                        ],
                        [
                          0.3333333333333333,
                          "#9c179e"
                        ],
                        [
                          0.4444444444444444,
                          "#bd3786"
                        ],
                        [
                          0.5555555555555556,
                          "#d8576b"
                        ],
                        [
                          0.6666666666666666,
                          "#ed7953"
                        ],
                        [
                          0.7777777777777778,
                          "#fb9f3a"
                        ],
                        [
                          0.8888888888888888,
                          "#fdca26"
                        ],
                        [
                          1,
                          "#f0f921"
                        ]
                      ]
                    },
                    "colorway": [
                      "#636efa",
                      "#EF553B",
                      "#00cc96",
                      "#ab63fa",
                      "#FFA15A",
                      "#19d3f3",
                      "#FF6692",
                      "#B6E880",
                      "#FF97FF",
                      "#FECB52"
                    ],
                    "font": {
                      "color": "#2a3f5f"
                    },
                    "geo": {
                      "bgcolor": "white",
                      "lakecolor": "white",
                      "landcolor": "#E5ECF6",
                      "showlakes": true,
                      "showland": true,
                      "subunitcolor": "white"
                    },
                    "hoverlabel": {
                      "align": "left"
                    },
                    "hovermode": "closest",
                    "mapbox": {
                      "style": "light"
                    },
                    "paper_bgcolor": "white",
                    "plot_bgcolor": "#E5ECF6",
                    "polar": {
                      "angularaxis": {
                        "gridcolor": "white",
                        "linecolor": "white",
                        "ticks": ""
                      },
                      "bgcolor": "#E5ECF6",
                      "radialaxis": {
                        "gridcolor": "white",
                        "linecolor": "white",
                        "ticks": ""
                      }
                    },
                    "scene": {
                      "xaxis": {
                        "backgroundcolor": "#E5ECF6",
                        "gridcolor": "white",
                        "gridwidth": 2,
                        "linecolor": "white",
                        "showbackground": true,
                        "ticks": "",
                        "zerolinecolor": "white"
                      },
                      "yaxis": {
                        "backgroundcolor": "#E5ECF6",
                        "gridcolor": "white",
                        "gridwidth": 2,
                        "linecolor": "white",
                        "showbackground": true,
                        "ticks": "",
                        "zerolinecolor": "white"
                      },
                      "zaxis": {
                        "backgroundcolor": "#E5ECF6",
                        "gridcolor": "white",
                        "gridwidth": 2,
                        "linecolor": "white",
                        "showbackground": true,
                        "ticks": "",
                        "zerolinecolor": "white"
                      }
                    },
                    "shapedefaults": {
                      "line": {
                        "color": "#2a3f5f"
                      }
                    },
                    "ternary": {
                      "aaxis": {
                        "gridcolor": "white",
                        "linecolor": "white",
                        "ticks": ""
                      },
                      "baxis": {
                        "gridcolor": "white",
                        "linecolor": "white",
                        "ticks": ""
                      },
                      "bgcolor": "#E5ECF6",
                      "caxis": {
                        "gridcolor": "white",
                        "linecolor": "white",
                        "ticks": ""
                      }
                    },
                    "title": {
                      "x": 0.05
                    },
                    "xaxis": {
                      "automargin": true,
                      "gridcolor": "white",
                      "linecolor": "white",
                      "ticks": "",
                      "title": {
                        "standoff": 15
                      },
                      "zerolinecolor": "white",
                      "zerolinewidth": 2
                    },
                    "yaxis": {
                      "automargin": true,
                      "gridcolor": "white",
                      "linecolor": "white",
                      "ticks": "",
                      "title": {
                        "standoff": 15
                      },
                      "zerolinecolor": "white",
                      "zerolinewidth": 2
                    }
                  }
                },
                "xaxis": {
                  "anchor": "y",
                  "domain": [
                    0,
                    1
                  ],
                  "title": {
                    "text": "total_attendees"
                  }
                },
                "yaxis": {
                  "anchor": "x",
                  "domain": [
                    0,
                    1
                  ],
                  "title": {
                    "text": "class_name"
                  }
                }
              }
            }
          },
          "metadata": {},
          "output_type": "display_data"
        }
      ],
      "source": [
        "top10_classes_by_attendees.sort_values(by='total_attendees',ascending=True).plot(y=\"class_name\", x=\"total_attendees\",  kind=\"barh\")\n"
      ]
    },
    {
      "cell_type": "markdown",
      "metadata": {
        "id": "EboN6BVkUPiX"
      },
      "source": [
        "# Top 10 Categories by attendees"
      ]
    },
    {
      "cell_type": "code",
      "execution_count": 26,
      "metadata": {
        "id": "sMLM486YQtar"
      },
      "outputs": [
        {
          "data": {
            "text/html": [
              "<div>\n",
              "<style scoped>\n",
              "    .dataframe tbody tr th:only-of-type {\n",
              "        vertical-align: middle;\n",
              "    }\n",
              "\n",
              "    .dataframe tbody tr th {\n",
              "        vertical-align: top;\n",
              "    }\n",
              "\n",
              "    .dataframe thead th {\n",
              "        text-align: right;\n",
              "    }\n",
              "</style>\n",
              "<table border=\"1\" class=\"dataframe\">\n",
              "  <thead>\n",
              "    <tr style=\"text-align: right;\">\n",
              "      <th></th>\n",
              "      <th>category</th>\n",
              "      <th>total_attendees</th>\n",
              "    </tr>\n",
              "  </thead>\n",
              "  <tbody>\n",
              "    <tr>\n",
              "      <th>11</th>\n",
              "      <td>Building Information Modeling (BIM)</td>\n",
              "      <td>22434</td>\n",
              "    </tr>\n",
              "    <tr>\n",
              "      <th>15</th>\n",
              "      <td>Cloud Collaboration</td>\n",
              "      <td>15480</td>\n",
              "    </tr>\n",
              "    <tr>\n",
              "      <th>25</th>\n",
              "      <td>Digital Transformation</td>\n",
              "      <td>12978</td>\n",
              "    </tr>\n",
              "    <tr>\n",
              "      <th>20</th>\n",
              "      <td>Data Management</td>\n",
              "      <td>11911</td>\n",
              "    </tr>\n",
              "    <tr>\n",
              "      <th>18</th>\n",
              "      <td>Construction Management</td>\n",
              "      <td>11431</td>\n",
              "    </tr>\n",
              "    <tr>\n",
              "      <th>26</th>\n",
              "      <td>Digital Twin</td>\n",
              "      <td>8599</td>\n",
              "    </tr>\n",
              "    <tr>\n",
              "      <th>23</th>\n",
              "      <td>Digital Delivery</td>\n",
              "      <td>8371</td>\n",
              "    </tr>\n",
              "    <tr>\n",
              "      <th>7</th>\n",
              "      <td>Automation</td>\n",
              "      <td>7917</td>\n",
              "    </tr>\n",
              "    <tr>\n",
              "      <th>13</th>\n",
              "      <td>CAD Management</td>\n",
              "      <td>7552</td>\n",
              "    </tr>\n",
              "    <tr>\n",
              "      <th>43</th>\n",
              "      <td>Model Coordination</td>\n",
              "      <td>7531</td>\n",
              "    </tr>\n",
              "  </tbody>\n",
              "</table>\n",
              "</div>"
            ],
            "text/plain": [
              "                               category  total_attendees\n",
              "11  Building Information Modeling (BIM)            22434\n",
              "15                  Cloud Collaboration            15480\n",
              "25               Digital Transformation            12978\n",
              "20                      Data Management            11911\n",
              "18              Construction Management            11431\n",
              "26                         Digital Twin             8599\n",
              "23                     Digital Delivery             8371\n",
              "7                            Automation             7917\n",
              "13                       CAD Management             7552\n",
              "43                   Model Coordination             7531"
            ]
          },
          "execution_count": 26,
          "metadata": {},
          "output_type": "execute_result"
        }
      ],
      "source": [
        "_= []\n",
        "for i, r in df_records.iterrows():\n",
        "  if r[\"category\"]:\n",
        "    for c in r[\"category\"]:\n",
        "      _.append(pd.Series({\"class_name\":r[\"class_name\"],'total_attendees': r['total_attendees'], \"category\":c }))\n",
        "      \n",
        "\n",
        "class_attendees_per_categories = pd.DataFrame(_)\n",
        "top10_classes = class_attendees_per_categories.groupby(['category'])['total_attendees'].sum().reset_index().sort_values(by='total_attendees',ascending=False).head(10)\n",
        "top10_classes"
      ]
    },
    {
      "cell_type": "code",
      "execution_count": 29,
      "metadata": {
        "id": "riW0dCb3b_wO"
      },
      "outputs": [
        {
          "data": {
            "application/vnd.plotly.v1+json": {
              "config": {
                "plotlyServerURL": "https://plot.ly"
              },
              "data": [
                {
                  "alignmentgroup": "True",
                  "hovertemplate": "category=%{x}<br>total_attendees=%{y}<extra></extra>",
                  "legendgroup": "Building Information Modeling (BIM)",
                  "marker": {
                    "color": "#636efa",
                    "pattern": {
                      "shape": ""
                    }
                  },
                  "name": "Building Information Modeling (BIM)",
                  "offsetgroup": "Building Information Modeling (BIM)",
                  "orientation": "v",
                  "showlegend": true,
                  "textposition": "auto",
                  "type": "bar",
                  "x": [
                    "Building Information Modeling (BIM)"
                  ],
                  "xaxis": "x",
                  "y": [
                    22434
                  ],
                  "yaxis": "y"
                },
                {
                  "alignmentgroup": "True",
                  "hovertemplate": "category=%{x}<br>total_attendees=%{y}<extra></extra>",
                  "legendgroup": "Cloud Collaboration",
                  "marker": {
                    "color": "#EF553B",
                    "pattern": {
                      "shape": ""
                    }
                  },
                  "name": "Cloud Collaboration",
                  "offsetgroup": "Cloud Collaboration",
                  "orientation": "v",
                  "showlegend": true,
                  "textposition": "auto",
                  "type": "bar",
                  "x": [
                    "Cloud Collaboration"
                  ],
                  "xaxis": "x",
                  "y": [
                    15480
                  ],
                  "yaxis": "y"
                },
                {
                  "alignmentgroup": "True",
                  "hovertemplate": "category=%{x}<br>total_attendees=%{y}<extra></extra>",
                  "legendgroup": "Digital Transformation",
                  "marker": {
                    "color": "#00cc96",
                    "pattern": {
                      "shape": ""
                    }
                  },
                  "name": "Digital Transformation",
                  "offsetgroup": "Digital Transformation",
                  "orientation": "v",
                  "showlegend": true,
                  "textposition": "auto",
                  "type": "bar",
                  "x": [
                    "Digital Transformation"
                  ],
                  "xaxis": "x",
                  "y": [
                    12978
                  ],
                  "yaxis": "y"
                },
                {
                  "alignmentgroup": "True",
                  "hovertemplate": "category=%{x}<br>total_attendees=%{y}<extra></extra>",
                  "legendgroup": "Data Management",
                  "marker": {
                    "color": "#ab63fa",
                    "pattern": {
                      "shape": ""
                    }
                  },
                  "name": "Data Management",
                  "offsetgroup": "Data Management",
                  "orientation": "v",
                  "showlegend": true,
                  "textposition": "auto",
                  "type": "bar",
                  "x": [
                    "Data Management"
                  ],
                  "xaxis": "x",
                  "y": [
                    11911
                  ],
                  "yaxis": "y"
                },
                {
                  "alignmentgroup": "True",
                  "hovertemplate": "category=%{x}<br>total_attendees=%{y}<extra></extra>",
                  "legendgroup": "Construction Management",
                  "marker": {
                    "color": "#FFA15A",
                    "pattern": {
                      "shape": ""
                    }
                  },
                  "name": "Construction Management",
                  "offsetgroup": "Construction Management",
                  "orientation": "v",
                  "showlegend": true,
                  "textposition": "auto",
                  "type": "bar",
                  "x": [
                    "Construction Management"
                  ],
                  "xaxis": "x",
                  "y": [
                    11431
                  ],
                  "yaxis": "y"
                },
                {
                  "alignmentgroup": "True",
                  "hovertemplate": "category=%{x}<br>total_attendees=%{y}<extra></extra>",
                  "legendgroup": "Digital Twin",
                  "marker": {
                    "color": "#19d3f3",
                    "pattern": {
                      "shape": ""
                    }
                  },
                  "name": "Digital Twin",
                  "offsetgroup": "Digital Twin",
                  "orientation": "v",
                  "showlegend": true,
                  "textposition": "auto",
                  "type": "bar",
                  "x": [
                    "Digital Twin"
                  ],
                  "xaxis": "x",
                  "y": [
                    8599
                  ],
                  "yaxis": "y"
                },
                {
                  "alignmentgroup": "True",
                  "hovertemplate": "category=%{x}<br>total_attendees=%{y}<extra></extra>",
                  "legendgroup": "Digital Delivery",
                  "marker": {
                    "color": "#FF6692",
                    "pattern": {
                      "shape": ""
                    }
                  },
                  "name": "Digital Delivery",
                  "offsetgroup": "Digital Delivery",
                  "orientation": "v",
                  "showlegend": true,
                  "textposition": "auto",
                  "type": "bar",
                  "x": [
                    "Digital Delivery"
                  ],
                  "xaxis": "x",
                  "y": [
                    8371
                  ],
                  "yaxis": "y"
                },
                {
                  "alignmentgroup": "True",
                  "hovertemplate": "category=%{x}<br>total_attendees=%{y}<extra></extra>",
                  "legendgroup": "Automation",
                  "marker": {
                    "color": "#B6E880",
                    "pattern": {
                      "shape": ""
                    }
                  },
                  "name": "Automation",
                  "offsetgroup": "Automation",
                  "orientation": "v",
                  "showlegend": true,
                  "textposition": "auto",
                  "type": "bar",
                  "x": [
                    "Automation"
                  ],
                  "xaxis": "x",
                  "y": [
                    7917
                  ],
                  "yaxis": "y"
                },
                {
                  "alignmentgroup": "True",
                  "hovertemplate": "category=%{x}<br>total_attendees=%{y}<extra></extra>",
                  "legendgroup": "CAD Management",
                  "marker": {
                    "color": "#FF97FF",
                    "pattern": {
                      "shape": ""
                    }
                  },
                  "name": "CAD Management",
                  "offsetgroup": "CAD Management",
                  "orientation": "v",
                  "showlegend": true,
                  "textposition": "auto",
                  "type": "bar",
                  "x": [
                    "CAD Management"
                  ],
                  "xaxis": "x",
                  "y": [
                    7552
                  ],
                  "yaxis": "y"
                },
                {
                  "alignmentgroup": "True",
                  "hovertemplate": "category=%{x}<br>total_attendees=%{y}<extra></extra>",
                  "legendgroup": "Model Coordination",
                  "marker": {
                    "color": "#FECB52",
                    "pattern": {
                      "shape": ""
                    }
                  },
                  "name": "Model Coordination",
                  "offsetgroup": "Model Coordination",
                  "orientation": "v",
                  "showlegend": true,
                  "textposition": "auto",
                  "type": "bar",
                  "x": [
                    "Model Coordination"
                  ],
                  "xaxis": "x",
                  "y": [
                    7531
                  ],
                  "yaxis": "y"
                }
              ],
              "layout": {
                "barmode": "relative",
                "legend": {
                  "title": {
                    "text": "category"
                  },
                  "tracegroupgap": 0
                },
                "margin": {
                  "t": 60
                },
                "template": {
                  "data": {
                    "bar": [
                      {
                        "error_x": {
                          "color": "#2a3f5f"
                        },
                        "error_y": {
                          "color": "#2a3f5f"
                        },
                        "marker": {
                          "line": {
                            "color": "#E5ECF6",
                            "width": 0.5
                          },
                          "pattern": {
                            "fillmode": "overlay",
                            "size": 10,
                            "solidity": 0.2
                          }
                        },
                        "type": "bar"
                      }
                    ],
                    "barpolar": [
                      {
                        "marker": {
                          "line": {
                            "color": "#E5ECF6",
                            "width": 0.5
                          },
                          "pattern": {
                            "fillmode": "overlay",
                            "size": 10,
                            "solidity": 0.2
                          }
                        },
                        "type": "barpolar"
                      }
                    ],
                    "carpet": [
                      {
                        "aaxis": {
                          "endlinecolor": "#2a3f5f",
                          "gridcolor": "white",
                          "linecolor": "white",
                          "minorgridcolor": "white",
                          "startlinecolor": "#2a3f5f"
                        },
                        "baxis": {
                          "endlinecolor": "#2a3f5f",
                          "gridcolor": "white",
                          "linecolor": "white",
                          "minorgridcolor": "white",
                          "startlinecolor": "#2a3f5f"
                        },
                        "type": "carpet"
                      }
                    ],
                    "choropleth": [
                      {
                        "colorbar": {
                          "outlinewidth": 0,
                          "ticks": ""
                        },
                        "type": "choropleth"
                      }
                    ],
                    "contour": [
                      {
                        "colorbar": {
                          "outlinewidth": 0,
                          "ticks": ""
                        },
                        "colorscale": [
                          [
                            0,
                            "#0d0887"
                          ],
                          [
                            0.1111111111111111,
                            "#46039f"
                          ],
                          [
                            0.2222222222222222,
                            "#7201a8"
                          ],
                          [
                            0.3333333333333333,
                            "#9c179e"
                          ],
                          [
                            0.4444444444444444,
                            "#bd3786"
                          ],
                          [
                            0.5555555555555556,
                            "#d8576b"
                          ],
                          [
                            0.6666666666666666,
                            "#ed7953"
                          ],
                          [
                            0.7777777777777778,
                            "#fb9f3a"
                          ],
                          [
                            0.8888888888888888,
                            "#fdca26"
                          ],
                          [
                            1,
                            "#f0f921"
                          ]
                        ],
                        "type": "contour"
                      }
                    ],
                    "contourcarpet": [
                      {
                        "colorbar": {
                          "outlinewidth": 0,
                          "ticks": ""
                        },
                        "type": "contourcarpet"
                      }
                    ],
                    "heatmap": [
                      {
                        "colorbar": {
                          "outlinewidth": 0,
                          "ticks": ""
                        },
                        "colorscale": [
                          [
                            0,
                            "#0d0887"
                          ],
                          [
                            0.1111111111111111,
                            "#46039f"
                          ],
                          [
                            0.2222222222222222,
                            "#7201a8"
                          ],
                          [
                            0.3333333333333333,
                            "#9c179e"
                          ],
                          [
                            0.4444444444444444,
                            "#bd3786"
                          ],
                          [
                            0.5555555555555556,
                            "#d8576b"
                          ],
                          [
                            0.6666666666666666,
                            "#ed7953"
                          ],
                          [
                            0.7777777777777778,
                            "#fb9f3a"
                          ],
                          [
                            0.8888888888888888,
                            "#fdca26"
                          ],
                          [
                            1,
                            "#f0f921"
                          ]
                        ],
                        "type": "heatmap"
                      }
                    ],
                    "heatmapgl": [
                      {
                        "colorbar": {
                          "outlinewidth": 0,
                          "ticks": ""
                        },
                        "colorscale": [
                          [
                            0,
                            "#0d0887"
                          ],
                          [
                            0.1111111111111111,
                            "#46039f"
                          ],
                          [
                            0.2222222222222222,
                            "#7201a8"
                          ],
                          [
                            0.3333333333333333,
                            "#9c179e"
                          ],
                          [
                            0.4444444444444444,
                            "#bd3786"
                          ],
                          [
                            0.5555555555555556,
                            "#d8576b"
                          ],
                          [
                            0.6666666666666666,
                            "#ed7953"
                          ],
                          [
                            0.7777777777777778,
                            "#fb9f3a"
                          ],
                          [
                            0.8888888888888888,
                            "#fdca26"
                          ],
                          [
                            1,
                            "#f0f921"
                          ]
                        ],
                        "type": "heatmapgl"
                      }
                    ],
                    "histogram": [
                      {
                        "marker": {
                          "pattern": {
                            "fillmode": "overlay",
                            "size": 10,
                            "solidity": 0.2
                          }
                        },
                        "type": "histogram"
                      }
                    ],
                    "histogram2d": [
                      {
                        "colorbar": {
                          "outlinewidth": 0,
                          "ticks": ""
                        },
                        "colorscale": [
                          [
                            0,
                            "#0d0887"
                          ],
                          [
                            0.1111111111111111,
                            "#46039f"
                          ],
                          [
                            0.2222222222222222,
                            "#7201a8"
                          ],
                          [
                            0.3333333333333333,
                            "#9c179e"
                          ],
                          [
                            0.4444444444444444,
                            "#bd3786"
                          ],
                          [
                            0.5555555555555556,
                            "#d8576b"
                          ],
                          [
                            0.6666666666666666,
                            "#ed7953"
                          ],
                          [
                            0.7777777777777778,
                            "#fb9f3a"
                          ],
                          [
                            0.8888888888888888,
                            "#fdca26"
                          ],
                          [
                            1,
                            "#f0f921"
                          ]
                        ],
                        "type": "histogram2d"
                      }
                    ],
                    "histogram2dcontour": [
                      {
                        "colorbar": {
                          "outlinewidth": 0,
                          "ticks": ""
                        },
                        "colorscale": [
                          [
                            0,
                            "#0d0887"
                          ],
                          [
                            0.1111111111111111,
                            "#46039f"
                          ],
                          [
                            0.2222222222222222,
                            "#7201a8"
                          ],
                          [
                            0.3333333333333333,
                            "#9c179e"
                          ],
                          [
                            0.4444444444444444,
                            "#bd3786"
                          ],
                          [
                            0.5555555555555556,
                            "#d8576b"
                          ],
                          [
                            0.6666666666666666,
                            "#ed7953"
                          ],
                          [
                            0.7777777777777778,
                            "#fb9f3a"
                          ],
                          [
                            0.8888888888888888,
                            "#fdca26"
                          ],
                          [
                            1,
                            "#f0f921"
                          ]
                        ],
                        "type": "histogram2dcontour"
                      }
                    ],
                    "mesh3d": [
                      {
                        "colorbar": {
                          "outlinewidth": 0,
                          "ticks": ""
                        },
                        "type": "mesh3d"
                      }
                    ],
                    "parcoords": [
                      {
                        "line": {
                          "colorbar": {
                            "outlinewidth": 0,
                            "ticks": ""
                          }
                        },
                        "type": "parcoords"
                      }
                    ],
                    "pie": [
                      {
                        "automargin": true,
                        "type": "pie"
                      }
                    ],
                    "scatter": [
                      {
                        "fillpattern": {
                          "fillmode": "overlay",
                          "size": 10,
                          "solidity": 0.2
                        },
                        "type": "scatter"
                      }
                    ],
                    "scatter3d": [
                      {
                        "line": {
                          "colorbar": {
                            "outlinewidth": 0,
                            "ticks": ""
                          }
                        },
                        "marker": {
                          "colorbar": {
                            "outlinewidth": 0,
                            "ticks": ""
                          }
                        },
                        "type": "scatter3d"
                      }
                    ],
                    "scattercarpet": [
                      {
                        "marker": {
                          "colorbar": {
                            "outlinewidth": 0,
                            "ticks": ""
                          }
                        },
                        "type": "scattercarpet"
                      }
                    ],
                    "scattergeo": [
                      {
                        "marker": {
                          "colorbar": {
                            "outlinewidth": 0,
                            "ticks": ""
                          }
                        },
                        "type": "scattergeo"
                      }
                    ],
                    "scattergl": [
                      {
                        "marker": {
                          "colorbar": {
                            "outlinewidth": 0,
                            "ticks": ""
                          }
                        },
                        "type": "scattergl"
                      }
                    ],
                    "scattermapbox": [
                      {
                        "marker": {
                          "colorbar": {
                            "outlinewidth": 0,
                            "ticks": ""
                          }
                        },
                        "type": "scattermapbox"
                      }
                    ],
                    "scatterpolar": [
                      {
                        "marker": {
                          "colorbar": {
                            "outlinewidth": 0,
                            "ticks": ""
                          }
                        },
                        "type": "scatterpolar"
                      }
                    ],
                    "scatterpolargl": [
                      {
                        "marker": {
                          "colorbar": {
                            "outlinewidth": 0,
                            "ticks": ""
                          }
                        },
                        "type": "scatterpolargl"
                      }
                    ],
                    "scatterternary": [
                      {
                        "marker": {
                          "colorbar": {
                            "outlinewidth": 0,
                            "ticks": ""
                          }
                        },
                        "type": "scatterternary"
                      }
                    ],
                    "surface": [
                      {
                        "colorbar": {
                          "outlinewidth": 0,
                          "ticks": ""
                        },
                        "colorscale": [
                          [
                            0,
                            "#0d0887"
                          ],
                          [
                            0.1111111111111111,
                            "#46039f"
                          ],
                          [
                            0.2222222222222222,
                            "#7201a8"
                          ],
                          [
                            0.3333333333333333,
                            "#9c179e"
                          ],
                          [
                            0.4444444444444444,
                            "#bd3786"
                          ],
                          [
                            0.5555555555555556,
                            "#d8576b"
                          ],
                          [
                            0.6666666666666666,
                            "#ed7953"
                          ],
                          [
                            0.7777777777777778,
                            "#fb9f3a"
                          ],
                          [
                            0.8888888888888888,
                            "#fdca26"
                          ],
                          [
                            1,
                            "#f0f921"
                          ]
                        ],
                        "type": "surface"
                      }
                    ],
                    "table": [
                      {
                        "cells": {
                          "fill": {
                            "color": "#EBF0F8"
                          },
                          "line": {
                            "color": "white"
                          }
                        },
                        "header": {
                          "fill": {
                            "color": "#C8D4E3"
                          },
                          "line": {
                            "color": "white"
                          }
                        },
                        "type": "table"
                      }
                    ]
                  },
                  "layout": {
                    "annotationdefaults": {
                      "arrowcolor": "#2a3f5f",
                      "arrowhead": 0,
                      "arrowwidth": 1
                    },
                    "autotypenumbers": "strict",
                    "coloraxis": {
                      "colorbar": {
                        "outlinewidth": 0,
                        "ticks": ""
                      }
                    },
                    "colorscale": {
                      "diverging": [
                        [
                          0,
                          "#8e0152"
                        ],
                        [
                          0.1,
                          "#c51b7d"
                        ],
                        [
                          0.2,
                          "#de77ae"
                        ],
                        [
                          0.3,
                          "#f1b6da"
                        ],
                        [
                          0.4,
                          "#fde0ef"
                        ],
                        [
                          0.5,
                          "#f7f7f7"
                        ],
                        [
                          0.6,
                          "#e6f5d0"
                        ],
                        [
                          0.7,
                          "#b8e186"
                        ],
                        [
                          0.8,
                          "#7fbc41"
                        ],
                        [
                          0.9,
                          "#4d9221"
                        ],
                        [
                          1,
                          "#276419"
                        ]
                      ],
                      "sequential": [
                        [
                          0,
                          "#0d0887"
                        ],
                        [
                          0.1111111111111111,
                          "#46039f"
                        ],
                        [
                          0.2222222222222222,
                          "#7201a8"
                        ],
                        [
                          0.3333333333333333,
                          "#9c179e"
                        ],
                        [
                          0.4444444444444444,
                          "#bd3786"
                        ],
                        [
                          0.5555555555555556,
                          "#d8576b"
                        ],
                        [
                          0.6666666666666666,
                          "#ed7953"
                        ],
                        [
                          0.7777777777777778,
                          "#fb9f3a"
                        ],
                        [
                          0.8888888888888888,
                          "#fdca26"
                        ],
                        [
                          1,
                          "#f0f921"
                        ]
                      ],
                      "sequentialminus": [
                        [
                          0,
                          "#0d0887"
                        ],
                        [
                          0.1111111111111111,
                          "#46039f"
                        ],
                        [
                          0.2222222222222222,
                          "#7201a8"
                        ],
                        [
                          0.3333333333333333,
                          "#9c179e"
                        ],
                        [
                          0.4444444444444444,
                          "#bd3786"
                        ],
                        [
                          0.5555555555555556,
                          "#d8576b"
                        ],
                        [
                          0.6666666666666666,
                          "#ed7953"
                        ],
                        [
                          0.7777777777777778,
                          "#fb9f3a"
                        ],
                        [
                          0.8888888888888888,
                          "#fdca26"
                        ],
                        [
                          1,
                          "#f0f921"
                        ]
                      ]
                    },
                    "colorway": [
                      "#636efa",
                      "#EF553B",
                      "#00cc96",
                      "#ab63fa",
                      "#FFA15A",
                      "#19d3f3",
                      "#FF6692",
                      "#B6E880",
                      "#FF97FF",
                      "#FECB52"
                    ],
                    "font": {
                      "color": "#2a3f5f"
                    },
                    "geo": {
                      "bgcolor": "white",
                      "lakecolor": "white",
                      "landcolor": "#E5ECF6",
                      "showlakes": true,
                      "showland": true,
                      "subunitcolor": "white"
                    },
                    "hoverlabel": {
                      "align": "left"
                    },
                    "hovermode": "closest",
                    "mapbox": {
                      "style": "light"
                    },
                    "paper_bgcolor": "white",
                    "plot_bgcolor": "#E5ECF6",
                    "polar": {
                      "angularaxis": {
                        "gridcolor": "white",
                        "linecolor": "white",
                        "ticks": ""
                      },
                      "bgcolor": "#E5ECF6",
                      "radialaxis": {
                        "gridcolor": "white",
                        "linecolor": "white",
                        "ticks": ""
                      }
                    },
                    "scene": {
                      "xaxis": {
                        "backgroundcolor": "#E5ECF6",
                        "gridcolor": "white",
                        "gridwidth": 2,
                        "linecolor": "white",
                        "showbackground": true,
                        "ticks": "",
                        "zerolinecolor": "white"
                      },
                      "yaxis": {
                        "backgroundcolor": "#E5ECF6",
                        "gridcolor": "white",
                        "gridwidth": 2,
                        "linecolor": "white",
                        "showbackground": true,
                        "ticks": "",
                        "zerolinecolor": "white"
                      },
                      "zaxis": {
                        "backgroundcolor": "#E5ECF6",
                        "gridcolor": "white",
                        "gridwidth": 2,
                        "linecolor": "white",
                        "showbackground": true,
                        "ticks": "",
                        "zerolinecolor": "white"
                      }
                    },
                    "shapedefaults": {
                      "line": {
                        "color": "#2a3f5f"
                      }
                    },
                    "ternary": {
                      "aaxis": {
                        "gridcolor": "white",
                        "linecolor": "white",
                        "ticks": ""
                      },
                      "baxis": {
                        "gridcolor": "white",
                        "linecolor": "white",
                        "ticks": ""
                      },
                      "bgcolor": "#E5ECF6",
                      "caxis": {
                        "gridcolor": "white",
                        "linecolor": "white",
                        "ticks": ""
                      }
                    },
                    "title": {
                      "x": 0.05
                    },
                    "xaxis": {
                      "automargin": true,
                      "gridcolor": "white",
                      "linecolor": "white",
                      "ticks": "",
                      "title": {
                        "standoff": 15
                      },
                      "zerolinecolor": "white",
                      "zerolinewidth": 2
                    },
                    "yaxis": {
                      "automargin": true,
                      "gridcolor": "white",
                      "linecolor": "white",
                      "ticks": "",
                      "title": {
                        "standoff": 15
                      },
                      "zerolinecolor": "white",
                      "zerolinewidth": 2
                    }
                  }
                },
                "xaxis": {
                  "anchor": "y",
                  "categoryarray": [
                    "Building Information Modeling (BIM)",
                    "Cloud Collaboration",
                    "Digital Transformation",
                    "Data Management",
                    "Construction Management",
                    "Digital Twin",
                    "Digital Delivery",
                    "Automation",
                    "CAD Management",
                    "Model Coordination"
                  ],
                  "categoryorder": "array",
                  "domain": [
                    0,
                    1
                  ],
                  "title": {
                    "text": "category"
                  }
                },
                "yaxis": {
                  "anchor": "x",
                  "domain": [
                    0,
                    1
                  ],
                  "title": {
                    "text": "total_attendees"
                  }
                }
              }
            }
          },
          "metadata": {},
          "output_type": "display_data"
        }
      ],
      "source": [
        "top10_classes.plot(x=\"category\", y=\"total_attendees\",  kind=\"bar\", color=\"category\")"
      ]
    },
    {
      "cell_type": "markdown",
      "metadata": {
        "id": "MXh3os9dU7jk"
      },
      "source": [
        "# Top 10 talks by software\n",
        "\n",
        "\n"
      ]
    },
    {
      "cell_type": "code",
      "execution_count": 31,
      "metadata": {
        "id": "w7UZrFmgSfUc"
      },
      "outputs": [
        {
          "data": {
            "text/html": [
              "<div>\n",
              "<style scoped>\n",
              "    .dataframe tbody tr th:only-of-type {\n",
              "        vertical-align: middle;\n",
              "    }\n",
              "\n",
              "    .dataframe tbody tr th {\n",
              "        vertical-align: top;\n",
              "    }\n",
              "\n",
              "    .dataframe thead th {\n",
              "        text-align: right;\n",
              "    }\n",
              "</style>\n",
              "<table border=\"1\" class=\"dataframe\">\n",
              "  <thead>\n",
              "    <tr style=\"text-align: right;\">\n",
              "      <th></th>\n",
              "      <th>products</th>\n",
              "      <th>total_attendees</th>\n",
              "    </tr>\n",
              "  </thead>\n",
              "  <tbody>\n",
              "    <tr>\n",
              "      <th>32</th>\n",
              "      <td>Revit</td>\n",
              "      <td>21702</td>\n",
              "    </tr>\n",
              "    <tr>\n",
              "      <th>3</th>\n",
              "      <td>AutoCAD</td>\n",
              "      <td>9351</td>\n",
              "    </tr>\n",
              "    <tr>\n",
              "      <th>11</th>\n",
              "      <td>Autodesk Docs</td>\n",
              "      <td>8706</td>\n",
              "    </tr>\n",
              "    <tr>\n",
              "      <th>7</th>\n",
              "      <td>Autodesk BIM Collaborate</td>\n",
              "      <td>8579</td>\n",
              "    </tr>\n",
              "    <tr>\n",
              "      <th>10</th>\n",
              "      <td>Autodesk Construction Cloud Connect</td>\n",
              "      <td>7499</td>\n",
              "    </tr>\n",
              "    <tr>\n",
              "      <th>17</th>\n",
              "      <td>Civil 3D</td>\n",
              "      <td>7306</td>\n",
              "    </tr>\n",
              "    <tr>\n",
              "      <th>21</th>\n",
              "      <td>Forge</td>\n",
              "      <td>6902</td>\n",
              "    </tr>\n",
              "    <tr>\n",
              "      <th>15</th>\n",
              "      <td>BIM 360 Docs</td>\n",
              "      <td>6767</td>\n",
              "    </tr>\n",
              "    <tr>\n",
              "      <th>8</th>\n",
              "      <td>Autodesk BIM Collaborate Pro</td>\n",
              "      <td>6683</td>\n",
              "    </tr>\n",
              "    <tr>\n",
              "      <th>9</th>\n",
              "      <td>Autodesk Build</td>\n",
              "      <td>6213</td>\n",
              "    </tr>\n",
              "  </tbody>\n",
              "</table>\n",
              "</div>"
            ],
            "text/plain": [
              "                               products  total_attendees\n",
              "32                                Revit            21702\n",
              "3                               AutoCAD             9351\n",
              "11                        Autodesk Docs             8706\n",
              "7              Autodesk BIM Collaborate             8579\n",
              "10  Autodesk Construction Cloud Connect             7499\n",
              "17                             Civil 3D             7306\n",
              "21                                Forge             6902\n",
              "15                         BIM 360 Docs             6767\n",
              "8          Autodesk BIM Collaborate Pro             6683\n",
              "9                        Autodesk Build             6213"
            ]
          },
          "execution_count": 31,
          "metadata": {},
          "output_type": "execute_result"
        }
      ],
      "source": [
        "_= []\n",
        "for i, r in df_records.iterrows():\n",
        "  if r[\"products\"]:\n",
        "    for product in r[\"products\"]:\n",
        "      _.append(pd.Series({\"class_name\":r[\"class_name\"],'total_attendees': r['total_attendees'], \"products\":product }))\n",
        "      \n",
        "\n",
        "class_attendes_per_software = pd.DataFrame(_)\n",
        "top10_classes_by_soft = class_attendes_per_software.groupby(['products'])['total_attendees'].sum().reset_index().sort_values(by='total_attendees',ascending=False).head(10)\n",
        "top10_classes_by_soft\n"
      ]
    },
    {
      "cell_type": "code",
      "execution_count": 34,
      "metadata": {
        "id": "06JwIB3rfO3E"
      },
      "outputs": [
        {
          "data": {
            "application/vnd.plotly.v1+json": {
              "config": {
                "plotlyServerURL": "https://plot.ly"
              },
              "data": [
                {
                  "alignmentgroup": "True",
                  "hovertemplate": "products=%{x}<br>total_attendees=%{y}<extra></extra>",
                  "legendgroup": "Revit",
                  "marker": {
                    "color": "#636efa",
                    "pattern": {
                      "shape": ""
                    }
                  },
                  "name": "Revit",
                  "offsetgroup": "Revit",
                  "orientation": "v",
                  "showlegend": true,
                  "textposition": "auto",
                  "type": "bar",
                  "x": [
                    "Revit"
                  ],
                  "xaxis": "x",
                  "y": [
                    21702
                  ],
                  "yaxis": "y"
                },
                {
                  "alignmentgroup": "True",
                  "hovertemplate": "products=%{x}<br>total_attendees=%{y}<extra></extra>",
                  "legendgroup": "AutoCAD",
                  "marker": {
                    "color": "#EF553B",
                    "pattern": {
                      "shape": ""
                    }
                  },
                  "name": "AutoCAD",
                  "offsetgroup": "AutoCAD",
                  "orientation": "v",
                  "showlegend": true,
                  "textposition": "auto",
                  "type": "bar",
                  "x": [
                    "AutoCAD"
                  ],
                  "xaxis": "x",
                  "y": [
                    9351
                  ],
                  "yaxis": "y"
                },
                {
                  "alignmentgroup": "True",
                  "hovertemplate": "products=%{x}<br>total_attendees=%{y}<extra></extra>",
                  "legendgroup": "Autodesk Docs",
                  "marker": {
                    "color": "#00cc96",
                    "pattern": {
                      "shape": ""
                    }
                  },
                  "name": "Autodesk Docs",
                  "offsetgroup": "Autodesk Docs",
                  "orientation": "v",
                  "showlegend": true,
                  "textposition": "auto",
                  "type": "bar",
                  "x": [
                    "Autodesk Docs"
                  ],
                  "xaxis": "x",
                  "y": [
                    8706
                  ],
                  "yaxis": "y"
                },
                {
                  "alignmentgroup": "True",
                  "hovertemplate": "products=%{x}<br>total_attendees=%{y}<extra></extra>",
                  "legendgroup": "Autodesk BIM Collaborate",
                  "marker": {
                    "color": "#ab63fa",
                    "pattern": {
                      "shape": ""
                    }
                  },
                  "name": "Autodesk BIM Collaborate",
                  "offsetgroup": "Autodesk BIM Collaborate",
                  "orientation": "v",
                  "showlegend": true,
                  "textposition": "auto",
                  "type": "bar",
                  "x": [
                    "Autodesk BIM Collaborate"
                  ],
                  "xaxis": "x",
                  "y": [
                    8579
                  ],
                  "yaxis": "y"
                },
                {
                  "alignmentgroup": "True",
                  "hovertemplate": "products=%{x}<br>total_attendees=%{y}<extra></extra>",
                  "legendgroup": "Autodesk Construction Cloud Connect",
                  "marker": {
                    "color": "#FFA15A",
                    "pattern": {
                      "shape": ""
                    }
                  },
                  "name": "Autodesk Construction Cloud Connect",
                  "offsetgroup": "Autodesk Construction Cloud Connect",
                  "orientation": "v",
                  "showlegend": true,
                  "textposition": "auto",
                  "type": "bar",
                  "x": [
                    "Autodesk Construction Cloud Connect"
                  ],
                  "xaxis": "x",
                  "y": [
                    7499
                  ],
                  "yaxis": "y"
                },
                {
                  "alignmentgroup": "True",
                  "hovertemplate": "products=%{x}<br>total_attendees=%{y}<extra></extra>",
                  "legendgroup": "Civil 3D",
                  "marker": {
                    "color": "#19d3f3",
                    "pattern": {
                      "shape": ""
                    }
                  },
                  "name": "Civil 3D",
                  "offsetgroup": "Civil 3D",
                  "orientation": "v",
                  "showlegend": true,
                  "textposition": "auto",
                  "type": "bar",
                  "x": [
                    "Civil 3D"
                  ],
                  "xaxis": "x",
                  "y": [
                    7306
                  ],
                  "yaxis": "y"
                },
                {
                  "alignmentgroup": "True",
                  "hovertemplate": "products=%{x}<br>total_attendees=%{y}<extra></extra>",
                  "legendgroup": "Forge",
                  "marker": {
                    "color": "#FF6692",
                    "pattern": {
                      "shape": ""
                    }
                  },
                  "name": "Forge",
                  "offsetgroup": "Forge",
                  "orientation": "v",
                  "showlegend": true,
                  "textposition": "auto",
                  "type": "bar",
                  "x": [
                    "Forge"
                  ],
                  "xaxis": "x",
                  "y": [
                    6902
                  ],
                  "yaxis": "y"
                },
                {
                  "alignmentgroup": "True",
                  "hovertemplate": "products=%{x}<br>total_attendees=%{y}<extra></extra>",
                  "legendgroup": "BIM 360 Docs",
                  "marker": {
                    "color": "#B6E880",
                    "pattern": {
                      "shape": ""
                    }
                  },
                  "name": "BIM 360 Docs",
                  "offsetgroup": "BIM 360 Docs",
                  "orientation": "v",
                  "showlegend": true,
                  "textposition": "auto",
                  "type": "bar",
                  "x": [
                    "BIM 360 Docs"
                  ],
                  "xaxis": "x",
                  "y": [
                    6767
                  ],
                  "yaxis": "y"
                },
                {
                  "alignmentgroup": "True",
                  "hovertemplate": "products=%{x}<br>total_attendees=%{y}<extra></extra>",
                  "legendgroup": "Autodesk BIM Collaborate Pro",
                  "marker": {
                    "color": "#FF97FF",
                    "pattern": {
                      "shape": ""
                    }
                  },
                  "name": "Autodesk BIM Collaborate Pro",
                  "offsetgroup": "Autodesk BIM Collaborate Pro",
                  "orientation": "v",
                  "showlegend": true,
                  "textposition": "auto",
                  "type": "bar",
                  "x": [
                    "Autodesk BIM Collaborate Pro"
                  ],
                  "xaxis": "x",
                  "y": [
                    6683
                  ],
                  "yaxis": "y"
                },
                {
                  "alignmentgroup": "True",
                  "hovertemplate": "products=%{x}<br>total_attendees=%{y}<extra></extra>",
                  "legendgroup": "Autodesk Build",
                  "marker": {
                    "color": "#FECB52",
                    "pattern": {
                      "shape": ""
                    }
                  },
                  "name": "Autodesk Build",
                  "offsetgroup": "Autodesk Build",
                  "orientation": "v",
                  "showlegend": true,
                  "textposition": "auto",
                  "type": "bar",
                  "x": [
                    "Autodesk Build"
                  ],
                  "xaxis": "x",
                  "y": [
                    6213
                  ],
                  "yaxis": "y"
                }
              ],
              "layout": {
                "barmode": "relative",
                "legend": {
                  "title": {
                    "text": "products"
                  },
                  "tracegroupgap": 0
                },
                "margin": {
                  "t": 60
                },
                "template": {
                  "data": {
                    "bar": [
                      {
                        "error_x": {
                          "color": "#2a3f5f"
                        },
                        "error_y": {
                          "color": "#2a3f5f"
                        },
                        "marker": {
                          "line": {
                            "color": "#E5ECF6",
                            "width": 0.5
                          },
                          "pattern": {
                            "fillmode": "overlay",
                            "size": 10,
                            "solidity": 0.2
                          }
                        },
                        "type": "bar"
                      }
                    ],
                    "barpolar": [
                      {
                        "marker": {
                          "line": {
                            "color": "#E5ECF6",
                            "width": 0.5
                          },
                          "pattern": {
                            "fillmode": "overlay",
                            "size": 10,
                            "solidity": 0.2
                          }
                        },
                        "type": "barpolar"
                      }
                    ],
                    "carpet": [
                      {
                        "aaxis": {
                          "endlinecolor": "#2a3f5f",
                          "gridcolor": "white",
                          "linecolor": "white",
                          "minorgridcolor": "white",
                          "startlinecolor": "#2a3f5f"
                        },
                        "baxis": {
                          "endlinecolor": "#2a3f5f",
                          "gridcolor": "white",
                          "linecolor": "white",
                          "minorgridcolor": "white",
                          "startlinecolor": "#2a3f5f"
                        },
                        "type": "carpet"
                      }
                    ],
                    "choropleth": [
                      {
                        "colorbar": {
                          "outlinewidth": 0,
                          "ticks": ""
                        },
                        "type": "choropleth"
                      }
                    ],
                    "contour": [
                      {
                        "colorbar": {
                          "outlinewidth": 0,
                          "ticks": ""
                        },
                        "colorscale": [
                          [
                            0,
                            "#0d0887"
                          ],
                          [
                            0.1111111111111111,
                            "#46039f"
                          ],
                          [
                            0.2222222222222222,
                            "#7201a8"
                          ],
                          [
                            0.3333333333333333,
                            "#9c179e"
                          ],
                          [
                            0.4444444444444444,
                            "#bd3786"
                          ],
                          [
                            0.5555555555555556,
                            "#d8576b"
                          ],
                          [
                            0.6666666666666666,
                            "#ed7953"
                          ],
                          [
                            0.7777777777777778,
                            "#fb9f3a"
                          ],
                          [
                            0.8888888888888888,
                            "#fdca26"
                          ],
                          [
                            1,
                            "#f0f921"
                          ]
                        ],
                        "type": "contour"
                      }
                    ],
                    "contourcarpet": [
                      {
                        "colorbar": {
                          "outlinewidth": 0,
                          "ticks": ""
                        },
                        "type": "contourcarpet"
                      }
                    ],
                    "heatmap": [
                      {
                        "colorbar": {
                          "outlinewidth": 0,
                          "ticks": ""
                        },
                        "colorscale": [
                          [
                            0,
                            "#0d0887"
                          ],
                          [
                            0.1111111111111111,
                            "#46039f"
                          ],
                          [
                            0.2222222222222222,
                            "#7201a8"
                          ],
                          [
                            0.3333333333333333,
                            "#9c179e"
                          ],
                          [
                            0.4444444444444444,
                            "#bd3786"
                          ],
                          [
                            0.5555555555555556,
                            "#d8576b"
                          ],
                          [
                            0.6666666666666666,
                            "#ed7953"
                          ],
                          [
                            0.7777777777777778,
                            "#fb9f3a"
                          ],
                          [
                            0.8888888888888888,
                            "#fdca26"
                          ],
                          [
                            1,
                            "#f0f921"
                          ]
                        ],
                        "type": "heatmap"
                      }
                    ],
                    "heatmapgl": [
                      {
                        "colorbar": {
                          "outlinewidth": 0,
                          "ticks": ""
                        },
                        "colorscale": [
                          [
                            0,
                            "#0d0887"
                          ],
                          [
                            0.1111111111111111,
                            "#46039f"
                          ],
                          [
                            0.2222222222222222,
                            "#7201a8"
                          ],
                          [
                            0.3333333333333333,
                            "#9c179e"
                          ],
                          [
                            0.4444444444444444,
                            "#bd3786"
                          ],
                          [
                            0.5555555555555556,
                            "#d8576b"
                          ],
                          [
                            0.6666666666666666,
                            "#ed7953"
                          ],
                          [
                            0.7777777777777778,
                            "#fb9f3a"
                          ],
                          [
                            0.8888888888888888,
                            "#fdca26"
                          ],
                          [
                            1,
                            "#f0f921"
                          ]
                        ],
                        "type": "heatmapgl"
                      }
                    ],
                    "histogram": [
                      {
                        "marker": {
                          "pattern": {
                            "fillmode": "overlay",
                            "size": 10,
                            "solidity": 0.2
                          }
                        },
                        "type": "histogram"
                      }
                    ],
                    "histogram2d": [
                      {
                        "colorbar": {
                          "outlinewidth": 0,
                          "ticks": ""
                        },
                        "colorscale": [
                          [
                            0,
                            "#0d0887"
                          ],
                          [
                            0.1111111111111111,
                            "#46039f"
                          ],
                          [
                            0.2222222222222222,
                            "#7201a8"
                          ],
                          [
                            0.3333333333333333,
                            "#9c179e"
                          ],
                          [
                            0.4444444444444444,
                            "#bd3786"
                          ],
                          [
                            0.5555555555555556,
                            "#d8576b"
                          ],
                          [
                            0.6666666666666666,
                            "#ed7953"
                          ],
                          [
                            0.7777777777777778,
                            "#fb9f3a"
                          ],
                          [
                            0.8888888888888888,
                            "#fdca26"
                          ],
                          [
                            1,
                            "#f0f921"
                          ]
                        ],
                        "type": "histogram2d"
                      }
                    ],
                    "histogram2dcontour": [
                      {
                        "colorbar": {
                          "outlinewidth": 0,
                          "ticks": ""
                        },
                        "colorscale": [
                          [
                            0,
                            "#0d0887"
                          ],
                          [
                            0.1111111111111111,
                            "#46039f"
                          ],
                          [
                            0.2222222222222222,
                            "#7201a8"
                          ],
                          [
                            0.3333333333333333,
                            "#9c179e"
                          ],
                          [
                            0.4444444444444444,
                            "#bd3786"
                          ],
                          [
                            0.5555555555555556,
                            "#d8576b"
                          ],
                          [
                            0.6666666666666666,
                            "#ed7953"
                          ],
                          [
                            0.7777777777777778,
                            "#fb9f3a"
                          ],
                          [
                            0.8888888888888888,
                            "#fdca26"
                          ],
                          [
                            1,
                            "#f0f921"
                          ]
                        ],
                        "type": "histogram2dcontour"
                      }
                    ],
                    "mesh3d": [
                      {
                        "colorbar": {
                          "outlinewidth": 0,
                          "ticks": ""
                        },
                        "type": "mesh3d"
                      }
                    ],
                    "parcoords": [
                      {
                        "line": {
                          "colorbar": {
                            "outlinewidth": 0,
                            "ticks": ""
                          }
                        },
                        "type": "parcoords"
                      }
                    ],
                    "pie": [
                      {
                        "automargin": true,
                        "type": "pie"
                      }
                    ],
                    "scatter": [
                      {
                        "fillpattern": {
                          "fillmode": "overlay",
                          "size": 10,
                          "solidity": 0.2
                        },
                        "type": "scatter"
                      }
                    ],
                    "scatter3d": [
                      {
                        "line": {
                          "colorbar": {
                            "outlinewidth": 0,
                            "ticks": ""
                          }
                        },
                        "marker": {
                          "colorbar": {
                            "outlinewidth": 0,
                            "ticks": ""
                          }
                        },
                        "type": "scatter3d"
                      }
                    ],
                    "scattercarpet": [
                      {
                        "marker": {
                          "colorbar": {
                            "outlinewidth": 0,
                            "ticks": ""
                          }
                        },
                        "type": "scattercarpet"
                      }
                    ],
                    "scattergeo": [
                      {
                        "marker": {
                          "colorbar": {
                            "outlinewidth": 0,
                            "ticks": ""
                          }
                        },
                        "type": "scattergeo"
                      }
                    ],
                    "scattergl": [
                      {
                        "marker": {
                          "colorbar": {
                            "outlinewidth": 0,
                            "ticks": ""
                          }
                        },
                        "type": "scattergl"
                      }
                    ],
                    "scattermapbox": [
                      {
                        "marker": {
                          "colorbar": {
                            "outlinewidth": 0,
                            "ticks": ""
                          }
                        },
                        "type": "scattermapbox"
                      }
                    ],
                    "scatterpolar": [
                      {
                        "marker": {
                          "colorbar": {
                            "outlinewidth": 0,
                            "ticks": ""
                          }
                        },
                        "type": "scatterpolar"
                      }
                    ],
                    "scatterpolargl": [
                      {
                        "marker": {
                          "colorbar": {
                            "outlinewidth": 0,
                            "ticks": ""
                          }
                        },
                        "type": "scatterpolargl"
                      }
                    ],
                    "scatterternary": [
                      {
                        "marker": {
                          "colorbar": {
                            "outlinewidth": 0,
                            "ticks": ""
                          }
                        },
                        "type": "scatterternary"
                      }
                    ],
                    "surface": [
                      {
                        "colorbar": {
                          "outlinewidth": 0,
                          "ticks": ""
                        },
                        "colorscale": [
                          [
                            0,
                            "#0d0887"
                          ],
                          [
                            0.1111111111111111,
                            "#46039f"
                          ],
                          [
                            0.2222222222222222,
                            "#7201a8"
                          ],
                          [
                            0.3333333333333333,
                            "#9c179e"
                          ],
                          [
                            0.4444444444444444,
                            "#bd3786"
                          ],
                          [
                            0.5555555555555556,
                            "#d8576b"
                          ],
                          [
                            0.6666666666666666,
                            "#ed7953"
                          ],
                          [
                            0.7777777777777778,
                            "#fb9f3a"
                          ],
                          [
                            0.8888888888888888,
                            "#fdca26"
                          ],
                          [
                            1,
                            "#f0f921"
                          ]
                        ],
                        "type": "surface"
                      }
                    ],
                    "table": [
                      {
                        "cells": {
                          "fill": {
                            "color": "#EBF0F8"
                          },
                          "line": {
                            "color": "white"
                          }
                        },
                        "header": {
                          "fill": {
                            "color": "#C8D4E3"
                          },
                          "line": {
                            "color": "white"
                          }
                        },
                        "type": "table"
                      }
                    ]
                  },
                  "layout": {
                    "annotationdefaults": {
                      "arrowcolor": "#2a3f5f",
                      "arrowhead": 0,
                      "arrowwidth": 1
                    },
                    "autotypenumbers": "strict",
                    "coloraxis": {
                      "colorbar": {
                        "outlinewidth": 0,
                        "ticks": ""
                      }
                    },
                    "colorscale": {
                      "diverging": [
                        [
                          0,
                          "#8e0152"
                        ],
                        [
                          0.1,
                          "#c51b7d"
                        ],
                        [
                          0.2,
                          "#de77ae"
                        ],
                        [
                          0.3,
                          "#f1b6da"
                        ],
                        [
                          0.4,
                          "#fde0ef"
                        ],
                        [
                          0.5,
                          "#f7f7f7"
                        ],
                        [
                          0.6,
                          "#e6f5d0"
                        ],
                        [
                          0.7,
                          "#b8e186"
                        ],
                        [
                          0.8,
                          "#7fbc41"
                        ],
                        [
                          0.9,
                          "#4d9221"
                        ],
                        [
                          1,
                          "#276419"
                        ]
                      ],
                      "sequential": [
                        [
                          0,
                          "#0d0887"
                        ],
                        [
                          0.1111111111111111,
                          "#46039f"
                        ],
                        [
                          0.2222222222222222,
                          "#7201a8"
                        ],
                        [
                          0.3333333333333333,
                          "#9c179e"
                        ],
                        [
                          0.4444444444444444,
                          "#bd3786"
                        ],
                        [
                          0.5555555555555556,
                          "#d8576b"
                        ],
                        [
                          0.6666666666666666,
                          "#ed7953"
                        ],
                        [
                          0.7777777777777778,
                          "#fb9f3a"
                        ],
                        [
                          0.8888888888888888,
                          "#fdca26"
                        ],
                        [
                          1,
                          "#f0f921"
                        ]
                      ],
                      "sequentialminus": [
                        [
                          0,
                          "#0d0887"
                        ],
                        [
                          0.1111111111111111,
                          "#46039f"
                        ],
                        [
                          0.2222222222222222,
                          "#7201a8"
                        ],
                        [
                          0.3333333333333333,
                          "#9c179e"
                        ],
                        [
                          0.4444444444444444,
                          "#bd3786"
                        ],
                        [
                          0.5555555555555556,
                          "#d8576b"
                        ],
                        [
                          0.6666666666666666,
                          "#ed7953"
                        ],
                        [
                          0.7777777777777778,
                          "#fb9f3a"
                        ],
                        [
                          0.8888888888888888,
                          "#fdca26"
                        ],
                        [
                          1,
                          "#f0f921"
                        ]
                      ]
                    },
                    "colorway": [
                      "#636efa",
                      "#EF553B",
                      "#00cc96",
                      "#ab63fa",
                      "#FFA15A",
                      "#19d3f3",
                      "#FF6692",
                      "#B6E880",
                      "#FF97FF",
                      "#FECB52"
                    ],
                    "font": {
                      "color": "#2a3f5f"
                    },
                    "geo": {
                      "bgcolor": "white",
                      "lakecolor": "white",
                      "landcolor": "#E5ECF6",
                      "showlakes": true,
                      "showland": true,
                      "subunitcolor": "white"
                    },
                    "hoverlabel": {
                      "align": "left"
                    },
                    "hovermode": "closest",
                    "mapbox": {
                      "style": "light"
                    },
                    "paper_bgcolor": "white",
                    "plot_bgcolor": "#E5ECF6",
                    "polar": {
                      "angularaxis": {
                        "gridcolor": "white",
                        "linecolor": "white",
                        "ticks": ""
                      },
                      "bgcolor": "#E5ECF6",
                      "radialaxis": {
                        "gridcolor": "white",
                        "linecolor": "white",
                        "ticks": ""
                      }
                    },
                    "scene": {
                      "xaxis": {
                        "backgroundcolor": "#E5ECF6",
                        "gridcolor": "white",
                        "gridwidth": 2,
                        "linecolor": "white",
                        "showbackground": true,
                        "ticks": "",
                        "zerolinecolor": "white"
                      },
                      "yaxis": {
                        "backgroundcolor": "#E5ECF6",
                        "gridcolor": "white",
                        "gridwidth": 2,
                        "linecolor": "white",
                        "showbackground": true,
                        "ticks": "",
                        "zerolinecolor": "white"
                      },
                      "zaxis": {
                        "backgroundcolor": "#E5ECF6",
                        "gridcolor": "white",
                        "gridwidth": 2,
                        "linecolor": "white",
                        "showbackground": true,
                        "ticks": "",
                        "zerolinecolor": "white"
                      }
                    },
                    "shapedefaults": {
                      "line": {
                        "color": "#2a3f5f"
                      }
                    },
                    "ternary": {
                      "aaxis": {
                        "gridcolor": "white",
                        "linecolor": "white",
                        "ticks": ""
                      },
                      "baxis": {
                        "gridcolor": "white",
                        "linecolor": "white",
                        "ticks": ""
                      },
                      "bgcolor": "#E5ECF6",
                      "caxis": {
                        "gridcolor": "white",
                        "linecolor": "white",
                        "ticks": ""
                      }
                    },
                    "title": {
                      "x": 0.05
                    },
                    "xaxis": {
                      "automargin": true,
                      "gridcolor": "white",
                      "linecolor": "white",
                      "ticks": "",
                      "title": {
                        "standoff": 15
                      },
                      "zerolinecolor": "white",
                      "zerolinewidth": 2
                    },
                    "yaxis": {
                      "automargin": true,
                      "gridcolor": "white",
                      "linecolor": "white",
                      "ticks": "",
                      "title": {
                        "standoff": 15
                      },
                      "zerolinecolor": "white",
                      "zerolinewidth": 2
                    }
                  }
                },
                "xaxis": {
                  "anchor": "y",
                  "categoryarray": [
                    "Revit",
                    "AutoCAD",
                    "Autodesk Docs",
                    "Autodesk BIM Collaborate",
                    "Autodesk Construction Cloud Connect",
                    "Civil 3D",
                    "Forge",
                    "BIM 360 Docs",
                    "Autodesk BIM Collaborate Pro",
                    "Autodesk Build"
                  ],
                  "categoryorder": "array",
                  "domain": [
                    0,
                    1
                  ],
                  "title": {
                    "text": "products"
                  }
                },
                "yaxis": {
                  "anchor": "x",
                  "domain": [
                    0,
                    1
                  ],
                  "title": {
                    "text": "total_attendees"
                  }
                }
              }
            }
          },
          "metadata": {},
          "output_type": "display_data"
        }
      ],
      "source": [
        "top10_classes_by_soft.plot(x=\"products\", y=\"total_attendees\",  kind=\"bar\", color=\"products\")"
      ]
    },
    {
      "cell_type": "markdown",
      "metadata": {},
      "source": [
        "# Top 10 talks by Audience occupation"
      ]
    },
    {
      "cell_type": "code",
      "execution_count": 35,
      "metadata": {
        "id": "B-ilivG0XaFp"
      },
      "outputs": [
        {
          "data": {
            "text/html": [
              "<div>\n",
              "<style scoped>\n",
              "    .dataframe tbody tr th:only-of-type {\n",
              "        vertical-align: middle;\n",
              "    }\n",
              "\n",
              "    .dataframe tbody tr th {\n",
              "        vertical-align: top;\n",
              "    }\n",
              "\n",
              "    .dataframe thead th {\n",
              "        text-align: right;\n",
              "    }\n",
              "</style>\n",
              "<table border=\"1\" class=\"dataframe\">\n",
              "  <thead>\n",
              "    <tr style=\"text-align: right;\">\n",
              "      <th></th>\n",
              "      <th>audience_occupations</th>\n",
              "      <th>total_attendees</th>\n",
              "    </tr>\n",
              "  </thead>\n",
              "  <tbody>\n",
              "    <tr>\n",
              "      <th>6</th>\n",
              "      <td>BIM Manager</td>\n",
              "      <td>28743</td>\n",
              "    </tr>\n",
              "    <tr>\n",
              "      <th>59</th>\n",
              "      <td>VDC Manager</td>\n",
              "      <td>21548</td>\n",
              "    </tr>\n",
              "    <tr>\n",
              "      <th>58</th>\n",
              "      <td>Technology/Innovation Manager</td>\n",
              "      <td>20244</td>\n",
              "    </tr>\n",
              "    <tr>\n",
              "      <th>5</th>\n",
              "      <td>Architect</td>\n",
              "      <td>18824</td>\n",
              "    </tr>\n",
              "    <tr>\n",
              "      <th>41</th>\n",
              "      <td>Project Manager</td>\n",
              "      <td>16723</td>\n",
              "    </tr>\n",
              "    <tr>\n",
              "      <th>34</th>\n",
              "      <td>Owner/Operator</td>\n",
              "      <td>12395</td>\n",
              "    </tr>\n",
              "    <tr>\n",
              "      <th>57</th>\n",
              "      <td>Technical Director/Supervisor</td>\n",
              "      <td>9948</td>\n",
              "    </tr>\n",
              "    <tr>\n",
              "      <th>9</th>\n",
              "      <td>CAD Manager</td>\n",
              "      <td>9923</td>\n",
              "    </tr>\n",
              "    <tr>\n",
              "      <th>12</th>\n",
              "      <td>Developer</td>\n",
              "      <td>9423</td>\n",
              "    </tr>\n",
              "    <tr>\n",
              "      <th>40</th>\n",
              "      <td>Project Engineer</td>\n",
              "      <td>7543</td>\n",
              "    </tr>\n",
              "  </tbody>\n",
              "</table>\n",
              "</div>"
            ],
            "text/plain": [
              "             audience_occupations  total_attendees\n",
              "6                     BIM Manager            28743\n",
              "59                    VDC Manager            21548\n",
              "58  Technology/Innovation Manager            20244\n",
              "5                       Architect            18824\n",
              "41                Project Manager            16723\n",
              "34                 Owner/Operator            12395\n",
              "57  Technical Director/Supervisor             9948\n",
              "9                     CAD Manager             9923\n",
              "12                      Developer             9423\n",
              "40               Project Engineer             7543"
            ]
          },
          "execution_count": 35,
          "metadata": {},
          "output_type": "execute_result"
        }
      ],
      "source": [
        "_= []\n",
        "for i, r in df_records.iterrows():\n",
        "  if r[\"audience_occupations\"]:\n",
        "    for product in r[\"audience_occupations\"]:\n",
        "      _.append(pd.Series({\"class_name\":r[\"class_name\"],'total_attendees': r['total_attendees'], \"audience_occupations\":product }))\n",
        "      \n",
        "\n",
        "class_attendes_per_audience_occupations = pd.DataFrame(_)\n",
        "top10_classes_by_occupations = class_attendes_per_audience_occupations.groupby(['audience_occupations'])['total_attendees'].sum().reset_index().sort_values(by='total_attendees',ascending=False).head(10)\n",
        "top10_classes_by_occupations\n"
      ]
    },
    {
      "cell_type": "code",
      "execution_count": 36,
      "metadata": {
        "id": "gplDULwwdKFW"
      },
      "outputs": [
        {
          "data": {
            "application/vnd.plotly.v1+json": {
              "config": {
                "plotlyServerURL": "https://plot.ly"
              },
              "data": [
                {
                  "alignmentgroup": "True",
                  "hovertemplate": "audience_occupations=%{x}<br>total_attendees=%{y}<extra></extra>",
                  "legendgroup": "BIM Manager",
                  "marker": {
                    "color": "#636efa",
                    "pattern": {
                      "shape": ""
                    }
                  },
                  "name": "BIM Manager",
                  "offsetgroup": "BIM Manager",
                  "orientation": "v",
                  "showlegend": true,
                  "textposition": "auto",
                  "type": "bar",
                  "x": [
                    "BIM Manager"
                  ],
                  "xaxis": "x",
                  "y": [
                    28743
                  ],
                  "yaxis": "y"
                },
                {
                  "alignmentgroup": "True",
                  "hovertemplate": "audience_occupations=%{x}<br>total_attendees=%{y}<extra></extra>",
                  "legendgroup": "VDC Manager",
                  "marker": {
                    "color": "#EF553B",
                    "pattern": {
                      "shape": ""
                    }
                  },
                  "name": "VDC Manager",
                  "offsetgroup": "VDC Manager",
                  "orientation": "v",
                  "showlegend": true,
                  "textposition": "auto",
                  "type": "bar",
                  "x": [
                    "VDC Manager"
                  ],
                  "xaxis": "x",
                  "y": [
                    21548
                  ],
                  "yaxis": "y"
                },
                {
                  "alignmentgroup": "True",
                  "hovertemplate": "audience_occupations=%{x}<br>total_attendees=%{y}<extra></extra>",
                  "legendgroup": "Technology/Innovation Manager",
                  "marker": {
                    "color": "#00cc96",
                    "pattern": {
                      "shape": ""
                    }
                  },
                  "name": "Technology/Innovation Manager",
                  "offsetgroup": "Technology/Innovation Manager",
                  "orientation": "v",
                  "showlegend": true,
                  "textposition": "auto",
                  "type": "bar",
                  "x": [
                    "Technology/Innovation Manager"
                  ],
                  "xaxis": "x",
                  "y": [
                    20244
                  ],
                  "yaxis": "y"
                },
                {
                  "alignmentgroup": "True",
                  "hovertemplate": "audience_occupations=%{x}<br>total_attendees=%{y}<extra></extra>",
                  "legendgroup": "Architect",
                  "marker": {
                    "color": "#ab63fa",
                    "pattern": {
                      "shape": ""
                    }
                  },
                  "name": "Architect",
                  "offsetgroup": "Architect",
                  "orientation": "v",
                  "showlegend": true,
                  "textposition": "auto",
                  "type": "bar",
                  "x": [
                    "Architect"
                  ],
                  "xaxis": "x",
                  "y": [
                    18824
                  ],
                  "yaxis": "y"
                },
                {
                  "alignmentgroup": "True",
                  "hovertemplate": "audience_occupations=%{x}<br>total_attendees=%{y}<extra></extra>",
                  "legendgroup": "Project Manager",
                  "marker": {
                    "color": "#FFA15A",
                    "pattern": {
                      "shape": ""
                    }
                  },
                  "name": "Project Manager",
                  "offsetgroup": "Project Manager",
                  "orientation": "v",
                  "showlegend": true,
                  "textposition": "auto",
                  "type": "bar",
                  "x": [
                    "Project Manager"
                  ],
                  "xaxis": "x",
                  "y": [
                    16723
                  ],
                  "yaxis": "y"
                },
                {
                  "alignmentgroup": "True",
                  "hovertemplate": "audience_occupations=%{x}<br>total_attendees=%{y}<extra></extra>",
                  "legendgroup": "Owner/Operator",
                  "marker": {
                    "color": "#19d3f3",
                    "pattern": {
                      "shape": ""
                    }
                  },
                  "name": "Owner/Operator",
                  "offsetgroup": "Owner/Operator",
                  "orientation": "v",
                  "showlegend": true,
                  "textposition": "auto",
                  "type": "bar",
                  "x": [
                    "Owner/Operator"
                  ],
                  "xaxis": "x",
                  "y": [
                    12395
                  ],
                  "yaxis": "y"
                },
                {
                  "alignmentgroup": "True",
                  "hovertemplate": "audience_occupations=%{x}<br>total_attendees=%{y}<extra></extra>",
                  "legendgroup": "Technical Director/Supervisor",
                  "marker": {
                    "color": "#FF6692",
                    "pattern": {
                      "shape": ""
                    }
                  },
                  "name": "Technical Director/Supervisor",
                  "offsetgroup": "Technical Director/Supervisor",
                  "orientation": "v",
                  "showlegend": true,
                  "textposition": "auto",
                  "type": "bar",
                  "x": [
                    "Technical Director/Supervisor"
                  ],
                  "xaxis": "x",
                  "y": [
                    9948
                  ],
                  "yaxis": "y"
                },
                {
                  "alignmentgroup": "True",
                  "hovertemplate": "audience_occupations=%{x}<br>total_attendees=%{y}<extra></extra>",
                  "legendgroup": "CAD Manager",
                  "marker": {
                    "color": "#B6E880",
                    "pattern": {
                      "shape": ""
                    }
                  },
                  "name": "CAD Manager",
                  "offsetgroup": "CAD Manager",
                  "orientation": "v",
                  "showlegend": true,
                  "textposition": "auto",
                  "type": "bar",
                  "x": [
                    "CAD Manager"
                  ],
                  "xaxis": "x",
                  "y": [
                    9923
                  ],
                  "yaxis": "y"
                },
                {
                  "alignmentgroup": "True",
                  "hovertemplate": "audience_occupations=%{x}<br>total_attendees=%{y}<extra></extra>",
                  "legendgroup": "Developer",
                  "marker": {
                    "color": "#FF97FF",
                    "pattern": {
                      "shape": ""
                    }
                  },
                  "name": "Developer",
                  "offsetgroup": "Developer",
                  "orientation": "v",
                  "showlegend": true,
                  "textposition": "auto",
                  "type": "bar",
                  "x": [
                    "Developer"
                  ],
                  "xaxis": "x",
                  "y": [
                    9423
                  ],
                  "yaxis": "y"
                },
                {
                  "alignmentgroup": "True",
                  "hovertemplate": "audience_occupations=%{x}<br>total_attendees=%{y}<extra></extra>",
                  "legendgroup": "Project Engineer",
                  "marker": {
                    "color": "#FECB52",
                    "pattern": {
                      "shape": ""
                    }
                  },
                  "name": "Project Engineer",
                  "offsetgroup": "Project Engineer",
                  "orientation": "v",
                  "showlegend": true,
                  "textposition": "auto",
                  "type": "bar",
                  "x": [
                    "Project Engineer"
                  ],
                  "xaxis": "x",
                  "y": [
                    7543
                  ],
                  "yaxis": "y"
                }
              ],
              "layout": {
                "barmode": "relative",
                "legend": {
                  "title": {
                    "text": "audience_occupations"
                  },
                  "tracegroupgap": 0
                },
                "margin": {
                  "t": 60
                },
                "template": {
                  "data": {
                    "bar": [
                      {
                        "error_x": {
                          "color": "#2a3f5f"
                        },
                        "error_y": {
                          "color": "#2a3f5f"
                        },
                        "marker": {
                          "line": {
                            "color": "#E5ECF6",
                            "width": 0.5
                          },
                          "pattern": {
                            "fillmode": "overlay",
                            "size": 10,
                            "solidity": 0.2
                          }
                        },
                        "type": "bar"
                      }
                    ],
                    "barpolar": [
                      {
                        "marker": {
                          "line": {
                            "color": "#E5ECF6",
                            "width": 0.5
                          },
                          "pattern": {
                            "fillmode": "overlay",
                            "size": 10,
                            "solidity": 0.2
                          }
                        },
                        "type": "barpolar"
                      }
                    ],
                    "carpet": [
                      {
                        "aaxis": {
                          "endlinecolor": "#2a3f5f",
                          "gridcolor": "white",
                          "linecolor": "white",
                          "minorgridcolor": "white",
                          "startlinecolor": "#2a3f5f"
                        },
                        "baxis": {
                          "endlinecolor": "#2a3f5f",
                          "gridcolor": "white",
                          "linecolor": "white",
                          "minorgridcolor": "white",
                          "startlinecolor": "#2a3f5f"
                        },
                        "type": "carpet"
                      }
                    ],
                    "choropleth": [
                      {
                        "colorbar": {
                          "outlinewidth": 0,
                          "ticks": ""
                        },
                        "type": "choropleth"
                      }
                    ],
                    "contour": [
                      {
                        "colorbar": {
                          "outlinewidth": 0,
                          "ticks": ""
                        },
                        "colorscale": [
                          [
                            0,
                            "#0d0887"
                          ],
                          [
                            0.1111111111111111,
                            "#46039f"
                          ],
                          [
                            0.2222222222222222,
                            "#7201a8"
                          ],
                          [
                            0.3333333333333333,
                            "#9c179e"
                          ],
                          [
                            0.4444444444444444,
                            "#bd3786"
                          ],
                          [
                            0.5555555555555556,
                            "#d8576b"
                          ],
                          [
                            0.6666666666666666,
                            "#ed7953"
                          ],
                          [
                            0.7777777777777778,
                            "#fb9f3a"
                          ],
                          [
                            0.8888888888888888,
                            "#fdca26"
                          ],
                          [
                            1,
                            "#f0f921"
                          ]
                        ],
                        "type": "contour"
                      }
                    ],
                    "contourcarpet": [
                      {
                        "colorbar": {
                          "outlinewidth": 0,
                          "ticks": ""
                        },
                        "type": "contourcarpet"
                      }
                    ],
                    "heatmap": [
                      {
                        "colorbar": {
                          "outlinewidth": 0,
                          "ticks": ""
                        },
                        "colorscale": [
                          [
                            0,
                            "#0d0887"
                          ],
                          [
                            0.1111111111111111,
                            "#46039f"
                          ],
                          [
                            0.2222222222222222,
                            "#7201a8"
                          ],
                          [
                            0.3333333333333333,
                            "#9c179e"
                          ],
                          [
                            0.4444444444444444,
                            "#bd3786"
                          ],
                          [
                            0.5555555555555556,
                            "#d8576b"
                          ],
                          [
                            0.6666666666666666,
                            "#ed7953"
                          ],
                          [
                            0.7777777777777778,
                            "#fb9f3a"
                          ],
                          [
                            0.8888888888888888,
                            "#fdca26"
                          ],
                          [
                            1,
                            "#f0f921"
                          ]
                        ],
                        "type": "heatmap"
                      }
                    ],
                    "heatmapgl": [
                      {
                        "colorbar": {
                          "outlinewidth": 0,
                          "ticks": ""
                        },
                        "colorscale": [
                          [
                            0,
                            "#0d0887"
                          ],
                          [
                            0.1111111111111111,
                            "#46039f"
                          ],
                          [
                            0.2222222222222222,
                            "#7201a8"
                          ],
                          [
                            0.3333333333333333,
                            "#9c179e"
                          ],
                          [
                            0.4444444444444444,
                            "#bd3786"
                          ],
                          [
                            0.5555555555555556,
                            "#d8576b"
                          ],
                          [
                            0.6666666666666666,
                            "#ed7953"
                          ],
                          [
                            0.7777777777777778,
                            "#fb9f3a"
                          ],
                          [
                            0.8888888888888888,
                            "#fdca26"
                          ],
                          [
                            1,
                            "#f0f921"
                          ]
                        ],
                        "type": "heatmapgl"
                      }
                    ],
                    "histogram": [
                      {
                        "marker": {
                          "pattern": {
                            "fillmode": "overlay",
                            "size": 10,
                            "solidity": 0.2
                          }
                        },
                        "type": "histogram"
                      }
                    ],
                    "histogram2d": [
                      {
                        "colorbar": {
                          "outlinewidth": 0,
                          "ticks": ""
                        },
                        "colorscale": [
                          [
                            0,
                            "#0d0887"
                          ],
                          [
                            0.1111111111111111,
                            "#46039f"
                          ],
                          [
                            0.2222222222222222,
                            "#7201a8"
                          ],
                          [
                            0.3333333333333333,
                            "#9c179e"
                          ],
                          [
                            0.4444444444444444,
                            "#bd3786"
                          ],
                          [
                            0.5555555555555556,
                            "#d8576b"
                          ],
                          [
                            0.6666666666666666,
                            "#ed7953"
                          ],
                          [
                            0.7777777777777778,
                            "#fb9f3a"
                          ],
                          [
                            0.8888888888888888,
                            "#fdca26"
                          ],
                          [
                            1,
                            "#f0f921"
                          ]
                        ],
                        "type": "histogram2d"
                      }
                    ],
                    "histogram2dcontour": [
                      {
                        "colorbar": {
                          "outlinewidth": 0,
                          "ticks": ""
                        },
                        "colorscale": [
                          [
                            0,
                            "#0d0887"
                          ],
                          [
                            0.1111111111111111,
                            "#46039f"
                          ],
                          [
                            0.2222222222222222,
                            "#7201a8"
                          ],
                          [
                            0.3333333333333333,
                            "#9c179e"
                          ],
                          [
                            0.4444444444444444,
                            "#bd3786"
                          ],
                          [
                            0.5555555555555556,
                            "#d8576b"
                          ],
                          [
                            0.6666666666666666,
                            "#ed7953"
                          ],
                          [
                            0.7777777777777778,
                            "#fb9f3a"
                          ],
                          [
                            0.8888888888888888,
                            "#fdca26"
                          ],
                          [
                            1,
                            "#f0f921"
                          ]
                        ],
                        "type": "histogram2dcontour"
                      }
                    ],
                    "mesh3d": [
                      {
                        "colorbar": {
                          "outlinewidth": 0,
                          "ticks": ""
                        },
                        "type": "mesh3d"
                      }
                    ],
                    "parcoords": [
                      {
                        "line": {
                          "colorbar": {
                            "outlinewidth": 0,
                            "ticks": ""
                          }
                        },
                        "type": "parcoords"
                      }
                    ],
                    "pie": [
                      {
                        "automargin": true,
                        "type": "pie"
                      }
                    ],
                    "scatter": [
                      {
                        "fillpattern": {
                          "fillmode": "overlay",
                          "size": 10,
                          "solidity": 0.2
                        },
                        "type": "scatter"
                      }
                    ],
                    "scatter3d": [
                      {
                        "line": {
                          "colorbar": {
                            "outlinewidth": 0,
                            "ticks": ""
                          }
                        },
                        "marker": {
                          "colorbar": {
                            "outlinewidth": 0,
                            "ticks": ""
                          }
                        },
                        "type": "scatter3d"
                      }
                    ],
                    "scattercarpet": [
                      {
                        "marker": {
                          "colorbar": {
                            "outlinewidth": 0,
                            "ticks": ""
                          }
                        },
                        "type": "scattercarpet"
                      }
                    ],
                    "scattergeo": [
                      {
                        "marker": {
                          "colorbar": {
                            "outlinewidth": 0,
                            "ticks": ""
                          }
                        },
                        "type": "scattergeo"
                      }
                    ],
                    "scattergl": [
                      {
                        "marker": {
                          "colorbar": {
                            "outlinewidth": 0,
                            "ticks": ""
                          }
                        },
                        "type": "scattergl"
                      }
                    ],
                    "scattermapbox": [
                      {
                        "marker": {
                          "colorbar": {
                            "outlinewidth": 0,
                            "ticks": ""
                          }
                        },
                        "type": "scattermapbox"
                      }
                    ],
                    "scatterpolar": [
                      {
                        "marker": {
                          "colorbar": {
                            "outlinewidth": 0,
                            "ticks": ""
                          }
                        },
                        "type": "scatterpolar"
                      }
                    ],
                    "scatterpolargl": [
                      {
                        "marker": {
                          "colorbar": {
                            "outlinewidth": 0,
                            "ticks": ""
                          }
                        },
                        "type": "scatterpolargl"
                      }
                    ],
                    "scatterternary": [
                      {
                        "marker": {
                          "colorbar": {
                            "outlinewidth": 0,
                            "ticks": ""
                          }
                        },
                        "type": "scatterternary"
                      }
                    ],
                    "surface": [
                      {
                        "colorbar": {
                          "outlinewidth": 0,
                          "ticks": ""
                        },
                        "colorscale": [
                          [
                            0,
                            "#0d0887"
                          ],
                          [
                            0.1111111111111111,
                            "#46039f"
                          ],
                          [
                            0.2222222222222222,
                            "#7201a8"
                          ],
                          [
                            0.3333333333333333,
                            "#9c179e"
                          ],
                          [
                            0.4444444444444444,
                            "#bd3786"
                          ],
                          [
                            0.5555555555555556,
                            "#d8576b"
                          ],
                          [
                            0.6666666666666666,
                            "#ed7953"
                          ],
                          [
                            0.7777777777777778,
                            "#fb9f3a"
                          ],
                          [
                            0.8888888888888888,
                            "#fdca26"
                          ],
                          [
                            1,
                            "#f0f921"
                          ]
                        ],
                        "type": "surface"
                      }
                    ],
                    "table": [
                      {
                        "cells": {
                          "fill": {
                            "color": "#EBF0F8"
                          },
                          "line": {
                            "color": "white"
                          }
                        },
                        "header": {
                          "fill": {
                            "color": "#C8D4E3"
                          },
                          "line": {
                            "color": "white"
                          }
                        },
                        "type": "table"
                      }
                    ]
                  },
                  "layout": {
                    "annotationdefaults": {
                      "arrowcolor": "#2a3f5f",
                      "arrowhead": 0,
                      "arrowwidth": 1
                    },
                    "autotypenumbers": "strict",
                    "coloraxis": {
                      "colorbar": {
                        "outlinewidth": 0,
                        "ticks": ""
                      }
                    },
                    "colorscale": {
                      "diverging": [
                        [
                          0,
                          "#8e0152"
                        ],
                        [
                          0.1,
                          "#c51b7d"
                        ],
                        [
                          0.2,
                          "#de77ae"
                        ],
                        [
                          0.3,
                          "#f1b6da"
                        ],
                        [
                          0.4,
                          "#fde0ef"
                        ],
                        [
                          0.5,
                          "#f7f7f7"
                        ],
                        [
                          0.6,
                          "#e6f5d0"
                        ],
                        [
                          0.7,
                          "#b8e186"
                        ],
                        [
                          0.8,
                          "#7fbc41"
                        ],
                        [
                          0.9,
                          "#4d9221"
                        ],
                        [
                          1,
                          "#276419"
                        ]
                      ],
                      "sequential": [
                        [
                          0,
                          "#0d0887"
                        ],
                        [
                          0.1111111111111111,
                          "#46039f"
                        ],
                        [
                          0.2222222222222222,
                          "#7201a8"
                        ],
                        [
                          0.3333333333333333,
                          "#9c179e"
                        ],
                        [
                          0.4444444444444444,
                          "#bd3786"
                        ],
                        [
                          0.5555555555555556,
                          "#d8576b"
                        ],
                        [
                          0.6666666666666666,
                          "#ed7953"
                        ],
                        [
                          0.7777777777777778,
                          "#fb9f3a"
                        ],
                        [
                          0.8888888888888888,
                          "#fdca26"
                        ],
                        [
                          1,
                          "#f0f921"
                        ]
                      ],
                      "sequentialminus": [
                        [
                          0,
                          "#0d0887"
                        ],
                        [
                          0.1111111111111111,
                          "#46039f"
                        ],
                        [
                          0.2222222222222222,
                          "#7201a8"
                        ],
                        [
                          0.3333333333333333,
                          "#9c179e"
                        ],
                        [
                          0.4444444444444444,
                          "#bd3786"
                        ],
                        [
                          0.5555555555555556,
                          "#d8576b"
                        ],
                        [
                          0.6666666666666666,
                          "#ed7953"
                        ],
                        [
                          0.7777777777777778,
                          "#fb9f3a"
                        ],
                        [
                          0.8888888888888888,
                          "#fdca26"
                        ],
                        [
                          1,
                          "#f0f921"
                        ]
                      ]
                    },
                    "colorway": [
                      "#636efa",
                      "#EF553B",
                      "#00cc96",
                      "#ab63fa",
                      "#FFA15A",
                      "#19d3f3",
                      "#FF6692",
                      "#B6E880",
                      "#FF97FF",
                      "#FECB52"
                    ],
                    "font": {
                      "color": "#2a3f5f"
                    },
                    "geo": {
                      "bgcolor": "white",
                      "lakecolor": "white",
                      "landcolor": "#E5ECF6",
                      "showlakes": true,
                      "showland": true,
                      "subunitcolor": "white"
                    },
                    "hoverlabel": {
                      "align": "left"
                    },
                    "hovermode": "closest",
                    "mapbox": {
                      "style": "light"
                    },
                    "paper_bgcolor": "white",
                    "plot_bgcolor": "#E5ECF6",
                    "polar": {
                      "angularaxis": {
                        "gridcolor": "white",
                        "linecolor": "white",
                        "ticks": ""
                      },
                      "bgcolor": "#E5ECF6",
                      "radialaxis": {
                        "gridcolor": "white",
                        "linecolor": "white",
                        "ticks": ""
                      }
                    },
                    "scene": {
                      "xaxis": {
                        "backgroundcolor": "#E5ECF6",
                        "gridcolor": "white",
                        "gridwidth": 2,
                        "linecolor": "white",
                        "showbackground": true,
                        "ticks": "",
                        "zerolinecolor": "white"
                      },
                      "yaxis": {
                        "backgroundcolor": "#E5ECF6",
                        "gridcolor": "white",
                        "gridwidth": 2,
                        "linecolor": "white",
                        "showbackground": true,
                        "ticks": "",
                        "zerolinecolor": "white"
                      },
                      "zaxis": {
                        "backgroundcolor": "#E5ECF6",
                        "gridcolor": "white",
                        "gridwidth": 2,
                        "linecolor": "white",
                        "showbackground": true,
                        "ticks": "",
                        "zerolinecolor": "white"
                      }
                    },
                    "shapedefaults": {
                      "line": {
                        "color": "#2a3f5f"
                      }
                    },
                    "ternary": {
                      "aaxis": {
                        "gridcolor": "white",
                        "linecolor": "white",
                        "ticks": ""
                      },
                      "baxis": {
                        "gridcolor": "white",
                        "linecolor": "white",
                        "ticks": ""
                      },
                      "bgcolor": "#E5ECF6",
                      "caxis": {
                        "gridcolor": "white",
                        "linecolor": "white",
                        "ticks": ""
                      }
                    },
                    "title": {
                      "x": 0.05
                    },
                    "xaxis": {
                      "automargin": true,
                      "gridcolor": "white",
                      "linecolor": "white",
                      "ticks": "",
                      "title": {
                        "standoff": 15
                      },
                      "zerolinecolor": "white",
                      "zerolinewidth": 2
                    },
                    "yaxis": {
                      "automargin": true,
                      "gridcolor": "white",
                      "linecolor": "white",
                      "ticks": "",
                      "title": {
                        "standoff": 15
                      },
                      "zerolinecolor": "white",
                      "zerolinewidth": 2
                    }
                  }
                },
                "xaxis": {
                  "anchor": "y",
                  "categoryarray": [
                    "BIM Manager",
                    "VDC Manager",
                    "Technology/Innovation Manager",
                    "Architect",
                    "Project Manager",
                    "Owner/Operator",
                    "Technical Director/Supervisor",
                    "CAD Manager",
                    "Developer",
                    "Project Engineer"
                  ],
                  "categoryorder": "array",
                  "domain": [
                    0,
                    1
                  ],
                  "title": {
                    "text": "audience_occupations"
                  }
                },
                "yaxis": {
                  "anchor": "x",
                  "domain": [
                    0,
                    1
                  ],
                  "title": {
                    "text": "total_attendees"
                  }
                }
              }
            }
          },
          "metadata": {},
          "output_type": "display_data"
        }
      ],
      "source": [
        "top10_classes_by_occupations.plot(x=\"audience_occupations\", y=\"total_attendees\",  kind=\"bar\", color=\"audience_occupations\")"
      ]
    },
    {
      "cell_type": "markdown",
      "metadata": {
        "id": "S3aS2ZKyf5s6"
      },
      "source": [
        "# Attendees per day and hour"
      ]
    },
    {
      "cell_type": "code",
      "execution_count": 13,
      "metadata": {
        "id": "3jcz2zhbYXZU"
      },
      "outputs": [
        {
          "name": "stderr",
          "output_type": "stream",
          "text": [
            "C:\\Users\\pdere\\AppData\\Local\\Temp\\ipykernel_16828\\2155755722.py:7: FutureWarning:\n",
            "\n",
            "The frame.append method is deprecated and will be removed from pandas in a future version. Use pandas.concat instead.\n",
            "\n",
            "C:\\Users\\pdere\\AppData\\Local\\Temp\\ipykernel_16828\\2155755722.py:7: FutureWarning:\n",
            "\n",
            "The frame.append method is deprecated and will be removed from pandas in a future version. Use pandas.concat instead.\n",
            "\n",
            "C:\\Users\\pdere\\AppData\\Local\\Temp\\ipykernel_16828\\2155755722.py:7: FutureWarning:\n",
            "\n",
            "The frame.append method is deprecated and will be removed from pandas in a future version. Use pandas.concat instead.\n",
            "\n",
            "C:\\Users\\pdere\\AppData\\Local\\Temp\\ipykernel_16828\\2155755722.py:7: FutureWarning:\n",
            "\n",
            "The frame.append method is deprecated and will be removed from pandas in a future version. Use pandas.concat instead.\n",
            "\n",
            "C:\\Users\\pdere\\AppData\\Local\\Temp\\ipykernel_16828\\2155755722.py:7: FutureWarning:\n",
            "\n",
            "The frame.append method is deprecated and will be removed from pandas in a future version. Use pandas.concat instead.\n",
            "\n",
            "C:\\Users\\pdere\\AppData\\Local\\Temp\\ipykernel_16828\\2155755722.py:7: FutureWarning:\n",
            "\n",
            "The frame.append method is deprecated and will be removed from pandas in a future version. Use pandas.concat instead.\n",
            "\n",
            "C:\\Users\\pdere\\AppData\\Local\\Temp\\ipykernel_16828\\2155755722.py:7: FutureWarning:\n",
            "\n",
            "The frame.append method is deprecated and will be removed from pandas in a future version. Use pandas.concat instead.\n",
            "\n",
            "C:\\Users\\pdere\\AppData\\Local\\Temp\\ipykernel_16828\\2155755722.py:7: FutureWarning:\n",
            "\n",
            "The frame.append method is deprecated and will be removed from pandas in a future version. Use pandas.concat instead.\n",
            "\n",
            "C:\\Users\\pdere\\AppData\\Local\\Temp\\ipykernel_16828\\2155755722.py:7: FutureWarning:\n",
            "\n",
            "The frame.append method is deprecated and will be removed from pandas in a future version. Use pandas.concat instead.\n",
            "\n",
            "C:\\Users\\pdere\\AppData\\Local\\Temp\\ipykernel_16828\\2155755722.py:7: FutureWarning:\n",
            "\n",
            "The frame.append method is deprecated and will be removed from pandas in a future version. Use pandas.concat instead.\n",
            "\n",
            "C:\\Users\\pdere\\AppData\\Local\\Temp\\ipykernel_16828\\2155755722.py:7: FutureWarning:\n",
            "\n",
            "The frame.append method is deprecated and will be removed from pandas in a future version. Use pandas.concat instead.\n",
            "\n",
            "C:\\Users\\pdere\\AppData\\Local\\Temp\\ipykernel_16828\\2155755722.py:7: FutureWarning:\n",
            "\n",
            "The frame.append method is deprecated and will be removed from pandas in a future version. Use pandas.concat instead.\n",
            "\n",
            "C:\\Users\\pdere\\AppData\\Local\\Temp\\ipykernel_16828\\2155755722.py:7: FutureWarning:\n",
            "\n",
            "The frame.append method is deprecated and will be removed from pandas in a future version. Use pandas.concat instead.\n",
            "\n",
            "C:\\Users\\pdere\\AppData\\Local\\Temp\\ipykernel_16828\\2155755722.py:7: FutureWarning:\n",
            "\n",
            "The frame.append method is deprecated and will be removed from pandas in a future version. Use pandas.concat instead.\n",
            "\n",
            "C:\\Users\\pdere\\AppData\\Local\\Temp\\ipykernel_16828\\2155755722.py:7: FutureWarning:\n",
            "\n",
            "The frame.append method is deprecated and will be removed from pandas in a future version. Use pandas.concat instead.\n",
            "\n",
            "C:\\Users\\pdere\\AppData\\Local\\Temp\\ipykernel_16828\\2155755722.py:7: FutureWarning:\n",
            "\n",
            "The frame.append method is deprecated and will be removed from pandas in a future version. Use pandas.concat instead.\n",
            "\n",
            "C:\\Users\\pdere\\AppData\\Local\\Temp\\ipykernel_16828\\2155755722.py:7: FutureWarning:\n",
            "\n",
            "The frame.append method is deprecated and will be removed from pandas in a future version. Use pandas.concat instead.\n",
            "\n",
            "C:\\Users\\pdere\\AppData\\Local\\Temp\\ipykernel_16828\\2155755722.py:7: FutureWarning:\n",
            "\n",
            "The frame.append method is deprecated and will be removed from pandas in a future version. Use pandas.concat instead.\n",
            "\n",
            "C:\\Users\\pdere\\AppData\\Local\\Temp\\ipykernel_16828\\2155755722.py:7: FutureWarning:\n",
            "\n",
            "The frame.append method is deprecated and will be removed from pandas in a future version. Use pandas.concat instead.\n",
            "\n",
            "C:\\Users\\pdere\\AppData\\Local\\Temp\\ipykernel_16828\\2155755722.py:7: FutureWarning:\n",
            "\n",
            "The frame.append method is deprecated and will be removed from pandas in a future version. Use pandas.concat instead.\n",
            "\n",
            "C:\\Users\\pdere\\AppData\\Local\\Temp\\ipykernel_16828\\2155755722.py:7: FutureWarning:\n",
            "\n",
            "The frame.append method is deprecated and will be removed from pandas in a future version. Use pandas.concat instead.\n",
            "\n",
            "C:\\Users\\pdere\\AppData\\Local\\Temp\\ipykernel_16828\\2155755722.py:7: FutureWarning:\n",
            "\n",
            "The frame.append method is deprecated and will be removed from pandas in a future version. Use pandas.concat instead.\n",
            "\n",
            "C:\\Users\\pdere\\AppData\\Local\\Temp\\ipykernel_16828\\2155755722.py:7: FutureWarning:\n",
            "\n",
            "The frame.append method is deprecated and will be removed from pandas in a future version. Use pandas.concat instead.\n",
            "\n",
            "C:\\Users\\pdere\\AppData\\Local\\Temp\\ipykernel_16828\\2155755722.py:7: FutureWarning:\n",
            "\n",
            "The frame.append method is deprecated and will be removed from pandas in a future version. Use pandas.concat instead.\n",
            "\n",
            "C:\\Users\\pdere\\AppData\\Local\\Temp\\ipykernel_16828\\2155755722.py:7: FutureWarning:\n",
            "\n",
            "The frame.append method is deprecated and will be removed from pandas in a future version. Use pandas.concat instead.\n",
            "\n",
            "C:\\Users\\pdere\\AppData\\Local\\Temp\\ipykernel_16828\\2155755722.py:7: FutureWarning:\n",
            "\n",
            "The frame.append method is deprecated and will be removed from pandas in a future version. Use pandas.concat instead.\n",
            "\n",
            "C:\\Users\\pdere\\AppData\\Local\\Temp\\ipykernel_16828\\2155755722.py:7: FutureWarning:\n",
            "\n",
            "The frame.append method is deprecated and will be removed from pandas in a future version. Use pandas.concat instead.\n",
            "\n",
            "C:\\Users\\pdere\\AppData\\Local\\Temp\\ipykernel_16828\\2155755722.py:7: FutureWarning:\n",
            "\n",
            "The frame.append method is deprecated and will be removed from pandas in a future version. Use pandas.concat instead.\n",
            "\n",
            "C:\\Users\\pdere\\AppData\\Local\\Temp\\ipykernel_16828\\2155755722.py:7: FutureWarning:\n",
            "\n",
            "The frame.append method is deprecated and will be removed from pandas in a future version. Use pandas.concat instead.\n",
            "\n",
            "C:\\Users\\pdere\\AppData\\Local\\Temp\\ipykernel_16828\\2155755722.py:7: FutureWarning:\n",
            "\n",
            "The frame.append method is deprecated and will be removed from pandas in a future version. Use pandas.concat instead.\n",
            "\n",
            "C:\\Users\\pdere\\AppData\\Local\\Temp\\ipykernel_16828\\2155755722.py:7: FutureWarning:\n",
            "\n",
            "The frame.append method is deprecated and will be removed from pandas in a future version. Use pandas.concat instead.\n",
            "\n",
            "C:\\Users\\pdere\\AppData\\Local\\Temp\\ipykernel_16828\\2155755722.py:7: FutureWarning:\n",
            "\n",
            "The frame.append method is deprecated and will be removed from pandas in a future version. Use pandas.concat instead.\n",
            "\n",
            "C:\\Users\\pdere\\AppData\\Local\\Temp\\ipykernel_16828\\2155755722.py:7: FutureWarning:\n",
            "\n",
            "The frame.append method is deprecated and will be removed from pandas in a future version. Use pandas.concat instead.\n",
            "\n",
            "C:\\Users\\pdere\\AppData\\Local\\Temp\\ipykernel_16828\\2155755722.py:7: FutureWarning:\n",
            "\n",
            "The frame.append method is deprecated and will be removed from pandas in a future version. Use pandas.concat instead.\n",
            "\n",
            "C:\\Users\\pdere\\AppData\\Local\\Temp\\ipykernel_16828\\2155755722.py:7: FutureWarning:\n",
            "\n",
            "The frame.append method is deprecated and will be removed from pandas in a future version. Use pandas.concat instead.\n",
            "\n",
            "C:\\Users\\pdere\\AppData\\Local\\Temp\\ipykernel_16828\\2155755722.py:7: FutureWarning:\n",
            "\n",
            "The frame.append method is deprecated and will be removed from pandas in a future version. Use pandas.concat instead.\n",
            "\n",
            "C:\\Users\\pdere\\AppData\\Local\\Temp\\ipykernel_16828\\2155755722.py:7: FutureWarning:\n",
            "\n",
            "The frame.append method is deprecated and will be removed from pandas in a future version. Use pandas.concat instead.\n",
            "\n",
            "C:\\Users\\pdere\\AppData\\Local\\Temp\\ipykernel_16828\\2155755722.py:7: FutureWarning:\n",
            "\n",
            "The frame.append method is deprecated and will be removed from pandas in a future version. Use pandas.concat instead.\n",
            "\n",
            "C:\\Users\\pdere\\AppData\\Local\\Temp\\ipykernel_16828\\2155755722.py:7: FutureWarning:\n",
            "\n",
            "The frame.append method is deprecated and will be removed from pandas in a future version. Use pandas.concat instead.\n",
            "\n",
            "C:\\Users\\pdere\\AppData\\Local\\Temp\\ipykernel_16828\\2155755722.py:7: FutureWarning:\n",
            "\n",
            "The frame.append method is deprecated and will be removed from pandas in a future version. Use pandas.concat instead.\n",
            "\n",
            "C:\\Users\\pdere\\AppData\\Local\\Temp\\ipykernel_16828\\2155755722.py:7: FutureWarning:\n",
            "\n",
            "The frame.append method is deprecated and will be removed from pandas in a future version. Use pandas.concat instead.\n",
            "\n",
            "C:\\Users\\pdere\\AppData\\Local\\Temp\\ipykernel_16828\\2155755722.py:7: FutureWarning:\n",
            "\n",
            "The frame.append method is deprecated and will be removed from pandas in a future version. Use pandas.concat instead.\n",
            "\n",
            "C:\\Users\\pdere\\AppData\\Local\\Temp\\ipykernel_16828\\2155755722.py:7: FutureWarning:\n",
            "\n",
            "The frame.append method is deprecated and will be removed from pandas in a future version. Use pandas.concat instead.\n",
            "\n",
            "C:\\Users\\pdere\\AppData\\Local\\Temp\\ipykernel_16828\\2155755722.py:7: FutureWarning:\n",
            "\n",
            "The frame.append method is deprecated and will be removed from pandas in a future version. Use pandas.concat instead.\n",
            "\n",
            "C:\\Users\\pdere\\AppData\\Local\\Temp\\ipykernel_16828\\2155755722.py:7: FutureWarning:\n",
            "\n",
            "The frame.append method is deprecated and will be removed from pandas in a future version. Use pandas.concat instead.\n",
            "\n",
            "C:\\Users\\pdere\\AppData\\Local\\Temp\\ipykernel_16828\\2155755722.py:7: FutureWarning:\n",
            "\n",
            "The frame.append method is deprecated and will be removed from pandas in a future version. Use pandas.concat instead.\n",
            "\n",
            "C:\\Users\\pdere\\AppData\\Local\\Temp\\ipykernel_16828\\2155755722.py:7: FutureWarning:\n",
            "\n",
            "The frame.append method is deprecated and will be removed from pandas in a future version. Use pandas.concat instead.\n",
            "\n",
            "C:\\Users\\pdere\\AppData\\Local\\Temp\\ipykernel_16828\\2155755722.py:7: FutureWarning:\n",
            "\n",
            "The frame.append method is deprecated and will be removed from pandas in a future version. Use pandas.concat instead.\n",
            "\n",
            "C:\\Users\\pdere\\AppData\\Local\\Temp\\ipykernel_16828\\2155755722.py:7: FutureWarning:\n",
            "\n",
            "The frame.append method is deprecated and will be removed from pandas in a future version. Use pandas.concat instead.\n",
            "\n",
            "C:\\Users\\pdere\\AppData\\Local\\Temp\\ipykernel_16828\\2155755722.py:7: FutureWarning:\n",
            "\n",
            "The frame.append method is deprecated and will be removed from pandas in a future version. Use pandas.concat instead.\n",
            "\n",
            "C:\\Users\\pdere\\AppData\\Local\\Temp\\ipykernel_16828\\2155755722.py:7: FutureWarning:\n",
            "\n",
            "The frame.append method is deprecated and will be removed from pandas in a future version. Use pandas.concat instead.\n",
            "\n",
            "C:\\Users\\pdere\\AppData\\Local\\Temp\\ipykernel_16828\\2155755722.py:7: FutureWarning:\n",
            "\n",
            "The frame.append method is deprecated and will be removed from pandas in a future version. Use pandas.concat instead.\n",
            "\n",
            "C:\\Users\\pdere\\AppData\\Local\\Temp\\ipykernel_16828\\2155755722.py:7: FutureWarning:\n",
            "\n",
            "The frame.append method is deprecated and will be removed from pandas in a future version. Use pandas.concat instead.\n",
            "\n",
            "C:\\Users\\pdere\\AppData\\Local\\Temp\\ipykernel_16828\\2155755722.py:7: FutureWarning:\n",
            "\n",
            "The frame.append method is deprecated and will be removed from pandas in a future version. Use pandas.concat instead.\n",
            "\n",
            "C:\\Users\\pdere\\AppData\\Local\\Temp\\ipykernel_16828\\2155755722.py:7: FutureWarning:\n",
            "\n",
            "The frame.append method is deprecated and will be removed from pandas in a future version. Use pandas.concat instead.\n",
            "\n",
            "C:\\Users\\pdere\\AppData\\Local\\Temp\\ipykernel_16828\\2155755722.py:7: FutureWarning:\n",
            "\n",
            "The frame.append method is deprecated and will be removed from pandas in a future version. Use pandas.concat instead.\n",
            "\n",
            "C:\\Users\\pdere\\AppData\\Local\\Temp\\ipykernel_16828\\2155755722.py:7: FutureWarning:\n",
            "\n",
            "The frame.append method is deprecated and will be removed from pandas in a future version. Use pandas.concat instead.\n",
            "\n",
            "C:\\Users\\pdere\\AppData\\Local\\Temp\\ipykernel_16828\\2155755722.py:7: FutureWarning:\n",
            "\n",
            "The frame.append method is deprecated and will be removed from pandas in a future version. Use pandas.concat instead.\n",
            "\n",
            "C:\\Users\\pdere\\AppData\\Local\\Temp\\ipykernel_16828\\2155755722.py:7: FutureWarning:\n",
            "\n",
            "The frame.append method is deprecated and will be removed from pandas in a future version. Use pandas.concat instead.\n",
            "\n",
            "C:\\Users\\pdere\\AppData\\Local\\Temp\\ipykernel_16828\\2155755722.py:7: FutureWarning:\n",
            "\n",
            "The frame.append method is deprecated and will be removed from pandas in a future version. Use pandas.concat instead.\n",
            "\n",
            "C:\\Users\\pdere\\AppData\\Local\\Temp\\ipykernel_16828\\2155755722.py:7: FutureWarning:\n",
            "\n",
            "The frame.append method is deprecated and will be removed from pandas in a future version. Use pandas.concat instead.\n",
            "\n",
            "C:\\Users\\pdere\\AppData\\Local\\Temp\\ipykernel_16828\\2155755722.py:7: FutureWarning:\n",
            "\n",
            "The frame.append method is deprecated and will be removed from pandas in a future version. Use pandas.concat instead.\n",
            "\n",
            "C:\\Users\\pdere\\AppData\\Local\\Temp\\ipykernel_16828\\2155755722.py:7: FutureWarning:\n",
            "\n",
            "The frame.append method is deprecated and will be removed from pandas in a future version. Use pandas.concat instead.\n",
            "\n",
            "C:\\Users\\pdere\\AppData\\Local\\Temp\\ipykernel_16828\\2155755722.py:7: FutureWarning:\n",
            "\n",
            "The frame.append method is deprecated and will be removed from pandas in a future version. Use pandas.concat instead.\n",
            "\n",
            "C:\\Users\\pdere\\AppData\\Local\\Temp\\ipykernel_16828\\2155755722.py:7: FutureWarning:\n",
            "\n",
            "The frame.append method is deprecated and will be removed from pandas in a future version. Use pandas.concat instead.\n",
            "\n",
            "C:\\Users\\pdere\\AppData\\Local\\Temp\\ipykernel_16828\\2155755722.py:7: FutureWarning:\n",
            "\n",
            "The frame.append method is deprecated and will be removed from pandas in a future version. Use pandas.concat instead.\n",
            "\n",
            "C:\\Users\\pdere\\AppData\\Local\\Temp\\ipykernel_16828\\2155755722.py:7: FutureWarning:\n",
            "\n",
            "The frame.append method is deprecated and will be removed from pandas in a future version. Use pandas.concat instead.\n",
            "\n",
            "C:\\Users\\pdere\\AppData\\Local\\Temp\\ipykernel_16828\\2155755722.py:7: FutureWarning:\n",
            "\n",
            "The frame.append method is deprecated and will be removed from pandas in a future version. Use pandas.concat instead.\n",
            "\n",
            "C:\\Users\\pdere\\AppData\\Local\\Temp\\ipykernel_16828\\2155755722.py:7: FutureWarning:\n",
            "\n",
            "The frame.append method is deprecated and will be removed from pandas in a future version. Use pandas.concat instead.\n",
            "\n",
            "C:\\Users\\pdere\\AppData\\Local\\Temp\\ipykernel_16828\\2155755722.py:7: FutureWarning:\n",
            "\n",
            "The frame.append method is deprecated and will be removed from pandas in a future version. Use pandas.concat instead.\n",
            "\n",
            "C:\\Users\\pdere\\AppData\\Local\\Temp\\ipykernel_16828\\2155755722.py:7: FutureWarning:\n",
            "\n",
            "The frame.append method is deprecated and will be removed from pandas in a future version. Use pandas.concat instead.\n",
            "\n",
            "C:\\Users\\pdere\\AppData\\Local\\Temp\\ipykernel_16828\\2155755722.py:7: FutureWarning:\n",
            "\n",
            "The frame.append method is deprecated and will be removed from pandas in a future version. Use pandas.concat instead.\n",
            "\n",
            "C:\\Users\\pdere\\AppData\\Local\\Temp\\ipykernel_16828\\2155755722.py:7: FutureWarning:\n",
            "\n",
            "The frame.append method is deprecated and will be removed from pandas in a future version. Use pandas.concat instead.\n",
            "\n",
            "C:\\Users\\pdere\\AppData\\Local\\Temp\\ipykernel_16828\\2155755722.py:7: FutureWarning:\n",
            "\n",
            "The frame.append method is deprecated and will be removed from pandas in a future version. Use pandas.concat instead.\n",
            "\n",
            "C:\\Users\\pdere\\AppData\\Local\\Temp\\ipykernel_16828\\2155755722.py:7: FutureWarning:\n",
            "\n",
            "The frame.append method is deprecated and will be removed from pandas in a future version. Use pandas.concat instead.\n",
            "\n",
            "C:\\Users\\pdere\\AppData\\Local\\Temp\\ipykernel_16828\\2155755722.py:7: FutureWarning:\n",
            "\n",
            "The frame.append method is deprecated and will be removed from pandas in a future version. Use pandas.concat instead.\n",
            "\n",
            "C:\\Users\\pdere\\AppData\\Local\\Temp\\ipykernel_16828\\2155755722.py:7: FutureWarning:\n",
            "\n",
            "The frame.append method is deprecated and will be removed from pandas in a future version. Use pandas.concat instead.\n",
            "\n",
            "C:\\Users\\pdere\\AppData\\Local\\Temp\\ipykernel_16828\\2155755722.py:7: FutureWarning:\n",
            "\n",
            "The frame.append method is deprecated and will be removed from pandas in a future version. Use pandas.concat instead.\n",
            "\n",
            "C:\\Users\\pdere\\AppData\\Local\\Temp\\ipykernel_16828\\2155755722.py:7: FutureWarning:\n",
            "\n",
            "The frame.append method is deprecated and will be removed from pandas in a future version. Use pandas.concat instead.\n",
            "\n",
            "C:\\Users\\pdere\\AppData\\Local\\Temp\\ipykernel_16828\\2155755722.py:7: FutureWarning:\n",
            "\n",
            "The frame.append method is deprecated and will be removed from pandas in a future version. Use pandas.concat instead.\n",
            "\n",
            "C:\\Users\\pdere\\AppData\\Local\\Temp\\ipykernel_16828\\2155755722.py:7: FutureWarning:\n",
            "\n",
            "The frame.append method is deprecated and will be removed from pandas in a future version. Use pandas.concat instead.\n",
            "\n",
            "C:\\Users\\pdere\\AppData\\Local\\Temp\\ipykernel_16828\\2155755722.py:7: FutureWarning:\n",
            "\n",
            "The frame.append method is deprecated and will be removed from pandas in a future version. Use pandas.concat instead.\n",
            "\n",
            "C:\\Users\\pdere\\AppData\\Local\\Temp\\ipykernel_16828\\2155755722.py:7: FutureWarning:\n",
            "\n",
            "The frame.append method is deprecated and will be removed from pandas in a future version. Use pandas.concat instead.\n",
            "\n",
            "C:\\Users\\pdere\\AppData\\Local\\Temp\\ipykernel_16828\\2155755722.py:7: FutureWarning:\n",
            "\n",
            "The frame.append method is deprecated and will be removed from pandas in a future version. Use pandas.concat instead.\n",
            "\n",
            "C:\\Users\\pdere\\AppData\\Local\\Temp\\ipykernel_16828\\2155755722.py:7: FutureWarning:\n",
            "\n",
            "The frame.append method is deprecated and will be removed from pandas in a future version. Use pandas.concat instead.\n",
            "\n",
            "C:\\Users\\pdere\\AppData\\Local\\Temp\\ipykernel_16828\\2155755722.py:7: FutureWarning:\n",
            "\n",
            "The frame.append method is deprecated and will be removed from pandas in a future version. Use pandas.concat instead.\n",
            "\n",
            "C:\\Users\\pdere\\AppData\\Local\\Temp\\ipykernel_16828\\2155755722.py:7: FutureWarning:\n",
            "\n",
            "The frame.append method is deprecated and will be removed from pandas in a future version. Use pandas.concat instead.\n",
            "\n",
            "C:\\Users\\pdere\\AppData\\Local\\Temp\\ipykernel_16828\\2155755722.py:7: FutureWarning:\n",
            "\n",
            "The frame.append method is deprecated and will be removed from pandas in a future version. Use pandas.concat instead.\n",
            "\n",
            "C:\\Users\\pdere\\AppData\\Local\\Temp\\ipykernel_16828\\2155755722.py:7: FutureWarning:\n",
            "\n",
            "The frame.append method is deprecated and will be removed from pandas in a future version. Use pandas.concat instead.\n",
            "\n",
            "C:\\Users\\pdere\\AppData\\Local\\Temp\\ipykernel_16828\\2155755722.py:7: FutureWarning:\n",
            "\n",
            "The frame.append method is deprecated and will be removed from pandas in a future version. Use pandas.concat instead.\n",
            "\n",
            "C:\\Users\\pdere\\AppData\\Local\\Temp\\ipykernel_16828\\2155755722.py:7: FutureWarning:\n",
            "\n",
            "The frame.append method is deprecated and will be removed from pandas in a future version. Use pandas.concat instead.\n",
            "\n",
            "C:\\Users\\pdere\\AppData\\Local\\Temp\\ipykernel_16828\\2155755722.py:7: FutureWarning:\n",
            "\n",
            "The frame.append method is deprecated and will be removed from pandas in a future version. Use pandas.concat instead.\n",
            "\n",
            "C:\\Users\\pdere\\AppData\\Local\\Temp\\ipykernel_16828\\2155755722.py:7: FutureWarning:\n",
            "\n",
            "The frame.append method is deprecated and will be removed from pandas in a future version. Use pandas.concat instead.\n",
            "\n",
            "C:\\Users\\pdere\\AppData\\Local\\Temp\\ipykernel_16828\\2155755722.py:7: FutureWarning:\n",
            "\n",
            "The frame.append method is deprecated and will be removed from pandas in a future version. Use pandas.concat instead.\n",
            "\n",
            "C:\\Users\\pdere\\AppData\\Local\\Temp\\ipykernel_16828\\2155755722.py:7: FutureWarning:\n",
            "\n",
            "The frame.append method is deprecated and will be removed from pandas in a future version. Use pandas.concat instead.\n",
            "\n",
            "C:\\Users\\pdere\\AppData\\Local\\Temp\\ipykernel_16828\\2155755722.py:7: FutureWarning:\n",
            "\n",
            "The frame.append method is deprecated and will be removed from pandas in a future version. Use pandas.concat instead.\n",
            "\n",
            "C:\\Users\\pdere\\AppData\\Local\\Temp\\ipykernel_16828\\2155755722.py:7: FutureWarning:\n",
            "\n",
            "The frame.append method is deprecated and will be removed from pandas in a future version. Use pandas.concat instead.\n",
            "\n",
            "C:\\Users\\pdere\\AppData\\Local\\Temp\\ipykernel_16828\\2155755722.py:7: FutureWarning:\n",
            "\n",
            "The frame.append method is deprecated and will be removed from pandas in a future version. Use pandas.concat instead.\n",
            "\n",
            "C:\\Users\\pdere\\AppData\\Local\\Temp\\ipykernel_16828\\2155755722.py:7: FutureWarning:\n",
            "\n",
            "The frame.append method is deprecated and will be removed from pandas in a future version. Use pandas.concat instead.\n",
            "\n",
            "C:\\Users\\pdere\\AppData\\Local\\Temp\\ipykernel_16828\\2155755722.py:7: FutureWarning:\n",
            "\n",
            "The frame.append method is deprecated and will be removed from pandas in a future version. Use pandas.concat instead.\n",
            "\n",
            "C:\\Users\\pdere\\AppData\\Local\\Temp\\ipykernel_16828\\2155755722.py:7: FutureWarning:\n",
            "\n",
            "The frame.append method is deprecated and will be removed from pandas in a future version. Use pandas.concat instead.\n",
            "\n",
            "C:\\Users\\pdere\\AppData\\Local\\Temp\\ipykernel_16828\\2155755722.py:7: FutureWarning:\n",
            "\n",
            "The frame.append method is deprecated and will be removed from pandas in a future version. Use pandas.concat instead.\n",
            "\n",
            "C:\\Users\\pdere\\AppData\\Local\\Temp\\ipykernel_16828\\2155755722.py:7: FutureWarning:\n",
            "\n",
            "The frame.append method is deprecated and will be removed from pandas in a future version. Use pandas.concat instead.\n",
            "\n",
            "C:\\Users\\pdere\\AppData\\Local\\Temp\\ipykernel_16828\\2155755722.py:7: FutureWarning:\n",
            "\n",
            "The frame.append method is deprecated and will be removed from pandas in a future version. Use pandas.concat instead.\n",
            "\n",
            "C:\\Users\\pdere\\AppData\\Local\\Temp\\ipykernel_16828\\2155755722.py:7: FutureWarning:\n",
            "\n",
            "The frame.append method is deprecated and will be removed from pandas in a future version. Use pandas.concat instead.\n",
            "\n",
            "C:\\Users\\pdere\\AppData\\Local\\Temp\\ipykernel_16828\\2155755722.py:7: FutureWarning:\n",
            "\n",
            "The frame.append method is deprecated and will be removed from pandas in a future version. Use pandas.concat instead.\n",
            "\n",
            "C:\\Users\\pdere\\AppData\\Local\\Temp\\ipykernel_16828\\2155755722.py:7: FutureWarning:\n",
            "\n",
            "The frame.append method is deprecated and will be removed from pandas in a future version. Use pandas.concat instead.\n",
            "\n",
            "C:\\Users\\pdere\\AppData\\Local\\Temp\\ipykernel_16828\\2155755722.py:7: FutureWarning:\n",
            "\n",
            "The frame.append method is deprecated and will be removed from pandas in a future version. Use pandas.concat instead.\n",
            "\n",
            "C:\\Users\\pdere\\AppData\\Local\\Temp\\ipykernel_16828\\2155755722.py:7: FutureWarning:\n",
            "\n",
            "The frame.append method is deprecated and will be removed from pandas in a future version. Use pandas.concat instead.\n",
            "\n",
            "C:\\Users\\pdere\\AppData\\Local\\Temp\\ipykernel_16828\\2155755722.py:7: FutureWarning:\n",
            "\n",
            "The frame.append method is deprecated and will be removed from pandas in a future version. Use pandas.concat instead.\n",
            "\n",
            "C:\\Users\\pdere\\AppData\\Local\\Temp\\ipykernel_16828\\2155755722.py:7: FutureWarning:\n",
            "\n",
            "The frame.append method is deprecated and will be removed from pandas in a future version. Use pandas.concat instead.\n",
            "\n",
            "C:\\Users\\pdere\\AppData\\Local\\Temp\\ipykernel_16828\\2155755722.py:7: FutureWarning:\n",
            "\n",
            "The frame.append method is deprecated and will be removed from pandas in a future version. Use pandas.concat instead.\n",
            "\n",
            "C:\\Users\\pdere\\AppData\\Local\\Temp\\ipykernel_16828\\2155755722.py:7: FutureWarning:\n",
            "\n",
            "The frame.append method is deprecated and will be removed from pandas in a future version. Use pandas.concat instead.\n",
            "\n",
            "C:\\Users\\pdere\\AppData\\Local\\Temp\\ipykernel_16828\\2155755722.py:7: FutureWarning:\n",
            "\n",
            "The frame.append method is deprecated and will be removed from pandas in a future version. Use pandas.concat instead.\n",
            "\n",
            "C:\\Users\\pdere\\AppData\\Local\\Temp\\ipykernel_16828\\2155755722.py:7: FutureWarning:\n",
            "\n",
            "The frame.append method is deprecated and will be removed from pandas in a future version. Use pandas.concat instead.\n",
            "\n",
            "C:\\Users\\pdere\\AppData\\Local\\Temp\\ipykernel_16828\\2155755722.py:7: FutureWarning:\n",
            "\n",
            "The frame.append method is deprecated and will be removed from pandas in a future version. Use pandas.concat instead.\n",
            "\n",
            "C:\\Users\\pdere\\AppData\\Local\\Temp\\ipykernel_16828\\2155755722.py:7: FutureWarning:\n",
            "\n",
            "The frame.append method is deprecated and will be removed from pandas in a future version. Use pandas.concat instead.\n",
            "\n",
            "C:\\Users\\pdere\\AppData\\Local\\Temp\\ipykernel_16828\\2155755722.py:7: FutureWarning:\n",
            "\n",
            "The frame.append method is deprecated and will be removed from pandas in a future version. Use pandas.concat instead.\n",
            "\n",
            "C:\\Users\\pdere\\AppData\\Local\\Temp\\ipykernel_16828\\2155755722.py:7: FutureWarning:\n",
            "\n",
            "The frame.append method is deprecated and will be removed from pandas in a future version. Use pandas.concat instead.\n",
            "\n",
            "C:\\Users\\pdere\\AppData\\Local\\Temp\\ipykernel_16828\\2155755722.py:7: FutureWarning:\n",
            "\n",
            "The frame.append method is deprecated and will be removed from pandas in a future version. Use pandas.concat instead.\n",
            "\n",
            "C:\\Users\\pdere\\AppData\\Local\\Temp\\ipykernel_16828\\2155755722.py:7: FutureWarning:\n",
            "\n",
            "The frame.append method is deprecated and will be removed from pandas in a future version. Use pandas.concat instead.\n",
            "\n",
            "C:\\Users\\pdere\\AppData\\Local\\Temp\\ipykernel_16828\\2155755722.py:7: FutureWarning:\n",
            "\n",
            "The frame.append method is deprecated and will be removed from pandas in a future version. Use pandas.concat instead.\n",
            "\n",
            "C:\\Users\\pdere\\AppData\\Local\\Temp\\ipykernel_16828\\2155755722.py:7: FutureWarning:\n",
            "\n",
            "The frame.append method is deprecated and will be removed from pandas in a future version. Use pandas.concat instead.\n",
            "\n",
            "C:\\Users\\pdere\\AppData\\Local\\Temp\\ipykernel_16828\\2155755722.py:7: FutureWarning:\n",
            "\n",
            "The frame.append method is deprecated and will be removed from pandas in a future version. Use pandas.concat instead.\n",
            "\n",
            "C:\\Users\\pdere\\AppData\\Local\\Temp\\ipykernel_16828\\2155755722.py:7: FutureWarning:\n",
            "\n",
            "The frame.append method is deprecated and will be removed from pandas in a future version. Use pandas.concat instead.\n",
            "\n",
            "C:\\Users\\pdere\\AppData\\Local\\Temp\\ipykernel_16828\\2155755722.py:7: FutureWarning:\n",
            "\n",
            "The frame.append method is deprecated and will be removed from pandas in a future version. Use pandas.concat instead.\n",
            "\n",
            "C:\\Users\\pdere\\AppData\\Local\\Temp\\ipykernel_16828\\2155755722.py:7: FutureWarning:\n",
            "\n",
            "The frame.append method is deprecated and will be removed from pandas in a future version. Use pandas.concat instead.\n",
            "\n",
            "C:\\Users\\pdere\\AppData\\Local\\Temp\\ipykernel_16828\\2155755722.py:7: FutureWarning:\n",
            "\n",
            "The frame.append method is deprecated and will be removed from pandas in a future version. Use pandas.concat instead.\n",
            "\n",
            "C:\\Users\\pdere\\AppData\\Local\\Temp\\ipykernel_16828\\2155755722.py:7: FutureWarning:\n",
            "\n",
            "The frame.append method is deprecated and will be removed from pandas in a future version. Use pandas.concat instead.\n",
            "\n",
            "C:\\Users\\pdere\\AppData\\Local\\Temp\\ipykernel_16828\\2155755722.py:7: FutureWarning:\n",
            "\n",
            "The frame.append method is deprecated and will be removed from pandas in a future version. Use pandas.concat instead.\n",
            "\n",
            "C:\\Users\\pdere\\AppData\\Local\\Temp\\ipykernel_16828\\2155755722.py:7: FutureWarning:\n",
            "\n",
            "The frame.append method is deprecated and will be removed from pandas in a future version. Use pandas.concat instead.\n",
            "\n",
            "C:\\Users\\pdere\\AppData\\Local\\Temp\\ipykernel_16828\\2155755722.py:7: FutureWarning:\n",
            "\n",
            "The frame.append method is deprecated and will be removed from pandas in a future version. Use pandas.concat instead.\n",
            "\n",
            "C:\\Users\\pdere\\AppData\\Local\\Temp\\ipykernel_16828\\2155755722.py:7: FutureWarning:\n",
            "\n",
            "The frame.append method is deprecated and will be removed from pandas in a future version. Use pandas.concat instead.\n",
            "\n",
            "C:\\Users\\pdere\\AppData\\Local\\Temp\\ipykernel_16828\\2155755722.py:7: FutureWarning:\n",
            "\n",
            "The frame.append method is deprecated and will be removed from pandas in a future version. Use pandas.concat instead.\n",
            "\n",
            "C:\\Users\\pdere\\AppData\\Local\\Temp\\ipykernel_16828\\2155755722.py:7: FutureWarning:\n",
            "\n",
            "The frame.append method is deprecated and will be removed from pandas in a future version. Use pandas.concat instead.\n",
            "\n",
            "C:\\Users\\pdere\\AppData\\Local\\Temp\\ipykernel_16828\\2155755722.py:7: FutureWarning:\n",
            "\n",
            "The frame.append method is deprecated and will be removed from pandas in a future version. Use pandas.concat instead.\n",
            "\n",
            "C:\\Users\\pdere\\AppData\\Local\\Temp\\ipykernel_16828\\2155755722.py:7: FutureWarning:\n",
            "\n",
            "The frame.append method is deprecated and will be removed from pandas in a future version. Use pandas.concat instead.\n",
            "\n",
            "C:\\Users\\pdere\\AppData\\Local\\Temp\\ipykernel_16828\\2155755722.py:7: FutureWarning:\n",
            "\n",
            "The frame.append method is deprecated and will be removed from pandas in a future version. Use pandas.concat instead.\n",
            "\n",
            "C:\\Users\\pdere\\AppData\\Local\\Temp\\ipykernel_16828\\2155755722.py:7: FutureWarning:\n",
            "\n",
            "The frame.append method is deprecated and will be removed from pandas in a future version. Use pandas.concat instead.\n",
            "\n",
            "C:\\Users\\pdere\\AppData\\Local\\Temp\\ipykernel_16828\\2155755722.py:7: FutureWarning:\n",
            "\n",
            "The frame.append method is deprecated and will be removed from pandas in a future version. Use pandas.concat instead.\n",
            "\n",
            "C:\\Users\\pdere\\AppData\\Local\\Temp\\ipykernel_16828\\2155755722.py:7: FutureWarning:\n",
            "\n",
            "The frame.append method is deprecated and will be removed from pandas in a future version. Use pandas.concat instead.\n",
            "\n",
            "C:\\Users\\pdere\\AppData\\Local\\Temp\\ipykernel_16828\\2155755722.py:7: FutureWarning:\n",
            "\n",
            "The frame.append method is deprecated and will be removed from pandas in a future version. Use pandas.concat instead.\n",
            "\n",
            "C:\\Users\\pdere\\AppData\\Local\\Temp\\ipykernel_16828\\2155755722.py:7: FutureWarning:\n",
            "\n",
            "The frame.append method is deprecated and will be removed from pandas in a future version. Use pandas.concat instead.\n",
            "\n",
            "C:\\Users\\pdere\\AppData\\Local\\Temp\\ipykernel_16828\\2155755722.py:7: FutureWarning:\n",
            "\n",
            "The frame.append method is deprecated and will be removed from pandas in a future version. Use pandas.concat instead.\n",
            "\n",
            "C:\\Users\\pdere\\AppData\\Local\\Temp\\ipykernel_16828\\2155755722.py:7: FutureWarning:\n",
            "\n",
            "The frame.append method is deprecated and will be removed from pandas in a future version. Use pandas.concat instead.\n",
            "\n",
            "C:\\Users\\pdere\\AppData\\Local\\Temp\\ipykernel_16828\\2155755722.py:7: FutureWarning:\n",
            "\n",
            "The frame.append method is deprecated and will be removed from pandas in a future version. Use pandas.concat instead.\n",
            "\n",
            "C:\\Users\\pdere\\AppData\\Local\\Temp\\ipykernel_16828\\2155755722.py:7: FutureWarning:\n",
            "\n",
            "The frame.append method is deprecated and will be removed from pandas in a future version. Use pandas.concat instead.\n",
            "\n",
            "C:\\Users\\pdere\\AppData\\Local\\Temp\\ipykernel_16828\\2155755722.py:7: FutureWarning:\n",
            "\n",
            "The frame.append method is deprecated and will be removed from pandas in a future version. Use pandas.concat instead.\n",
            "\n",
            "C:\\Users\\pdere\\AppData\\Local\\Temp\\ipykernel_16828\\2155755722.py:7: FutureWarning:\n",
            "\n",
            "The frame.append method is deprecated and will be removed from pandas in a future version. Use pandas.concat instead.\n",
            "\n",
            "C:\\Users\\pdere\\AppData\\Local\\Temp\\ipykernel_16828\\2155755722.py:7: FutureWarning:\n",
            "\n",
            "The frame.append method is deprecated and will be removed from pandas in a future version. Use pandas.concat instead.\n",
            "\n",
            "C:\\Users\\pdere\\AppData\\Local\\Temp\\ipykernel_16828\\2155755722.py:7: FutureWarning:\n",
            "\n",
            "The frame.append method is deprecated and will be removed from pandas in a future version. Use pandas.concat instead.\n",
            "\n",
            "C:\\Users\\pdere\\AppData\\Local\\Temp\\ipykernel_16828\\2155755722.py:7: FutureWarning:\n",
            "\n",
            "The frame.append method is deprecated and will be removed from pandas in a future version. Use pandas.concat instead.\n",
            "\n",
            "C:\\Users\\pdere\\AppData\\Local\\Temp\\ipykernel_16828\\2155755722.py:7: FutureWarning:\n",
            "\n",
            "The frame.append method is deprecated and will be removed from pandas in a future version. Use pandas.concat instead.\n",
            "\n",
            "C:\\Users\\pdere\\AppData\\Local\\Temp\\ipykernel_16828\\2155755722.py:7: FutureWarning:\n",
            "\n",
            "The frame.append method is deprecated and will be removed from pandas in a future version. Use pandas.concat instead.\n",
            "\n",
            "C:\\Users\\pdere\\AppData\\Local\\Temp\\ipykernel_16828\\2155755722.py:7: FutureWarning:\n",
            "\n",
            "The frame.append method is deprecated and will be removed from pandas in a future version. Use pandas.concat instead.\n",
            "\n",
            "C:\\Users\\pdere\\AppData\\Local\\Temp\\ipykernel_16828\\2155755722.py:7: FutureWarning:\n",
            "\n",
            "The frame.append method is deprecated and will be removed from pandas in a future version. Use pandas.concat instead.\n",
            "\n",
            "C:\\Users\\pdere\\AppData\\Local\\Temp\\ipykernel_16828\\2155755722.py:7: FutureWarning:\n",
            "\n",
            "The frame.append method is deprecated and will be removed from pandas in a future version. Use pandas.concat instead.\n",
            "\n",
            "C:\\Users\\pdere\\AppData\\Local\\Temp\\ipykernel_16828\\2155755722.py:7: FutureWarning:\n",
            "\n",
            "The frame.append method is deprecated and will be removed from pandas in a future version. Use pandas.concat instead.\n",
            "\n",
            "C:\\Users\\pdere\\AppData\\Local\\Temp\\ipykernel_16828\\2155755722.py:7: FutureWarning:\n",
            "\n",
            "The frame.append method is deprecated and will be removed from pandas in a future version. Use pandas.concat instead.\n",
            "\n",
            "C:\\Users\\pdere\\AppData\\Local\\Temp\\ipykernel_16828\\2155755722.py:7: FutureWarning:\n",
            "\n",
            "The frame.append method is deprecated and will be removed from pandas in a future version. Use pandas.concat instead.\n",
            "\n",
            "C:\\Users\\pdere\\AppData\\Local\\Temp\\ipykernel_16828\\2155755722.py:7: FutureWarning:\n",
            "\n",
            "The frame.append method is deprecated and will be removed from pandas in a future version. Use pandas.concat instead.\n",
            "\n",
            "C:\\Users\\pdere\\AppData\\Local\\Temp\\ipykernel_16828\\2155755722.py:7: FutureWarning:\n",
            "\n",
            "The frame.append method is deprecated and will be removed from pandas in a future version. Use pandas.concat instead.\n",
            "\n",
            "C:\\Users\\pdere\\AppData\\Local\\Temp\\ipykernel_16828\\2155755722.py:7: FutureWarning:\n",
            "\n",
            "The frame.append method is deprecated and will be removed from pandas in a future version. Use pandas.concat instead.\n",
            "\n",
            "C:\\Users\\pdere\\AppData\\Local\\Temp\\ipykernel_16828\\2155755722.py:7: FutureWarning:\n",
            "\n",
            "The frame.append method is deprecated and will be removed from pandas in a future version. Use pandas.concat instead.\n",
            "\n",
            "C:\\Users\\pdere\\AppData\\Local\\Temp\\ipykernel_16828\\2155755722.py:7: FutureWarning:\n",
            "\n",
            "The frame.append method is deprecated and will be removed from pandas in a future version. Use pandas.concat instead.\n",
            "\n",
            "C:\\Users\\pdere\\AppData\\Local\\Temp\\ipykernel_16828\\2155755722.py:7: FutureWarning:\n",
            "\n",
            "The frame.append method is deprecated and will be removed from pandas in a future version. Use pandas.concat instead.\n",
            "\n",
            "C:\\Users\\pdere\\AppData\\Local\\Temp\\ipykernel_16828\\2155755722.py:7: FutureWarning:\n",
            "\n",
            "The frame.append method is deprecated and will be removed from pandas in a future version. Use pandas.concat instead.\n",
            "\n",
            "C:\\Users\\pdere\\AppData\\Local\\Temp\\ipykernel_16828\\2155755722.py:7: FutureWarning:\n",
            "\n",
            "The frame.append method is deprecated and will be removed from pandas in a future version. Use pandas.concat instead.\n",
            "\n",
            "C:\\Users\\pdere\\AppData\\Local\\Temp\\ipykernel_16828\\2155755722.py:7: FutureWarning:\n",
            "\n",
            "The frame.append method is deprecated and will be removed from pandas in a future version. Use pandas.concat instead.\n",
            "\n",
            "C:\\Users\\pdere\\AppData\\Local\\Temp\\ipykernel_16828\\2155755722.py:7: FutureWarning:\n",
            "\n",
            "The frame.append method is deprecated and will be removed from pandas in a future version. Use pandas.concat instead.\n",
            "\n",
            "C:\\Users\\pdere\\AppData\\Local\\Temp\\ipykernel_16828\\2155755722.py:7: FutureWarning:\n",
            "\n",
            "The frame.append method is deprecated and will be removed from pandas in a future version. Use pandas.concat instead.\n",
            "\n",
            "C:\\Users\\pdere\\AppData\\Local\\Temp\\ipykernel_16828\\2155755722.py:7: FutureWarning:\n",
            "\n",
            "The frame.append method is deprecated and will be removed from pandas in a future version. Use pandas.concat instead.\n",
            "\n",
            "C:\\Users\\pdere\\AppData\\Local\\Temp\\ipykernel_16828\\2155755722.py:7: FutureWarning:\n",
            "\n",
            "The frame.append method is deprecated and will be removed from pandas in a future version. Use pandas.concat instead.\n",
            "\n",
            "C:\\Users\\pdere\\AppData\\Local\\Temp\\ipykernel_16828\\2155755722.py:7: FutureWarning:\n",
            "\n",
            "The frame.append method is deprecated and will be removed from pandas in a future version. Use pandas.concat instead.\n",
            "\n",
            "C:\\Users\\pdere\\AppData\\Local\\Temp\\ipykernel_16828\\2155755722.py:7: FutureWarning:\n",
            "\n",
            "The frame.append method is deprecated and will be removed from pandas in a future version. Use pandas.concat instead.\n",
            "\n",
            "C:\\Users\\pdere\\AppData\\Local\\Temp\\ipykernel_16828\\2155755722.py:7: FutureWarning:\n",
            "\n",
            "The frame.append method is deprecated and will be removed from pandas in a future version. Use pandas.concat instead.\n",
            "\n",
            "C:\\Users\\pdere\\AppData\\Local\\Temp\\ipykernel_16828\\2155755722.py:7: FutureWarning:\n",
            "\n",
            "The frame.append method is deprecated and will be removed from pandas in a future version. Use pandas.concat instead.\n",
            "\n",
            "C:\\Users\\pdere\\AppData\\Local\\Temp\\ipykernel_16828\\2155755722.py:7: FutureWarning:\n",
            "\n",
            "The frame.append method is deprecated and will be removed from pandas in a future version. Use pandas.concat instead.\n",
            "\n",
            "C:\\Users\\pdere\\AppData\\Local\\Temp\\ipykernel_16828\\2155755722.py:7: FutureWarning:\n",
            "\n",
            "The frame.append method is deprecated and will be removed from pandas in a future version. Use pandas.concat instead.\n",
            "\n",
            "C:\\Users\\pdere\\AppData\\Local\\Temp\\ipykernel_16828\\2155755722.py:7: FutureWarning:\n",
            "\n",
            "The frame.append method is deprecated and will be removed from pandas in a future version. Use pandas.concat instead.\n",
            "\n",
            "C:\\Users\\pdere\\AppData\\Local\\Temp\\ipykernel_16828\\2155755722.py:7: FutureWarning:\n",
            "\n",
            "The frame.append method is deprecated and will be removed from pandas in a future version. Use pandas.concat instead.\n",
            "\n",
            "C:\\Users\\pdere\\AppData\\Local\\Temp\\ipykernel_16828\\2155755722.py:7: FutureWarning:\n",
            "\n",
            "The frame.append method is deprecated and will be removed from pandas in a future version. Use pandas.concat instead.\n",
            "\n",
            "C:\\Users\\pdere\\AppData\\Local\\Temp\\ipykernel_16828\\2155755722.py:7: FutureWarning:\n",
            "\n",
            "The frame.append method is deprecated and will be removed from pandas in a future version. Use pandas.concat instead.\n",
            "\n",
            "C:\\Users\\pdere\\AppData\\Local\\Temp\\ipykernel_16828\\2155755722.py:7: FutureWarning:\n",
            "\n",
            "The frame.append method is deprecated and will be removed from pandas in a future version. Use pandas.concat instead.\n",
            "\n",
            "C:\\Users\\pdere\\AppData\\Local\\Temp\\ipykernel_16828\\2155755722.py:7: FutureWarning:\n",
            "\n",
            "The frame.append method is deprecated and will be removed from pandas in a future version. Use pandas.concat instead.\n",
            "\n",
            "C:\\Users\\pdere\\AppData\\Local\\Temp\\ipykernel_16828\\2155755722.py:7: FutureWarning:\n",
            "\n",
            "The frame.append method is deprecated and will be removed from pandas in a future version. Use pandas.concat instead.\n",
            "\n",
            "C:\\Users\\pdere\\AppData\\Local\\Temp\\ipykernel_16828\\2155755722.py:7: FutureWarning:\n",
            "\n",
            "The frame.append method is deprecated and will be removed from pandas in a future version. Use pandas.concat instead.\n",
            "\n",
            "C:\\Users\\pdere\\AppData\\Local\\Temp\\ipykernel_16828\\2155755722.py:7: FutureWarning:\n",
            "\n",
            "The frame.append method is deprecated and will be removed from pandas in a future version. Use pandas.concat instead.\n",
            "\n",
            "C:\\Users\\pdere\\AppData\\Local\\Temp\\ipykernel_16828\\2155755722.py:7: FutureWarning:\n",
            "\n",
            "The frame.append method is deprecated and will be removed from pandas in a future version. Use pandas.concat instead.\n",
            "\n",
            "C:\\Users\\pdere\\AppData\\Local\\Temp\\ipykernel_16828\\2155755722.py:7: FutureWarning:\n",
            "\n",
            "The frame.append method is deprecated and will be removed from pandas in a future version. Use pandas.concat instead.\n",
            "\n",
            "C:\\Users\\pdere\\AppData\\Local\\Temp\\ipykernel_16828\\2155755722.py:7: FutureWarning:\n",
            "\n",
            "The frame.append method is deprecated and will be removed from pandas in a future version. Use pandas.concat instead.\n",
            "\n",
            "C:\\Users\\pdere\\AppData\\Local\\Temp\\ipykernel_16828\\2155755722.py:7: FutureWarning:\n",
            "\n",
            "The frame.append method is deprecated and will be removed from pandas in a future version. Use pandas.concat instead.\n",
            "\n",
            "C:\\Users\\pdere\\AppData\\Local\\Temp\\ipykernel_16828\\2155755722.py:7: FutureWarning:\n",
            "\n",
            "The frame.append method is deprecated and will be removed from pandas in a future version. Use pandas.concat instead.\n",
            "\n",
            "C:\\Users\\pdere\\AppData\\Local\\Temp\\ipykernel_16828\\2155755722.py:7: FutureWarning:\n",
            "\n",
            "The frame.append method is deprecated and will be removed from pandas in a future version. Use pandas.concat instead.\n",
            "\n",
            "C:\\Users\\pdere\\AppData\\Local\\Temp\\ipykernel_16828\\2155755722.py:7: FutureWarning:\n",
            "\n",
            "The frame.append method is deprecated and will be removed from pandas in a future version. Use pandas.concat instead.\n",
            "\n",
            "C:\\Users\\pdere\\AppData\\Local\\Temp\\ipykernel_16828\\2155755722.py:7: FutureWarning:\n",
            "\n",
            "The frame.append method is deprecated and will be removed from pandas in a future version. Use pandas.concat instead.\n",
            "\n",
            "C:\\Users\\pdere\\AppData\\Local\\Temp\\ipykernel_16828\\2155755722.py:7: FutureWarning:\n",
            "\n",
            "The frame.append method is deprecated and will be removed from pandas in a future version. Use pandas.concat instead.\n",
            "\n",
            "C:\\Users\\pdere\\AppData\\Local\\Temp\\ipykernel_16828\\2155755722.py:7: FutureWarning:\n",
            "\n",
            "The frame.append method is deprecated and will be removed from pandas in a future version. Use pandas.concat instead.\n",
            "\n",
            "C:\\Users\\pdere\\AppData\\Local\\Temp\\ipykernel_16828\\2155755722.py:7: FutureWarning:\n",
            "\n",
            "The frame.append method is deprecated and will be removed from pandas in a future version. Use pandas.concat instead.\n",
            "\n",
            "C:\\Users\\pdere\\AppData\\Local\\Temp\\ipykernel_16828\\2155755722.py:7: FutureWarning:\n",
            "\n",
            "The frame.append method is deprecated and will be removed from pandas in a future version. Use pandas.concat instead.\n",
            "\n",
            "C:\\Users\\pdere\\AppData\\Local\\Temp\\ipykernel_16828\\2155755722.py:7: FutureWarning:\n",
            "\n",
            "The frame.append method is deprecated and will be removed from pandas in a future version. Use pandas.concat instead.\n",
            "\n",
            "C:\\Users\\pdere\\AppData\\Local\\Temp\\ipykernel_16828\\2155755722.py:7: FutureWarning:\n",
            "\n",
            "The frame.append method is deprecated and will be removed from pandas in a future version. Use pandas.concat instead.\n",
            "\n",
            "C:\\Users\\pdere\\AppData\\Local\\Temp\\ipykernel_16828\\2155755722.py:7: FutureWarning:\n",
            "\n",
            "The frame.append method is deprecated and will be removed from pandas in a future version. Use pandas.concat instead.\n",
            "\n",
            "C:\\Users\\pdere\\AppData\\Local\\Temp\\ipykernel_16828\\2155755722.py:7: FutureWarning:\n",
            "\n",
            "The frame.append method is deprecated and will be removed from pandas in a future version. Use pandas.concat instead.\n",
            "\n",
            "C:\\Users\\pdere\\AppData\\Local\\Temp\\ipykernel_16828\\2155755722.py:7: FutureWarning:\n",
            "\n",
            "The frame.append method is deprecated and will be removed from pandas in a future version. Use pandas.concat instead.\n",
            "\n",
            "C:\\Users\\pdere\\AppData\\Local\\Temp\\ipykernel_16828\\2155755722.py:7: FutureWarning:\n",
            "\n",
            "The frame.append method is deprecated and will be removed from pandas in a future version. Use pandas.concat instead.\n",
            "\n",
            "C:\\Users\\pdere\\AppData\\Local\\Temp\\ipykernel_16828\\2155755722.py:7: FutureWarning:\n",
            "\n",
            "The frame.append method is deprecated and will be removed from pandas in a future version. Use pandas.concat instead.\n",
            "\n",
            "C:\\Users\\pdere\\AppData\\Local\\Temp\\ipykernel_16828\\2155755722.py:7: FutureWarning:\n",
            "\n",
            "The frame.append method is deprecated and will be removed from pandas in a future version. Use pandas.concat instead.\n",
            "\n",
            "C:\\Users\\pdere\\AppData\\Local\\Temp\\ipykernel_16828\\2155755722.py:7: FutureWarning:\n",
            "\n",
            "The frame.append method is deprecated and will be removed from pandas in a future version. Use pandas.concat instead.\n",
            "\n",
            "C:\\Users\\pdere\\AppData\\Local\\Temp\\ipykernel_16828\\2155755722.py:7: FutureWarning:\n",
            "\n",
            "The frame.append method is deprecated and will be removed from pandas in a future version. Use pandas.concat instead.\n",
            "\n",
            "C:\\Users\\pdere\\AppData\\Local\\Temp\\ipykernel_16828\\2155755722.py:7: FutureWarning:\n",
            "\n",
            "The frame.append method is deprecated and will be removed from pandas in a future version. Use pandas.concat instead.\n",
            "\n",
            "C:\\Users\\pdere\\AppData\\Local\\Temp\\ipykernel_16828\\2155755722.py:7: FutureWarning:\n",
            "\n",
            "The frame.append method is deprecated and will be removed from pandas in a future version. Use pandas.concat instead.\n",
            "\n",
            "C:\\Users\\pdere\\AppData\\Local\\Temp\\ipykernel_16828\\2155755722.py:7: FutureWarning:\n",
            "\n",
            "The frame.append method is deprecated and will be removed from pandas in a future version. Use pandas.concat instead.\n",
            "\n",
            "C:\\Users\\pdere\\AppData\\Local\\Temp\\ipykernel_16828\\2155755722.py:7: FutureWarning:\n",
            "\n",
            "The frame.append method is deprecated and will be removed from pandas in a future version. Use pandas.concat instead.\n",
            "\n",
            "C:\\Users\\pdere\\AppData\\Local\\Temp\\ipykernel_16828\\2155755722.py:7: FutureWarning:\n",
            "\n",
            "The frame.append method is deprecated and will be removed from pandas in a future version. Use pandas.concat instead.\n",
            "\n",
            "C:\\Users\\pdere\\AppData\\Local\\Temp\\ipykernel_16828\\2155755722.py:7: FutureWarning:\n",
            "\n",
            "The frame.append method is deprecated and will be removed from pandas in a future version. Use pandas.concat instead.\n",
            "\n",
            "C:\\Users\\pdere\\AppData\\Local\\Temp\\ipykernel_16828\\2155755722.py:7: FutureWarning:\n",
            "\n",
            "The frame.append method is deprecated and will be removed from pandas in a future version. Use pandas.concat instead.\n",
            "\n",
            "C:\\Users\\pdere\\AppData\\Local\\Temp\\ipykernel_16828\\2155755722.py:7: FutureWarning:\n",
            "\n",
            "The frame.append method is deprecated and will be removed from pandas in a future version. Use pandas.concat instead.\n",
            "\n",
            "C:\\Users\\pdere\\AppData\\Local\\Temp\\ipykernel_16828\\2155755722.py:7: FutureWarning:\n",
            "\n",
            "The frame.append method is deprecated and will be removed from pandas in a future version. Use pandas.concat instead.\n",
            "\n",
            "C:\\Users\\pdere\\AppData\\Local\\Temp\\ipykernel_16828\\2155755722.py:7: FutureWarning:\n",
            "\n",
            "The frame.append method is deprecated and will be removed from pandas in a future version. Use pandas.concat instead.\n",
            "\n",
            "C:\\Users\\pdere\\AppData\\Local\\Temp\\ipykernel_16828\\2155755722.py:7: FutureWarning:\n",
            "\n",
            "The frame.append method is deprecated and will be removed from pandas in a future version. Use pandas.concat instead.\n",
            "\n",
            "C:\\Users\\pdere\\AppData\\Local\\Temp\\ipykernel_16828\\2155755722.py:7: FutureWarning:\n",
            "\n",
            "The frame.append method is deprecated and will be removed from pandas in a future version. Use pandas.concat instead.\n",
            "\n",
            "C:\\Users\\pdere\\AppData\\Local\\Temp\\ipykernel_16828\\2155755722.py:7: FutureWarning:\n",
            "\n",
            "The frame.append method is deprecated and will be removed from pandas in a future version. Use pandas.concat instead.\n",
            "\n",
            "C:\\Users\\pdere\\AppData\\Local\\Temp\\ipykernel_16828\\2155755722.py:7: FutureWarning:\n",
            "\n",
            "The frame.append method is deprecated and will be removed from pandas in a future version. Use pandas.concat instead.\n",
            "\n",
            "C:\\Users\\pdere\\AppData\\Local\\Temp\\ipykernel_16828\\2155755722.py:7: FutureWarning:\n",
            "\n",
            "The frame.append method is deprecated and will be removed from pandas in a future version. Use pandas.concat instead.\n",
            "\n",
            "C:\\Users\\pdere\\AppData\\Local\\Temp\\ipykernel_16828\\2155755722.py:7: FutureWarning:\n",
            "\n",
            "The frame.append method is deprecated and will be removed from pandas in a future version. Use pandas.concat instead.\n",
            "\n",
            "C:\\Users\\pdere\\AppData\\Local\\Temp\\ipykernel_16828\\2155755722.py:7: FutureWarning:\n",
            "\n",
            "The frame.append method is deprecated and will be removed from pandas in a future version. Use pandas.concat instead.\n",
            "\n",
            "C:\\Users\\pdere\\AppData\\Local\\Temp\\ipykernel_16828\\2155755722.py:7: FutureWarning:\n",
            "\n",
            "The frame.append method is deprecated and will be removed from pandas in a future version. Use pandas.concat instead.\n",
            "\n",
            "C:\\Users\\pdere\\AppData\\Local\\Temp\\ipykernel_16828\\2155755722.py:7: FutureWarning:\n",
            "\n",
            "The frame.append method is deprecated and will be removed from pandas in a future version. Use pandas.concat instead.\n",
            "\n",
            "C:\\Users\\pdere\\AppData\\Local\\Temp\\ipykernel_16828\\2155755722.py:7: FutureWarning:\n",
            "\n",
            "The frame.append method is deprecated and will be removed from pandas in a future version. Use pandas.concat instead.\n",
            "\n",
            "C:\\Users\\pdere\\AppData\\Local\\Temp\\ipykernel_16828\\2155755722.py:7: FutureWarning:\n",
            "\n",
            "The frame.append method is deprecated and will be removed from pandas in a future version. Use pandas.concat instead.\n",
            "\n",
            "C:\\Users\\pdere\\AppData\\Local\\Temp\\ipykernel_16828\\2155755722.py:7: FutureWarning:\n",
            "\n",
            "The frame.append method is deprecated and will be removed from pandas in a future version. Use pandas.concat instead.\n",
            "\n",
            "C:\\Users\\pdere\\AppData\\Local\\Temp\\ipykernel_16828\\2155755722.py:7: FutureWarning:\n",
            "\n",
            "The frame.append method is deprecated and will be removed from pandas in a future version. Use pandas.concat instead.\n",
            "\n",
            "C:\\Users\\pdere\\AppData\\Local\\Temp\\ipykernel_16828\\2155755722.py:7: FutureWarning:\n",
            "\n",
            "The frame.append method is deprecated and will be removed from pandas in a future version. Use pandas.concat instead.\n",
            "\n",
            "C:\\Users\\pdere\\AppData\\Local\\Temp\\ipykernel_16828\\2155755722.py:7: FutureWarning:\n",
            "\n",
            "The frame.append method is deprecated and will be removed from pandas in a future version. Use pandas.concat instead.\n",
            "\n",
            "C:\\Users\\pdere\\AppData\\Local\\Temp\\ipykernel_16828\\2155755722.py:7: FutureWarning:\n",
            "\n",
            "The frame.append method is deprecated and will be removed from pandas in a future version. Use pandas.concat instead.\n",
            "\n",
            "C:\\Users\\pdere\\AppData\\Local\\Temp\\ipykernel_16828\\2155755722.py:7: FutureWarning:\n",
            "\n",
            "The frame.append method is deprecated and will be removed from pandas in a future version. Use pandas.concat instead.\n",
            "\n",
            "C:\\Users\\pdere\\AppData\\Local\\Temp\\ipykernel_16828\\2155755722.py:7: FutureWarning:\n",
            "\n",
            "The frame.append method is deprecated and will be removed from pandas in a future version. Use pandas.concat instead.\n",
            "\n",
            "C:\\Users\\pdere\\AppData\\Local\\Temp\\ipykernel_16828\\2155755722.py:7: FutureWarning:\n",
            "\n",
            "The frame.append method is deprecated and will be removed from pandas in a future version. Use pandas.concat instead.\n",
            "\n",
            "C:\\Users\\pdere\\AppData\\Local\\Temp\\ipykernel_16828\\2155755722.py:7: FutureWarning:\n",
            "\n",
            "The frame.append method is deprecated and will be removed from pandas in a future version. Use pandas.concat instead.\n",
            "\n",
            "C:\\Users\\pdere\\AppData\\Local\\Temp\\ipykernel_16828\\2155755722.py:7: FutureWarning:\n",
            "\n",
            "The frame.append method is deprecated and will be removed from pandas in a future version. Use pandas.concat instead.\n",
            "\n",
            "C:\\Users\\pdere\\AppData\\Local\\Temp\\ipykernel_16828\\2155755722.py:7: FutureWarning:\n",
            "\n",
            "The frame.append method is deprecated and will be removed from pandas in a future version. Use pandas.concat instead.\n",
            "\n",
            "C:\\Users\\pdere\\AppData\\Local\\Temp\\ipykernel_16828\\2155755722.py:7: FutureWarning:\n",
            "\n",
            "The frame.append method is deprecated and will be removed from pandas in a future version. Use pandas.concat instead.\n",
            "\n",
            "C:\\Users\\pdere\\AppData\\Local\\Temp\\ipykernel_16828\\2155755722.py:7: FutureWarning:\n",
            "\n",
            "The frame.append method is deprecated and will be removed from pandas in a future version. Use pandas.concat instead.\n",
            "\n",
            "C:\\Users\\pdere\\AppData\\Local\\Temp\\ipykernel_16828\\2155755722.py:7: FutureWarning:\n",
            "\n",
            "The frame.append method is deprecated and will be removed from pandas in a future version. Use pandas.concat instead.\n",
            "\n",
            "C:\\Users\\pdere\\AppData\\Local\\Temp\\ipykernel_16828\\2155755722.py:7: FutureWarning:\n",
            "\n",
            "The frame.append method is deprecated and will be removed from pandas in a future version. Use pandas.concat instead.\n",
            "\n",
            "C:\\Users\\pdere\\AppData\\Local\\Temp\\ipykernel_16828\\2155755722.py:7: FutureWarning:\n",
            "\n",
            "The frame.append method is deprecated and will be removed from pandas in a future version. Use pandas.concat instead.\n",
            "\n",
            "C:\\Users\\pdere\\AppData\\Local\\Temp\\ipykernel_16828\\2155755722.py:7: FutureWarning:\n",
            "\n",
            "The frame.append method is deprecated and will be removed from pandas in a future version. Use pandas.concat instead.\n",
            "\n",
            "C:\\Users\\pdere\\AppData\\Local\\Temp\\ipykernel_16828\\2155755722.py:7: FutureWarning:\n",
            "\n",
            "The frame.append method is deprecated and will be removed from pandas in a future version. Use pandas.concat instead.\n",
            "\n",
            "C:\\Users\\pdere\\AppData\\Local\\Temp\\ipykernel_16828\\2155755722.py:7: FutureWarning:\n",
            "\n",
            "The frame.append method is deprecated and will be removed from pandas in a future version. Use pandas.concat instead.\n",
            "\n",
            "C:\\Users\\pdere\\AppData\\Local\\Temp\\ipykernel_16828\\2155755722.py:7: FutureWarning:\n",
            "\n",
            "The frame.append method is deprecated and will be removed from pandas in a future version. Use pandas.concat instead.\n",
            "\n",
            "C:\\Users\\pdere\\AppData\\Local\\Temp\\ipykernel_16828\\2155755722.py:7: FutureWarning:\n",
            "\n",
            "The frame.append method is deprecated and will be removed from pandas in a future version. Use pandas.concat instead.\n",
            "\n",
            "C:\\Users\\pdere\\AppData\\Local\\Temp\\ipykernel_16828\\2155755722.py:7: FutureWarning:\n",
            "\n",
            "The frame.append method is deprecated and will be removed from pandas in a future version. Use pandas.concat instead.\n",
            "\n",
            "C:\\Users\\pdere\\AppData\\Local\\Temp\\ipykernel_16828\\2155755722.py:7: FutureWarning:\n",
            "\n",
            "The frame.append method is deprecated and will be removed from pandas in a future version. Use pandas.concat instead.\n",
            "\n",
            "C:\\Users\\pdere\\AppData\\Local\\Temp\\ipykernel_16828\\2155755722.py:7: FutureWarning:\n",
            "\n",
            "The frame.append method is deprecated and will be removed from pandas in a future version. Use pandas.concat instead.\n",
            "\n",
            "C:\\Users\\pdere\\AppData\\Local\\Temp\\ipykernel_16828\\2155755722.py:7: FutureWarning:\n",
            "\n",
            "The frame.append method is deprecated and will be removed from pandas in a future version. Use pandas.concat instead.\n",
            "\n",
            "C:\\Users\\pdere\\AppData\\Local\\Temp\\ipykernel_16828\\2155755722.py:7: FutureWarning:\n",
            "\n",
            "The frame.append method is deprecated and will be removed from pandas in a future version. Use pandas.concat instead.\n",
            "\n",
            "C:\\Users\\pdere\\AppData\\Local\\Temp\\ipykernel_16828\\2155755722.py:7: FutureWarning:\n",
            "\n",
            "The frame.append method is deprecated and will be removed from pandas in a future version. Use pandas.concat instead.\n",
            "\n",
            "C:\\Users\\pdere\\AppData\\Local\\Temp\\ipykernel_16828\\2155755722.py:7: FutureWarning:\n",
            "\n",
            "The frame.append method is deprecated and will be removed from pandas in a future version. Use pandas.concat instead.\n",
            "\n",
            "C:\\Users\\pdere\\AppData\\Local\\Temp\\ipykernel_16828\\2155755722.py:7: FutureWarning:\n",
            "\n",
            "The frame.append method is deprecated and will be removed from pandas in a future version. Use pandas.concat instead.\n",
            "\n",
            "C:\\Users\\pdere\\AppData\\Local\\Temp\\ipykernel_16828\\2155755722.py:7: FutureWarning:\n",
            "\n",
            "The frame.append method is deprecated and will be removed from pandas in a future version. Use pandas.concat instead.\n",
            "\n",
            "C:\\Users\\pdere\\AppData\\Local\\Temp\\ipykernel_16828\\2155755722.py:7: FutureWarning:\n",
            "\n",
            "The frame.append method is deprecated and will be removed from pandas in a future version. Use pandas.concat instead.\n",
            "\n",
            "C:\\Users\\pdere\\AppData\\Local\\Temp\\ipykernel_16828\\2155755722.py:7: FutureWarning:\n",
            "\n",
            "The frame.append method is deprecated and will be removed from pandas in a future version. Use pandas.concat instead.\n",
            "\n",
            "C:\\Users\\pdere\\AppData\\Local\\Temp\\ipykernel_16828\\2155755722.py:7: FutureWarning:\n",
            "\n",
            "The frame.append method is deprecated and will be removed from pandas in a future version. Use pandas.concat instead.\n",
            "\n",
            "C:\\Users\\pdere\\AppData\\Local\\Temp\\ipykernel_16828\\2155755722.py:7: FutureWarning:\n",
            "\n",
            "The frame.append method is deprecated and will be removed from pandas in a future version. Use pandas.concat instead.\n",
            "\n",
            "C:\\Users\\pdere\\AppData\\Local\\Temp\\ipykernel_16828\\2155755722.py:7: FutureWarning:\n",
            "\n",
            "The frame.append method is deprecated and will be removed from pandas in a future version. Use pandas.concat instead.\n",
            "\n",
            "C:\\Users\\pdere\\AppData\\Local\\Temp\\ipykernel_16828\\2155755722.py:7: FutureWarning:\n",
            "\n",
            "The frame.append method is deprecated and will be removed from pandas in a future version. Use pandas.concat instead.\n",
            "\n",
            "C:\\Users\\pdere\\AppData\\Local\\Temp\\ipykernel_16828\\2155755722.py:7: FutureWarning:\n",
            "\n",
            "The frame.append method is deprecated and will be removed from pandas in a future version. Use pandas.concat instead.\n",
            "\n",
            "C:\\Users\\pdere\\AppData\\Local\\Temp\\ipykernel_16828\\2155755722.py:7: FutureWarning:\n",
            "\n",
            "The frame.append method is deprecated and will be removed from pandas in a future version. Use pandas.concat instead.\n",
            "\n",
            "C:\\Users\\pdere\\AppData\\Local\\Temp\\ipykernel_16828\\2155755722.py:7: FutureWarning:\n",
            "\n",
            "The frame.append method is deprecated and will be removed from pandas in a future version. Use pandas.concat instead.\n",
            "\n",
            "C:\\Users\\pdere\\AppData\\Local\\Temp\\ipykernel_16828\\2155755722.py:7: FutureWarning:\n",
            "\n",
            "The frame.append method is deprecated and will be removed from pandas in a future version. Use pandas.concat instead.\n",
            "\n",
            "C:\\Users\\pdere\\AppData\\Local\\Temp\\ipykernel_16828\\2155755722.py:7: FutureWarning:\n",
            "\n",
            "The frame.append method is deprecated and will be removed from pandas in a future version. Use pandas.concat instead.\n",
            "\n",
            "C:\\Users\\pdere\\AppData\\Local\\Temp\\ipykernel_16828\\2155755722.py:7: FutureWarning:\n",
            "\n",
            "The frame.append method is deprecated and will be removed from pandas in a future version. Use pandas.concat instead.\n",
            "\n",
            "C:\\Users\\pdere\\AppData\\Local\\Temp\\ipykernel_16828\\2155755722.py:7: FutureWarning:\n",
            "\n",
            "The frame.append method is deprecated and will be removed from pandas in a future version. Use pandas.concat instead.\n",
            "\n",
            "C:\\Users\\pdere\\AppData\\Local\\Temp\\ipykernel_16828\\2155755722.py:7: FutureWarning:\n",
            "\n",
            "The frame.append method is deprecated and will be removed from pandas in a future version. Use pandas.concat instead.\n",
            "\n",
            "C:\\Users\\pdere\\AppData\\Local\\Temp\\ipykernel_16828\\2155755722.py:7: FutureWarning:\n",
            "\n",
            "The frame.append method is deprecated and will be removed from pandas in a future version. Use pandas.concat instead.\n",
            "\n",
            "C:\\Users\\pdere\\AppData\\Local\\Temp\\ipykernel_16828\\2155755722.py:7: FutureWarning:\n",
            "\n",
            "The frame.append method is deprecated and will be removed from pandas in a future version. Use pandas.concat instead.\n",
            "\n",
            "C:\\Users\\pdere\\AppData\\Local\\Temp\\ipykernel_16828\\2155755722.py:7: FutureWarning:\n",
            "\n",
            "The frame.append method is deprecated and will be removed from pandas in a future version. Use pandas.concat instead.\n",
            "\n",
            "C:\\Users\\pdere\\AppData\\Local\\Temp\\ipykernel_16828\\2155755722.py:7: FutureWarning:\n",
            "\n",
            "The frame.append method is deprecated and will be removed from pandas in a future version. Use pandas.concat instead.\n",
            "\n",
            "C:\\Users\\pdere\\AppData\\Local\\Temp\\ipykernel_16828\\2155755722.py:7: FutureWarning:\n",
            "\n",
            "The frame.append method is deprecated and will be removed from pandas in a future version. Use pandas.concat instead.\n",
            "\n",
            "C:\\Users\\pdere\\AppData\\Local\\Temp\\ipykernel_16828\\2155755722.py:7: FutureWarning:\n",
            "\n",
            "The frame.append method is deprecated and will be removed from pandas in a future version. Use pandas.concat instead.\n",
            "\n",
            "C:\\Users\\pdere\\AppData\\Local\\Temp\\ipykernel_16828\\2155755722.py:7: FutureWarning:\n",
            "\n",
            "The frame.append method is deprecated and will be removed from pandas in a future version. Use pandas.concat instead.\n",
            "\n",
            "C:\\Users\\pdere\\AppData\\Local\\Temp\\ipykernel_16828\\2155755722.py:7: FutureWarning:\n",
            "\n",
            "The frame.append method is deprecated and will be removed from pandas in a future version. Use pandas.concat instead.\n",
            "\n",
            "C:\\Users\\pdere\\AppData\\Local\\Temp\\ipykernel_16828\\2155755722.py:7: FutureWarning:\n",
            "\n",
            "The frame.append method is deprecated and will be removed from pandas in a future version. Use pandas.concat instead.\n",
            "\n"
          ]
        },
        {
          "data": {
            "text/html": [
              "<div>\n",
              "<style scoped>\n",
              "    .dataframe tbody tr th:only-of-type {\n",
              "        vertical-align: middle;\n",
              "    }\n",
              "\n",
              "    .dataframe tbody tr th {\n",
              "        vertical-align: top;\n",
              "    }\n",
              "\n",
              "    .dataframe thead th {\n",
              "        text-align: right;\n",
              "    }\n",
              "</style>\n",
              "<table border=\"1\" class=\"dataframe\">\n",
              "  <thead>\n",
              "    <tr style=\"text-align: right;\">\n",
              "      <th></th>\n",
              "      <th>category</th>\n",
              "      <th>day</th>\n",
              "      <th>total_attendees</th>\n",
              "    </tr>\n",
              "  </thead>\n",
              "  <tbody>\n",
              "    <tr>\n",
              "      <th>25</th>\n",
              "      <td>Building Information Modeling (BIM)</td>\n",
              "      <td>29.0</td>\n",
              "      <td>9650</td>\n",
              "    </tr>\n",
              "    <tr>\n",
              "      <th>24</th>\n",
              "      <td>Building Information Modeling (BIM)</td>\n",
              "      <td>28.0</td>\n",
              "      <td>8124</td>\n",
              "    </tr>\n",
              "    <tr>\n",
              "      <th>34</th>\n",
              "      <td>Cloud Collaboration</td>\n",
              "      <td>27.0</td>\n",
              "      <td>7864</td>\n",
              "    </tr>\n",
              "    <tr>\n",
              "      <th>47</th>\n",
              "      <td>Data Management</td>\n",
              "      <td>27.0</td>\n",
              "      <td>6258</td>\n",
              "    </tr>\n",
              "    <tr>\n",
              "      <th>36</th>\n",
              "      <td>Cloud Collaboration</td>\n",
              "      <td>29.0</td>\n",
              "      <td>5420</td>\n",
              "    </tr>\n",
              "    <tr>\n",
              "      <th>...</th>\n",
              "      <td>...</td>\n",
              "      <td>...</td>\n",
              "      <td>...</td>\n",
              "    </tr>\n",
              "    <tr>\n",
              "      <th>45</th>\n",
              "      <td>Convergence</td>\n",
              "      <td>28.0</td>\n",
              "      <td>156</td>\n",
              "    </tr>\n",
              "    <tr>\n",
              "      <th>123</th>\n",
              "      <td>Water Resource Management</td>\n",
              "      <td>27.0</td>\n",
              "      <td>148</td>\n",
              "    </tr>\n",
              "    <tr>\n",
              "      <th>77</th>\n",
              "      <td>Game Development</td>\n",
              "      <td>27.0</td>\n",
              "      <td>144</td>\n",
              "    </tr>\n",
              "    <tr>\n",
              "      <th>121</th>\n",
              "      <td>Virtual Production</td>\n",
              "      <td>27.0</td>\n",
              "      <td>144</td>\n",
              "    </tr>\n",
              "    <tr>\n",
              "      <th>0</th>\n",
              "      <td>3D Animation and VFX</td>\n",
              "      <td>27.0</td>\n",
              "      <td>144</td>\n",
              "    </tr>\n",
              "  </tbody>\n",
              "</table>\n",
              "<p>125 rows × 3 columns</p>\n",
              "</div>"
            ],
            "text/plain": [
              "                                category   day total_attendees\n",
              "25   Building Information Modeling (BIM)  29.0            9650\n",
              "24   Building Information Modeling (BIM)  28.0            8124\n",
              "34                   Cloud Collaboration  27.0            7864\n",
              "47                       Data Management  27.0            6258\n",
              "36                   Cloud Collaboration  29.0            5420\n",
              "..                                   ...   ...             ...\n",
              "45                           Convergence  28.0             156\n",
              "123            Water Resource Management  27.0             148\n",
              "77                      Game Development  27.0             144\n",
              "121                   Virtual Production  27.0             144\n",
              "0                   3D Animation and VFX  27.0             144\n",
              "\n",
              "[125 rows x 3 columns]"
            ]
          },
          "execution_count": 13,
          "metadata": {},
          "output_type": "execute_result"
        }
      ],
      "source": [
        "df_records[\"day\"] = pd.to_datetime(df_records[\"beginsAt\"]).dt.day\n",
        "class_attendees_per_categories= pd.DataFrame(columns=['class_name', 'total_attendees', 'category'])\n",
        "for i, r in df_records.iterrows():\n",
        "  if r[\"category\"]:\n",
        "    for c in r[\"category\"]:\n",
        "      n = {\"class_name\":r[\"class_name\"],'total_attendees': r['total_attendees'], \"category\":c,\"day\":r[\"day\"] }\n",
        "      class_attendees_per_categories = class_attendees_per_categories.append(n,ignore_index=True)\n",
        "\n",
        "class_attendees_per_categories_group = class_attendees_per_categories.groupby(['category','day'])['total_attendees'].sum().reset_index().sort_values(by='total_attendees',ascending=False)\n",
        "class_attendees_per_categories_group"
      ]
    },
    {
      "cell_type": "code",
      "execution_count": 14,
      "metadata": {
        "id": "IeQpkto__ue4"
      },
      "outputs": [
        {
          "data": {
            "application/vnd.plotly.v1+json": {
              "config": {
                "plotlyServerURL": "https://plot.ly"
              },
              "data": [
                {
                  "alignmentgroup": "True",
                  "hovertemplate": "day=%{x}<br>total_attendees=%{y}<extra></extra>",
                  "legendgroup": "",
                  "marker": {
                    "color": "#636efa",
                    "pattern": {
                      "shape": ""
                    }
                  },
                  "name": "",
                  "offsetgroup": "",
                  "orientation": "h",
                  "showlegend": false,
                  "textposition": "auto",
                  "type": "bar",
                  "x": [
                    27,
                    27,
                    27,
                    27,
                    27,
                    27,
                    27,
                    27,
                    27,
                    27,
                    27,
                    27,
                    27,
                    27,
                    27,
                    27,
                    27,
                    27,
                    27,
                    27,
                    27,
                    27,
                    27,
                    27,
                    27,
                    27,
                    27,
                    27,
                    27,
                    27,
                    27,
                    27,
                    27,
                    27,
                    27,
                    27,
                    27,
                    27,
                    27,
                    27,
                    27,
                    27,
                    27,
                    27,
                    27,
                    28,
                    28,
                    28,
                    28,
                    28,
                    28,
                    28,
                    28,
                    28,
                    28,
                    28,
                    28,
                    28,
                    28,
                    28,
                    28,
                    28,
                    28,
                    28,
                    28,
                    28,
                    28,
                    28,
                    28,
                    28,
                    28,
                    28,
                    28,
                    28,
                    28,
                    28,
                    28,
                    28,
                    28,
                    28,
                    28,
                    28,
                    28,
                    28,
                    28,
                    29,
                    29,
                    29,
                    29,
                    29,
                    29,
                    29,
                    29,
                    29,
                    29,
                    29,
                    29,
                    29,
                    29,
                    29,
                    29,
                    29,
                    29,
                    29,
                    29,
                    29,
                    29,
                    29,
                    29,
                    29,
                    29,
                    29,
                    29,
                    29,
                    29,
                    29,
                    29,
                    29,
                    29,
                    29,
                    29,
                    29,
                    29,
                    29,
                    29
                  ],
                  "xaxis": "x",
                  "y": [
                    1148,
                    1900,
                    1829,
                    1487,
                    1338,
                    1191,
                    1152,
                    144,
                    1035,
                    1008,
                    934,
                    934,
                    825,
                    825,
                    740,
                    740,
                    677,
                    677,
                    144,
                    148,
                    203,
                    203,
                    257,
                    327,
                    1957,
                    327,
                    438,
                    514,
                    522,
                    537,
                    584,
                    585,
                    357,
                    2094,
                    144,
                    3422,
                    3376,
                    2249,
                    7864,
                    6258,
                    2544,
                    4660,
                    5209,
                    3448,
                    3502,
                    520,
                    533,
                    737,
                    4966,
                    3439,
                    2196,
                    783,
                    4434,
                    482,
                    388,
                    427,
                    2957,
                    5202,
                    349,
                    267,
                    267,
                    267,
                    267,
                    267,
                    264,
                    156,
                    8124,
                    5010,
                    2937,
                    2151,
                    1807,
                    1608,
                    1962,
                    1621,
                    947,
                    2626,
                    1034,
                    1478,
                    2562,
                    1039,
                    2690,
                    2690,
                    2690,
                    2690,
                    1237,
                    270,
                    992,
                    320,
                    298,
                    298,
                    1876,
                    1876,
                    1903,
                    5293,
                    5420,
                    1927,
                    169,
                    169,
                    169,
                    2516,
                    2118,
                    1804,
                    1646,
                    1496,
                    1569,
                    921,
                    913,
                    913,
                    895,
                    3109,
                    2886,
                    746,
                    2696,
                    5207,
                    722,
                    627,
                    4109,
                    1209,
                    1222,
                    1222,
                    4869,
                    504,
                    398,
                    627,
                    9650
                  ],
                  "yaxis": "y"
                }
              ],
              "layout": {
                "barmode": "relative",
                "legend": {
                  "tracegroupgap": 0
                },
                "margin": {
                  "t": 60
                },
                "template": {
                  "data": {
                    "bar": [
                      {
                        "error_x": {
                          "color": "#2a3f5f"
                        },
                        "error_y": {
                          "color": "#2a3f5f"
                        },
                        "marker": {
                          "line": {
                            "color": "#E5ECF6",
                            "width": 0.5
                          },
                          "pattern": {
                            "fillmode": "overlay",
                            "size": 10,
                            "solidity": 0.2
                          }
                        },
                        "type": "bar"
                      }
                    ],
                    "barpolar": [
                      {
                        "marker": {
                          "line": {
                            "color": "#E5ECF6",
                            "width": 0.5
                          },
                          "pattern": {
                            "fillmode": "overlay",
                            "size": 10,
                            "solidity": 0.2
                          }
                        },
                        "type": "barpolar"
                      }
                    ],
                    "carpet": [
                      {
                        "aaxis": {
                          "endlinecolor": "#2a3f5f",
                          "gridcolor": "white",
                          "linecolor": "white",
                          "minorgridcolor": "white",
                          "startlinecolor": "#2a3f5f"
                        },
                        "baxis": {
                          "endlinecolor": "#2a3f5f",
                          "gridcolor": "white",
                          "linecolor": "white",
                          "minorgridcolor": "white",
                          "startlinecolor": "#2a3f5f"
                        },
                        "type": "carpet"
                      }
                    ],
                    "choropleth": [
                      {
                        "colorbar": {
                          "outlinewidth": 0,
                          "ticks": ""
                        },
                        "type": "choropleth"
                      }
                    ],
                    "contour": [
                      {
                        "colorbar": {
                          "outlinewidth": 0,
                          "ticks": ""
                        },
                        "colorscale": [
                          [
                            0,
                            "#0d0887"
                          ],
                          [
                            0.1111111111111111,
                            "#46039f"
                          ],
                          [
                            0.2222222222222222,
                            "#7201a8"
                          ],
                          [
                            0.3333333333333333,
                            "#9c179e"
                          ],
                          [
                            0.4444444444444444,
                            "#bd3786"
                          ],
                          [
                            0.5555555555555556,
                            "#d8576b"
                          ],
                          [
                            0.6666666666666666,
                            "#ed7953"
                          ],
                          [
                            0.7777777777777778,
                            "#fb9f3a"
                          ],
                          [
                            0.8888888888888888,
                            "#fdca26"
                          ],
                          [
                            1,
                            "#f0f921"
                          ]
                        ],
                        "type": "contour"
                      }
                    ],
                    "contourcarpet": [
                      {
                        "colorbar": {
                          "outlinewidth": 0,
                          "ticks": ""
                        },
                        "type": "contourcarpet"
                      }
                    ],
                    "heatmap": [
                      {
                        "colorbar": {
                          "outlinewidth": 0,
                          "ticks": ""
                        },
                        "colorscale": [
                          [
                            0,
                            "#0d0887"
                          ],
                          [
                            0.1111111111111111,
                            "#46039f"
                          ],
                          [
                            0.2222222222222222,
                            "#7201a8"
                          ],
                          [
                            0.3333333333333333,
                            "#9c179e"
                          ],
                          [
                            0.4444444444444444,
                            "#bd3786"
                          ],
                          [
                            0.5555555555555556,
                            "#d8576b"
                          ],
                          [
                            0.6666666666666666,
                            "#ed7953"
                          ],
                          [
                            0.7777777777777778,
                            "#fb9f3a"
                          ],
                          [
                            0.8888888888888888,
                            "#fdca26"
                          ],
                          [
                            1,
                            "#f0f921"
                          ]
                        ],
                        "type": "heatmap"
                      }
                    ],
                    "heatmapgl": [
                      {
                        "colorbar": {
                          "outlinewidth": 0,
                          "ticks": ""
                        },
                        "colorscale": [
                          [
                            0,
                            "#0d0887"
                          ],
                          [
                            0.1111111111111111,
                            "#46039f"
                          ],
                          [
                            0.2222222222222222,
                            "#7201a8"
                          ],
                          [
                            0.3333333333333333,
                            "#9c179e"
                          ],
                          [
                            0.4444444444444444,
                            "#bd3786"
                          ],
                          [
                            0.5555555555555556,
                            "#d8576b"
                          ],
                          [
                            0.6666666666666666,
                            "#ed7953"
                          ],
                          [
                            0.7777777777777778,
                            "#fb9f3a"
                          ],
                          [
                            0.8888888888888888,
                            "#fdca26"
                          ],
                          [
                            1,
                            "#f0f921"
                          ]
                        ],
                        "type": "heatmapgl"
                      }
                    ],
                    "histogram": [
                      {
                        "marker": {
                          "pattern": {
                            "fillmode": "overlay",
                            "size": 10,
                            "solidity": 0.2
                          }
                        },
                        "type": "histogram"
                      }
                    ],
                    "histogram2d": [
                      {
                        "colorbar": {
                          "outlinewidth": 0,
                          "ticks": ""
                        },
                        "colorscale": [
                          [
                            0,
                            "#0d0887"
                          ],
                          [
                            0.1111111111111111,
                            "#46039f"
                          ],
                          [
                            0.2222222222222222,
                            "#7201a8"
                          ],
                          [
                            0.3333333333333333,
                            "#9c179e"
                          ],
                          [
                            0.4444444444444444,
                            "#bd3786"
                          ],
                          [
                            0.5555555555555556,
                            "#d8576b"
                          ],
                          [
                            0.6666666666666666,
                            "#ed7953"
                          ],
                          [
                            0.7777777777777778,
                            "#fb9f3a"
                          ],
                          [
                            0.8888888888888888,
                            "#fdca26"
                          ],
                          [
                            1,
                            "#f0f921"
                          ]
                        ],
                        "type": "histogram2d"
                      }
                    ],
                    "histogram2dcontour": [
                      {
                        "colorbar": {
                          "outlinewidth": 0,
                          "ticks": ""
                        },
                        "colorscale": [
                          [
                            0,
                            "#0d0887"
                          ],
                          [
                            0.1111111111111111,
                            "#46039f"
                          ],
                          [
                            0.2222222222222222,
                            "#7201a8"
                          ],
                          [
                            0.3333333333333333,
                            "#9c179e"
                          ],
                          [
                            0.4444444444444444,
                            "#bd3786"
                          ],
                          [
                            0.5555555555555556,
                            "#d8576b"
                          ],
                          [
                            0.6666666666666666,
                            "#ed7953"
                          ],
                          [
                            0.7777777777777778,
                            "#fb9f3a"
                          ],
                          [
                            0.8888888888888888,
                            "#fdca26"
                          ],
                          [
                            1,
                            "#f0f921"
                          ]
                        ],
                        "type": "histogram2dcontour"
                      }
                    ],
                    "mesh3d": [
                      {
                        "colorbar": {
                          "outlinewidth": 0,
                          "ticks": ""
                        },
                        "type": "mesh3d"
                      }
                    ],
                    "parcoords": [
                      {
                        "line": {
                          "colorbar": {
                            "outlinewidth": 0,
                            "ticks": ""
                          }
                        },
                        "type": "parcoords"
                      }
                    ],
                    "pie": [
                      {
                        "automargin": true,
                        "type": "pie"
                      }
                    ],
                    "scatter": [
                      {
                        "fillpattern": {
                          "fillmode": "overlay",
                          "size": 10,
                          "solidity": 0.2
                        },
                        "type": "scatter"
                      }
                    ],
                    "scatter3d": [
                      {
                        "line": {
                          "colorbar": {
                            "outlinewidth": 0,
                            "ticks": ""
                          }
                        },
                        "marker": {
                          "colorbar": {
                            "outlinewidth": 0,
                            "ticks": ""
                          }
                        },
                        "type": "scatter3d"
                      }
                    ],
                    "scattercarpet": [
                      {
                        "marker": {
                          "colorbar": {
                            "outlinewidth": 0,
                            "ticks": ""
                          }
                        },
                        "type": "scattercarpet"
                      }
                    ],
                    "scattergeo": [
                      {
                        "marker": {
                          "colorbar": {
                            "outlinewidth": 0,
                            "ticks": ""
                          }
                        },
                        "type": "scattergeo"
                      }
                    ],
                    "scattergl": [
                      {
                        "marker": {
                          "colorbar": {
                            "outlinewidth": 0,
                            "ticks": ""
                          }
                        },
                        "type": "scattergl"
                      }
                    ],
                    "scattermapbox": [
                      {
                        "marker": {
                          "colorbar": {
                            "outlinewidth": 0,
                            "ticks": ""
                          }
                        },
                        "type": "scattermapbox"
                      }
                    ],
                    "scatterpolar": [
                      {
                        "marker": {
                          "colorbar": {
                            "outlinewidth": 0,
                            "ticks": ""
                          }
                        },
                        "type": "scatterpolar"
                      }
                    ],
                    "scatterpolargl": [
                      {
                        "marker": {
                          "colorbar": {
                            "outlinewidth": 0,
                            "ticks": ""
                          }
                        },
                        "type": "scatterpolargl"
                      }
                    ],
                    "scatterternary": [
                      {
                        "marker": {
                          "colorbar": {
                            "outlinewidth": 0,
                            "ticks": ""
                          }
                        },
                        "type": "scatterternary"
                      }
                    ],
                    "surface": [
                      {
                        "colorbar": {
                          "outlinewidth": 0,
                          "ticks": ""
                        },
                        "colorscale": [
                          [
                            0,
                            "#0d0887"
                          ],
                          [
                            0.1111111111111111,
                            "#46039f"
                          ],
                          [
                            0.2222222222222222,
                            "#7201a8"
                          ],
                          [
                            0.3333333333333333,
                            "#9c179e"
                          ],
                          [
                            0.4444444444444444,
                            "#bd3786"
                          ],
                          [
                            0.5555555555555556,
                            "#d8576b"
                          ],
                          [
                            0.6666666666666666,
                            "#ed7953"
                          ],
                          [
                            0.7777777777777778,
                            "#fb9f3a"
                          ],
                          [
                            0.8888888888888888,
                            "#fdca26"
                          ],
                          [
                            1,
                            "#f0f921"
                          ]
                        ],
                        "type": "surface"
                      }
                    ],
                    "table": [
                      {
                        "cells": {
                          "fill": {
                            "color": "#EBF0F8"
                          },
                          "line": {
                            "color": "white"
                          }
                        },
                        "header": {
                          "fill": {
                            "color": "#C8D4E3"
                          },
                          "line": {
                            "color": "white"
                          }
                        },
                        "type": "table"
                      }
                    ]
                  },
                  "layout": {
                    "annotationdefaults": {
                      "arrowcolor": "#2a3f5f",
                      "arrowhead": 0,
                      "arrowwidth": 1
                    },
                    "autotypenumbers": "strict",
                    "coloraxis": {
                      "colorbar": {
                        "outlinewidth": 0,
                        "ticks": ""
                      }
                    },
                    "colorscale": {
                      "diverging": [
                        [
                          0,
                          "#8e0152"
                        ],
                        [
                          0.1,
                          "#c51b7d"
                        ],
                        [
                          0.2,
                          "#de77ae"
                        ],
                        [
                          0.3,
                          "#f1b6da"
                        ],
                        [
                          0.4,
                          "#fde0ef"
                        ],
                        [
                          0.5,
                          "#f7f7f7"
                        ],
                        [
                          0.6,
                          "#e6f5d0"
                        ],
                        [
                          0.7,
                          "#b8e186"
                        ],
                        [
                          0.8,
                          "#7fbc41"
                        ],
                        [
                          0.9,
                          "#4d9221"
                        ],
                        [
                          1,
                          "#276419"
                        ]
                      ],
                      "sequential": [
                        [
                          0,
                          "#0d0887"
                        ],
                        [
                          0.1111111111111111,
                          "#46039f"
                        ],
                        [
                          0.2222222222222222,
                          "#7201a8"
                        ],
                        [
                          0.3333333333333333,
                          "#9c179e"
                        ],
                        [
                          0.4444444444444444,
                          "#bd3786"
                        ],
                        [
                          0.5555555555555556,
                          "#d8576b"
                        ],
                        [
                          0.6666666666666666,
                          "#ed7953"
                        ],
                        [
                          0.7777777777777778,
                          "#fb9f3a"
                        ],
                        [
                          0.8888888888888888,
                          "#fdca26"
                        ],
                        [
                          1,
                          "#f0f921"
                        ]
                      ],
                      "sequentialminus": [
                        [
                          0,
                          "#0d0887"
                        ],
                        [
                          0.1111111111111111,
                          "#46039f"
                        ],
                        [
                          0.2222222222222222,
                          "#7201a8"
                        ],
                        [
                          0.3333333333333333,
                          "#9c179e"
                        ],
                        [
                          0.4444444444444444,
                          "#bd3786"
                        ],
                        [
                          0.5555555555555556,
                          "#d8576b"
                        ],
                        [
                          0.6666666666666666,
                          "#ed7953"
                        ],
                        [
                          0.7777777777777778,
                          "#fb9f3a"
                        ],
                        [
                          0.8888888888888888,
                          "#fdca26"
                        ],
                        [
                          1,
                          "#f0f921"
                        ]
                      ]
                    },
                    "colorway": [
                      "#636efa",
                      "#EF553B",
                      "#00cc96",
                      "#ab63fa",
                      "#FFA15A",
                      "#19d3f3",
                      "#FF6692",
                      "#B6E880",
                      "#FF97FF",
                      "#FECB52"
                    ],
                    "font": {
                      "color": "#2a3f5f"
                    },
                    "geo": {
                      "bgcolor": "white",
                      "lakecolor": "white",
                      "landcolor": "#E5ECF6",
                      "showlakes": true,
                      "showland": true,
                      "subunitcolor": "white"
                    },
                    "hoverlabel": {
                      "align": "left"
                    },
                    "hovermode": "closest",
                    "mapbox": {
                      "style": "light"
                    },
                    "paper_bgcolor": "white",
                    "plot_bgcolor": "#E5ECF6",
                    "polar": {
                      "angularaxis": {
                        "gridcolor": "white",
                        "linecolor": "white",
                        "ticks": ""
                      },
                      "bgcolor": "#E5ECF6",
                      "radialaxis": {
                        "gridcolor": "white",
                        "linecolor": "white",
                        "ticks": ""
                      }
                    },
                    "scene": {
                      "xaxis": {
                        "backgroundcolor": "#E5ECF6",
                        "gridcolor": "white",
                        "gridwidth": 2,
                        "linecolor": "white",
                        "showbackground": true,
                        "ticks": "",
                        "zerolinecolor": "white"
                      },
                      "yaxis": {
                        "backgroundcolor": "#E5ECF6",
                        "gridcolor": "white",
                        "gridwidth": 2,
                        "linecolor": "white",
                        "showbackground": true,
                        "ticks": "",
                        "zerolinecolor": "white"
                      },
                      "zaxis": {
                        "backgroundcolor": "#E5ECF6",
                        "gridcolor": "white",
                        "gridwidth": 2,
                        "linecolor": "white",
                        "showbackground": true,
                        "ticks": "",
                        "zerolinecolor": "white"
                      }
                    },
                    "shapedefaults": {
                      "line": {
                        "color": "#2a3f5f"
                      }
                    },
                    "ternary": {
                      "aaxis": {
                        "gridcolor": "white",
                        "linecolor": "white",
                        "ticks": ""
                      },
                      "baxis": {
                        "gridcolor": "white",
                        "linecolor": "white",
                        "ticks": ""
                      },
                      "bgcolor": "#E5ECF6",
                      "caxis": {
                        "gridcolor": "white",
                        "linecolor": "white",
                        "ticks": ""
                      }
                    },
                    "title": {
                      "x": 0.05
                    },
                    "xaxis": {
                      "automargin": true,
                      "gridcolor": "white",
                      "linecolor": "white",
                      "ticks": "",
                      "title": {
                        "standoff": 15
                      },
                      "zerolinecolor": "white",
                      "zerolinewidth": 2
                    },
                    "yaxis": {
                      "automargin": true,
                      "gridcolor": "white",
                      "linecolor": "white",
                      "ticks": "",
                      "title": {
                        "standoff": 15
                      },
                      "zerolinecolor": "white",
                      "zerolinewidth": 2
                    }
                  }
                },
                "xaxis": {
                  "anchor": "y",
                  "domain": [
                    0,
                    1
                  ],
                  "title": {
                    "text": "day"
                  }
                },
                "yaxis": {
                  "anchor": "x",
                  "domain": [
                    0,
                    1
                  ],
                  "title": {
                    "text": "total_attendees"
                  }
                }
              }
            }
          },
          "metadata": {},
          "output_type": "display_data"
        }
      ],
      "source": [
        "class_attendees_per_categories_group.sort_values(by='day',ascending=True).plot(x=\"day\", y=\"total_attendees\",  kind=\"bar\")\n"
      ]
    },
    {
      "cell_type": "code",
      "execution_count": 15,
      "metadata": {
        "id": "T68vqQ23gFkp"
      },
      "outputs": [
        {
          "data": {
            "application/vnd.plotly.v1+json": {
              "config": {
                "plotlyServerURL": "https://plot.ly"
              },
              "data": [
                {
                  "alignmentgroup": "True",
                  "hovertemplate": "category=3D Animation and VFX<br>day=%{x}<br>value=%{y}<extra></extra>",
                  "legendgroup": "3D Animation and VFX",
                  "marker": {
                    "color": "#636efa",
                    "pattern": {
                      "shape": ""
                    }
                  },
                  "name": "3D Animation and VFX",
                  "offsetgroup": "3D Animation and VFX",
                  "orientation": "v",
                  "showlegend": true,
                  "textposition": "auto",
                  "type": "bar",
                  "x": [
                    27,
                    28,
                    29
                  ],
                  "xaxis": "x",
                  "y": [
                    1,
                    1,
                    1
                  ],
                  "yaxis": "y"
                },
                {
                  "alignmentgroup": "True",
                  "hovertemplate": "category=3D Printing<br>day=%{x}<br>value=%{y}<extra></extra>",
                  "legendgroup": "3D Printing",
                  "marker": {
                    "color": "#EF553B",
                    "pattern": {
                      "shape": ""
                    }
                  },
                  "name": "3D Printing",
                  "offsetgroup": "3D Printing",
                  "orientation": "v",
                  "showlegend": true,
                  "textposition": "auto",
                  "type": "bar",
                  "x": [
                    27,
                    28,
                    29
                  ],
                  "xaxis": "x",
                  "y": [
                    1,
                    1,
                    0
                  ],
                  "yaxis": "y"
                },
                {
                  "alignmentgroup": "True",
                  "hovertemplate": "category=AR, VR, XR, and Reality Capture<br>day=%{x}<br>value=%{y}<extra></extra>",
                  "legendgroup": "AR, VR, XR, and Reality Capture",
                  "marker": {
                    "color": "#00cc96",
                    "pattern": {
                      "shape": ""
                    }
                  },
                  "name": "AR, VR, XR, and Reality Capture",
                  "offsetgroup": "AR, VR, XR, and Reality Capture",
                  "orientation": "v",
                  "showlegend": true,
                  "textposition": "auto",
                  "type": "bar",
                  "x": [
                    27,
                    28,
                    29
                  ],
                  "xaxis": "x",
                  "y": [
                    0,
                    2,
                    1
                  ],
                  "yaxis": "y"
                },
                {
                  "alignmentgroup": "True",
                  "hovertemplate": "category=Additive Manufacturing<br>day=%{x}<br>value=%{y}<extra></extra>",
                  "legendgroup": "Additive Manufacturing",
                  "marker": {
                    "color": "#ab63fa",
                    "pattern": {
                      "shape": ""
                    }
                  },
                  "name": "Additive Manufacturing",
                  "offsetgroup": "Additive Manufacturing",
                  "orientation": "v",
                  "showlegend": true,
                  "textposition": "auto",
                  "type": "bar",
                  "x": [
                    27,
                    28,
                    29
                  ],
                  "xaxis": "x",
                  "y": [
                    2,
                    1,
                    0
                  ],
                  "yaxis": "y"
                },
                {
                  "alignmentgroup": "True",
                  "hovertemplate": "category=Advanced Manufacturing<br>day=%{x}<br>value=%{y}<extra></extra>",
                  "legendgroup": "Advanced Manufacturing",
                  "marker": {
                    "color": "#FFA15A",
                    "pattern": {
                      "shape": ""
                    }
                  },
                  "name": "Advanced Manufacturing",
                  "offsetgroup": "Advanced Manufacturing",
                  "orientation": "v",
                  "showlegend": true,
                  "textposition": "auto",
                  "type": "bar",
                  "x": [
                    27,
                    28,
                    29
                  ],
                  "xaxis": "x",
                  "y": [
                    1,
                    0,
                    0
                  ],
                  "yaxis": "y"
                },
                {
                  "alignmentgroup": "True",
                  "hovertemplate": "category=Artificial Intelligence and Machine Learning<br>day=%{x}<br>value=%{y}<extra></extra>",
                  "legendgroup": "Artificial Intelligence and Machine Learning",
                  "marker": {
                    "color": "#19d3f3",
                    "pattern": {
                      "shape": ""
                    }
                  },
                  "name": "Artificial Intelligence and Machine Learning",
                  "offsetgroup": "Artificial Intelligence and Machine Learning",
                  "orientation": "v",
                  "showlegend": true,
                  "textposition": "auto",
                  "type": "bar",
                  "x": [
                    27,
                    28,
                    29
                  ],
                  "xaxis": "x",
                  "y": [
                    1,
                    6,
                    2
                  ],
                  "yaxis": "y"
                },
                {
                  "alignmentgroup": "True",
                  "hovertemplate": "category=AutoCAD and General Design<br>day=%{x}<br>value=%{y}<extra></extra>",
                  "legendgroup": "AutoCAD and General Design",
                  "marker": {
                    "color": "#FF6692",
                    "pattern": {
                      "shape": ""
                    }
                  },
                  "name": "AutoCAD and General Design",
                  "offsetgroup": "AutoCAD and General Design",
                  "orientation": "v",
                  "showlegend": true,
                  "textposition": "auto",
                  "type": "bar",
                  "x": [
                    27,
                    28,
                    29
                  ],
                  "xaxis": "x",
                  "y": [
                    0,
                    1,
                    0
                  ],
                  "yaxis": "y"
                },
                {
                  "alignmentgroup": "True",
                  "hovertemplate": "category=Automation<br>day=%{x}<br>value=%{y}<extra></extra>",
                  "legendgroup": "Automation",
                  "marker": {
                    "color": "#B6E880",
                    "pattern": {
                      "shape": ""
                    }
                  },
                  "name": "Automation",
                  "offsetgroup": "Automation",
                  "orientation": "v",
                  "showlegend": true,
                  "textposition": "auto",
                  "type": "bar",
                  "x": [
                    27,
                    28,
                    29
                  ],
                  "xaxis": "x",
                  "y": [
                    3,
                    5,
                    4
                  ],
                  "yaxis": "y"
                },
                {
                  "alignmentgroup": "True",
                  "hovertemplate": "category=Automotive and Industrial Design<br>day=%{x}<br>value=%{y}<extra></extra>",
                  "legendgroup": "Automotive and Industrial Design",
                  "marker": {
                    "color": "#FF97FF",
                    "pattern": {
                      "shape": ""
                    }
                  },
                  "name": "Automotive and Industrial Design",
                  "offsetgroup": "Automotive and Industrial Design",
                  "orientation": "v",
                  "showlegend": true,
                  "textposition": "auto",
                  "type": "bar",
                  "x": [
                    27,
                    28,
                    29
                  ],
                  "xaxis": "x",
                  "y": [
                    0,
                    0,
                    2
                  ],
                  "yaxis": "y"
                },
                {
                  "alignmentgroup": "True",
                  "hovertemplate": "category=Bid Management<br>day=%{x}<br>value=%{y}<extra></extra>",
                  "legendgroup": "Bid Management",
                  "marker": {
                    "color": "#FECB52",
                    "pattern": {
                      "shape": ""
                    }
                  },
                  "name": "Bid Management",
                  "offsetgroup": "Bid Management",
                  "orientation": "v",
                  "showlegend": true,
                  "textposition": "auto",
                  "type": "bar",
                  "x": [
                    27,
                    28,
                    29
                  ],
                  "xaxis": "x",
                  "y": [
                    0,
                    1,
                    1
                  ],
                  "yaxis": "y"
                },
                {
                  "alignmentgroup": "True",
                  "hovertemplate": "category=Building Design<br>day=%{x}<br>value=%{y}<extra></extra>",
                  "legendgroup": "Building Design",
                  "marker": {
                    "color": "#636efa",
                    "pattern": {
                      "shape": ""
                    }
                  },
                  "name": "Building Design",
                  "offsetgroup": "Building Design",
                  "orientation": "v",
                  "showlegend": true,
                  "textposition": "auto",
                  "type": "bar",
                  "x": [
                    27,
                    28,
                    29
                  ],
                  "xaxis": "x",
                  "y": [
                    2,
                    2,
                    1
                  ],
                  "yaxis": "y"
                },
                {
                  "alignmentgroup": "True",
                  "hovertemplate": "category=Building Information Modeling (BIM)<br>day=%{x}<br>value=%{y}<extra></extra>",
                  "legendgroup": "Building Information Modeling (BIM)",
                  "marker": {
                    "color": "#EF553B",
                    "pattern": {
                      "shape": ""
                    }
                  },
                  "name": "Building Information Modeling (BIM)",
                  "offsetgroup": "Building Information Modeling (BIM)",
                  "orientation": "v",
                  "showlegend": true,
                  "textposition": "auto",
                  "type": "bar",
                  "x": [
                    27,
                    28,
                    29
                  ],
                  "xaxis": "x",
                  "y": [
                    4,
                    10,
                    8
                  ],
                  "yaxis": "y"
                },
                {
                  "alignmentgroup": "True",
                  "hovertemplate": "category=Building Operations<br>day=%{x}<br>value=%{y}<extra></extra>",
                  "legendgroup": "Building Operations",
                  "marker": {
                    "color": "#00cc96",
                    "pattern": {
                      "shape": ""
                    }
                  },
                  "name": "Building Operations",
                  "offsetgroup": "Building Operations",
                  "orientation": "v",
                  "showlegend": true,
                  "textposition": "auto",
                  "type": "bar",
                  "x": [
                    27,
                    28,
                    29
                  ],
                  "xaxis": "x",
                  "y": [
                    2,
                    2,
                    0
                  ],
                  "yaxis": "y"
                },
                {
                  "alignmentgroup": "True",
                  "hovertemplate": "category=CAD Management<br>day=%{x}<br>value=%{y}<extra></extra>",
                  "legendgroup": "CAD Management",
                  "marker": {
                    "color": "#ab63fa",
                    "pattern": {
                      "shape": ""
                    }
                  },
                  "name": "CAD Management",
                  "offsetgroup": "CAD Management",
                  "orientation": "v",
                  "showlegend": true,
                  "textposition": "auto",
                  "type": "bar",
                  "x": [
                    27,
                    28,
                    29
                  ],
                  "xaxis": "x",
                  "y": [
                    2,
                    5,
                    2
                  ],
                  "yaxis": "y"
                },
                {
                  "alignmentgroup": "True",
                  "hovertemplate": "category=Carbon Management<br>day=%{x}<br>value=%{y}<extra></extra>",
                  "legendgroup": "Carbon Management",
                  "marker": {
                    "color": "#FFA15A",
                    "pattern": {
                      "shape": ""
                    }
                  },
                  "name": "Carbon Management",
                  "offsetgroup": "Carbon Management",
                  "orientation": "v",
                  "showlegend": true,
                  "textposition": "auto",
                  "type": "bar",
                  "x": [
                    27,
                    28,
                    29
                  ],
                  "xaxis": "x",
                  "y": [
                    1,
                    3,
                    1
                  ],
                  "yaxis": "y"
                },
                {
                  "alignmentgroup": "True",
                  "hovertemplate": "category=Cloud Collaboration<br>day=%{x}<br>value=%{y}<extra></extra>",
                  "legendgroup": "Cloud Collaboration",
                  "marker": {
                    "color": "#19d3f3",
                    "pattern": {
                      "shape": ""
                    }
                  },
                  "name": "Cloud Collaboration",
                  "offsetgroup": "Cloud Collaboration",
                  "orientation": "v",
                  "showlegend": true,
                  "textposition": "auto",
                  "type": "bar",
                  "x": [
                    27,
                    28,
                    29
                  ],
                  "xaxis": "x",
                  "y": [
                    7,
                    5,
                    5
                  ],
                  "yaxis": "y"
                },
                {
                  "alignmentgroup": "True",
                  "hovertemplate": "category=Computational Design<br>day=%{x}<br>value=%{y}<extra></extra>",
                  "legendgroup": "Computational Design",
                  "marker": {
                    "color": "#FF6692",
                    "pattern": {
                      "shape": ""
                    }
                  },
                  "name": "Computational Design",
                  "offsetgroup": "Computational Design",
                  "orientation": "v",
                  "showlegend": true,
                  "textposition": "auto",
                  "type": "bar",
                  "x": [
                    27,
                    28,
                    29
                  ],
                  "xaxis": "x",
                  "y": [
                    1,
                    1,
                    2
                  ],
                  "yaxis": "y"
                },
                {
                  "alignmentgroup": "True",
                  "hovertemplate": "category=Computer-Aided Manufacturing (CAM)<br>day=%{x}<br>value=%{y}<extra></extra>",
                  "legendgroup": "Computer-Aided Manufacturing (CAM)",
                  "marker": {
                    "color": "#B6E880",
                    "pattern": {
                      "shape": ""
                    }
                  },
                  "name": "Computer-Aided Manufacturing (CAM)",
                  "offsetgroup": "Computer-Aided Manufacturing (CAM)",
                  "orientation": "v",
                  "showlegend": true,
                  "textposition": "auto",
                  "type": "bar",
                  "x": [
                    27,
                    28,
                    29
                  ],
                  "xaxis": "x",
                  "y": [
                    0,
                    0,
                    1
                  ],
                  "yaxis": "y"
                },
                {
                  "alignmentgroup": "True",
                  "hovertemplate": "category=Construction Management<br>day=%{x}<br>value=%{y}<extra></extra>",
                  "legendgroup": "Construction Management",
                  "marker": {
                    "color": "#FF97FF",
                    "pattern": {
                      "shape": ""
                    }
                  },
                  "name": "Construction Management",
                  "offsetgroup": "Construction Management",
                  "orientation": "v",
                  "showlegend": true,
                  "textposition": "auto",
                  "type": "bar",
                  "x": [
                    27,
                    28,
                    29
                  ],
                  "xaxis": "x",
                  "y": [
                    4,
                    1,
                    6
                  ],
                  "yaxis": "y"
                },
                {
                  "alignmentgroup": "True",
                  "hovertemplate": "category=Convergence<br>day=%{x}<br>value=%{y}<extra></extra>",
                  "legendgroup": "Convergence",
                  "marker": {
                    "color": "#FECB52",
                    "pattern": {
                      "shape": ""
                    }
                  },
                  "name": "Convergence",
                  "offsetgroup": "Convergence",
                  "orientation": "v",
                  "showlegend": true,
                  "textposition": "auto",
                  "type": "bar",
                  "x": [
                    27,
                    28,
                    29
                  ],
                  "xaxis": "x",
                  "y": [
                    3,
                    1,
                    2
                  ],
                  "yaxis": "y"
                },
                {
                  "alignmentgroup": "True",
                  "hovertemplate": "category=Data Management<br>day=%{x}<br>value=%{y}<extra></extra>",
                  "legendgroup": "Data Management",
                  "marker": {
                    "color": "#636efa",
                    "pattern": {
                      "shape": ""
                    }
                  },
                  "name": "Data Management",
                  "offsetgroup": "Data Management",
                  "orientation": "v",
                  "showlegend": true,
                  "textposition": "auto",
                  "type": "bar",
                  "x": [
                    27,
                    28,
                    29
                  ],
                  "xaxis": "x",
                  "y": [
                    6,
                    4,
                    3
                  ],
                  "yaxis": "y"
                },
                {
                  "alignmentgroup": "True",
                  "hovertemplate": "category=Design Visualization<br>day=%{x}<br>value=%{y}<extra></extra>",
                  "legendgroup": "Design Visualization",
                  "marker": {
                    "color": "#EF553B",
                    "pattern": {
                      "shape": ""
                    }
                  },
                  "name": "Design Visualization",
                  "offsetgroup": "Design Visualization",
                  "orientation": "v",
                  "showlegend": true,
                  "textposition": "auto",
                  "type": "bar",
                  "x": [
                    27,
                    28,
                    29
                  ],
                  "xaxis": "x",
                  "y": [
                    1,
                    2,
                    2
                  ],
                  "yaxis": "y"
                },
                {
                  "alignmentgroup": "True",
                  "hovertemplate": "category=Digital Construction<br>day=%{x}<br>value=%{y}<extra></extra>",
                  "legendgroup": "Digital Construction",
                  "marker": {
                    "color": "#00cc96",
                    "pattern": {
                      "shape": ""
                    }
                  },
                  "name": "Digital Construction",
                  "offsetgroup": "Digital Construction",
                  "orientation": "v",
                  "showlegend": true,
                  "textposition": "auto",
                  "type": "bar",
                  "x": [
                    27,
                    28,
                    29
                  ],
                  "xaxis": "x",
                  "y": [
                    2,
                    1,
                    4
                  ],
                  "yaxis": "y"
                },
                {
                  "alignmentgroup": "True",
                  "hovertemplate": "category=Digital Delivery<br>day=%{x}<br>value=%{y}<extra></extra>",
                  "legendgroup": "Digital Delivery",
                  "marker": {
                    "color": "#ab63fa",
                    "pattern": {
                      "shape": ""
                    }
                  },
                  "name": "Digital Delivery",
                  "offsetgroup": "Digital Delivery",
                  "orientation": "v",
                  "showlegend": true,
                  "textposition": "auto",
                  "type": "bar",
                  "x": [
                    27,
                    28,
                    29
                  ],
                  "xaxis": "x",
                  "y": [
                    3,
                    0,
                    5
                  ],
                  "yaxis": "y"
                },
                {
                  "alignmentgroup": "True",
                  "hovertemplate": "category=Digital Factory<br>day=%{x}<br>value=%{y}<extra></extra>",
                  "legendgroup": "Digital Factory",
                  "marker": {
                    "color": "#FFA15A",
                    "pattern": {
                      "shape": ""
                    }
                  },
                  "name": "Digital Factory",
                  "offsetgroup": "Digital Factory",
                  "orientation": "v",
                  "showlegend": true,
                  "textposition": "auto",
                  "type": "bar",
                  "x": [
                    27,
                    28,
                    29
                  ],
                  "xaxis": "x",
                  "y": [
                    1,
                    0,
                    1
                  ],
                  "yaxis": "y"
                },
                {
                  "alignmentgroup": "True",
                  "hovertemplate": "category=Digital Transformation<br>day=%{x}<br>value=%{y}<extra></extra>",
                  "legendgroup": "Digital Transformation",
                  "marker": {
                    "color": "#19d3f3",
                    "pattern": {
                      "shape": ""
                    }
                  },
                  "name": "Digital Transformation",
                  "offsetgroup": "Digital Transformation",
                  "orientation": "v",
                  "showlegend": true,
                  "textposition": "auto",
                  "type": "bar",
                  "x": [
                    27,
                    28,
                    29
                  ],
                  "xaxis": "x",
                  "y": [
                    5,
                    4,
                    7
                  ],
                  "yaxis": "y"
                },
                {
                  "alignmentgroup": "True",
                  "hovertemplate": "category=Digital Twin<br>day=%{x}<br>value=%{y}<extra></extra>",
                  "legendgroup": "Digital Twin",
                  "marker": {
                    "color": "#FF6692",
                    "pattern": {
                      "shape": ""
                    }
                  },
                  "name": "Digital Twin",
                  "offsetgroup": "Digital Twin",
                  "orientation": "v",
                  "showlegend": true,
                  "textposition": "auto",
                  "type": "bar",
                  "x": [
                    27,
                    28,
                    29
                  ],
                  "xaxis": "x",
                  "y": [
                    3,
                    4,
                    2
                  ],
                  "yaxis": "y"
                },
                {
                  "alignmentgroup": "True",
                  "hovertemplate": "category=Diversity, Equity, and Inclusion<br>day=%{x}<br>value=%{y}<extra></extra>",
                  "legendgroup": "Diversity, Equity, and Inclusion",
                  "marker": {
                    "color": "#B6E880",
                    "pattern": {
                      "shape": ""
                    }
                  },
                  "name": "Diversity, Equity, and Inclusion",
                  "offsetgroup": "Diversity, Equity, and Inclusion",
                  "orientation": "v",
                  "showlegend": true,
                  "textposition": "auto",
                  "type": "bar",
                  "x": [
                    27,
                    28,
                    29
                  ],
                  "xaxis": "x",
                  "y": [
                    1,
                    3,
                    2
                  ],
                  "yaxis": "y"
                },
                {
                  "alignmentgroup": "True",
                  "hovertemplate": "category=Document Management<br>day=%{x}<br>value=%{y}<extra></extra>",
                  "legendgroup": "Document Management",
                  "marker": {
                    "color": "#FF97FF",
                    "pattern": {
                      "shape": ""
                    }
                  },
                  "name": "Document Management",
                  "offsetgroup": "Document Management",
                  "orientation": "v",
                  "showlegend": true,
                  "textposition": "auto",
                  "type": "bar",
                  "x": [
                    27,
                    28,
                    29
                  ],
                  "xaxis": "x",
                  "y": [
                    2,
                    2,
                    1
                  ],
                  "yaxis": "y"
                },
                {
                  "alignmentgroup": "True",
                  "hovertemplate": "category=Facilities Management<br>day=%{x}<br>value=%{y}<extra></extra>",
                  "legendgroup": "Facilities Management",
                  "marker": {
                    "color": "#FECB52",
                    "pattern": {
                      "shape": ""
                    }
                  },
                  "name": "Facilities Management",
                  "offsetgroup": "Facilities Management",
                  "orientation": "v",
                  "showlegend": true,
                  "textposition": "auto",
                  "type": "bar",
                  "x": [
                    27,
                    28,
                    29
                  ],
                  "xaxis": "x",
                  "y": [
                    0,
                    1,
                    0
                  ],
                  "yaxis": "y"
                },
                {
                  "alignmentgroup": "True",
                  "hovertemplate": "category=Field Management<br>day=%{x}<br>value=%{y}<extra></extra>",
                  "legendgroup": "Field Management",
                  "marker": {
                    "color": "#636efa",
                    "pattern": {
                      "shape": ""
                    }
                  },
                  "name": "Field Management",
                  "offsetgroup": "Field Management",
                  "orientation": "v",
                  "showlegend": true,
                  "textposition": "auto",
                  "type": "bar",
                  "x": [
                    27,
                    28,
                    29
                  ],
                  "xaxis": "x",
                  "y": [
                    1,
                    0,
                    0
                  ],
                  "yaxis": "y"
                },
                {
                  "alignmentgroup": "True",
                  "hovertemplate": "category=Future of Work<br>day=%{x}<br>value=%{y}<extra></extra>",
                  "legendgroup": "Future of Work",
                  "marker": {
                    "color": "#EF553B",
                    "pattern": {
                      "shape": ""
                    }
                  },
                  "name": "Future of Work",
                  "offsetgroup": "Future of Work",
                  "orientation": "v",
                  "showlegend": true,
                  "textposition": "auto",
                  "type": "bar",
                  "x": [
                    27,
                    28,
                    29
                  ],
                  "xaxis": "x",
                  "y": [
                    1,
                    5,
                    3
                  ],
                  "yaxis": "y"
                },
                {
                  "alignmentgroup": "True",
                  "hovertemplate": "category=Game Development<br>day=%{x}<br>value=%{y}<extra></extra>",
                  "legendgroup": "Game Development",
                  "marker": {
                    "color": "#00cc96",
                    "pattern": {
                      "shape": ""
                    }
                  },
                  "name": "Game Development",
                  "offsetgroup": "Game Development",
                  "orientation": "v",
                  "showlegend": true,
                  "textposition": "auto",
                  "type": "bar",
                  "x": [
                    27,
                    28,
                    29
                  ],
                  "xaxis": "x",
                  "y": [
                    1,
                    0,
                    1
                  ],
                  "yaxis": "y"
                },
                {
                  "alignmentgroup": "True",
                  "hovertemplate": "category=Generative Design<br>day=%{x}<br>value=%{y}<extra></extra>",
                  "legendgroup": "Generative Design",
                  "marker": {
                    "color": "#ab63fa",
                    "pattern": {
                      "shape": ""
                    }
                  },
                  "name": "Generative Design",
                  "offsetgroup": "Generative Design",
                  "orientation": "v",
                  "showlegend": true,
                  "textposition": "auto",
                  "type": "bar",
                  "x": [
                    27,
                    28,
                    29
                  ],
                  "xaxis": "x",
                  "y": [
                    3,
                    1,
                    3
                  ],
                  "yaxis": "y"
                },
                {
                  "alignmentgroup": "True",
                  "hovertemplate": "category=Geospatial<br>day=%{x}<br>value=%{y}<extra></extra>",
                  "legendgroup": "Geospatial",
                  "marker": {
                    "color": "#FFA15A",
                    "pattern": {
                      "shape": ""
                    }
                  },
                  "name": "Geospatial",
                  "offsetgroup": "Geospatial",
                  "orientation": "v",
                  "showlegend": true,
                  "textposition": "auto",
                  "type": "bar",
                  "x": [
                    27,
                    28,
                    29
                  ],
                  "xaxis": "x",
                  "y": [
                    1,
                    0,
                    1
                  ],
                  "yaxis": "y"
                },
                {
                  "alignmentgroup": "True",
                  "hovertemplate": "category=IT Management<br>day=%{x}<br>value=%{y}<extra></extra>",
                  "legendgroup": "IT Management",
                  "marker": {
                    "color": "#19d3f3",
                    "pattern": {
                      "shape": ""
                    }
                  },
                  "name": "IT Management",
                  "offsetgroup": "IT Management",
                  "orientation": "v",
                  "showlegend": true,
                  "textposition": "auto",
                  "type": "bar",
                  "x": [
                    27,
                    28,
                    29
                  ],
                  "xaxis": "x",
                  "y": [
                    0,
                    2,
                    0
                  ],
                  "yaxis": "y"
                },
                {
                  "alignmentgroup": "True",
                  "hovertemplate": "category=Industrialized Construction and DfMA<br>day=%{x}<br>value=%{y}<extra></extra>",
                  "legendgroup": "Industrialized Construction and DfMA",
                  "marker": {
                    "color": "#FF6692",
                    "pattern": {
                      "shape": ""
                    }
                  },
                  "name": "Industrialized Construction and DfMA",
                  "offsetgroup": "Industrialized Construction and DfMA",
                  "orientation": "v",
                  "showlegend": true,
                  "textposition": "auto",
                  "type": "bar",
                  "x": [
                    27,
                    28,
                    29
                  ],
                  "xaxis": "x",
                  "y": [
                    0,
                    0,
                    2
                  ],
                  "yaxis": "y"
                },
                {
                  "alignmentgroup": "True",
                  "hovertemplate": "category=Infrastructure Workflows<br>day=%{x}<br>value=%{y}<extra></extra>",
                  "legendgroup": "Infrastructure Workflows",
                  "marker": {
                    "color": "#B6E880",
                    "pattern": {
                      "shape": ""
                    }
                  },
                  "name": "Infrastructure Workflows",
                  "offsetgroup": "Infrastructure Workflows",
                  "orientation": "v",
                  "showlegend": true,
                  "textposition": "auto",
                  "type": "bar",
                  "x": [
                    27,
                    28,
                    29
                  ],
                  "xaxis": "x",
                  "y": [
                    0,
                    2,
                    1
                  ],
                  "yaxis": "y"
                },
                {
                  "alignmentgroup": "True",
                  "hovertemplate": "category=Injection Molding<br>day=%{x}<br>value=%{y}<extra></extra>",
                  "legendgroup": "Injection Molding",
                  "marker": {
                    "color": "#FF97FF",
                    "pattern": {
                      "shape": ""
                    }
                  },
                  "name": "Injection Molding",
                  "offsetgroup": "Injection Molding",
                  "orientation": "v",
                  "showlegend": true,
                  "textposition": "auto",
                  "type": "bar",
                  "x": [
                    27,
                    28,
                    29
                  ],
                  "xaxis": "x",
                  "y": [
                    1,
                    0,
                    0
                  ],
                  "yaxis": "y"
                },
                {
                  "alignmentgroup": "True",
                  "hovertemplate": "category=Land Development and Urban Planning<br>day=%{x}<br>value=%{y}<extra></extra>",
                  "legendgroup": "Land Development and Urban Planning",
                  "marker": {
                    "color": "#FECB52",
                    "pattern": {
                      "shape": ""
                    }
                  },
                  "name": "Land Development and Urban Planning",
                  "offsetgroup": "Land Development and Urban Planning",
                  "orientation": "v",
                  "showlegend": true,
                  "textposition": "auto",
                  "type": "bar",
                  "x": [
                    27,
                    28,
                    29
                  ],
                  "xaxis": "x",
                  "y": [
                    0,
                    1,
                    1
                  ],
                  "yaxis": "y"
                },
                {
                  "alignmentgroup": "True",
                  "hovertemplate": "category=MEP & Structural Fabrication<br>day=%{x}<br>value=%{y}<extra></extra>",
                  "legendgroup": "MEP & Structural Fabrication",
                  "marker": {
                    "color": "#636efa",
                    "pattern": {
                      "shape": ""
                    }
                  },
                  "name": "MEP & Structural Fabrication",
                  "offsetgroup": "MEP & Structural Fabrication",
                  "orientation": "v",
                  "showlegend": true,
                  "textposition": "auto",
                  "type": "bar",
                  "x": [
                    27,
                    28,
                    29
                  ],
                  "xaxis": "x",
                  "y": [
                    1,
                    0,
                    0
                  ],
                  "yaxis": "y"
                },
                {
                  "alignmentgroup": "True",
                  "hovertemplate": "category=Machining<br>day=%{x}<br>value=%{y}<extra></extra>",
                  "legendgroup": "Machining",
                  "marker": {
                    "color": "#EF553B",
                    "pattern": {
                      "shape": ""
                    }
                  },
                  "name": "Machining",
                  "offsetgroup": "Machining",
                  "orientation": "v",
                  "showlegend": true,
                  "textposition": "auto",
                  "type": "bar",
                  "x": [
                    27,
                    28,
                    29
                  ],
                  "xaxis": "x",
                  "y": [
                    1,
                    0,
                    0
                  ],
                  "yaxis": "y"
                },
                {
                  "alignmentgroup": "True",
                  "hovertemplate": "category=Mechanical Design<br>day=%{x}<br>value=%{y}<extra></extra>",
                  "legendgroup": "Mechanical Design",
                  "marker": {
                    "color": "#00cc96",
                    "pattern": {
                      "shape": ""
                    }
                  },
                  "name": "Mechanical Design",
                  "offsetgroup": "Mechanical Design",
                  "orientation": "v",
                  "showlegend": true,
                  "textposition": "auto",
                  "type": "bar",
                  "x": [
                    27,
                    28,
                    29
                  ],
                  "xaxis": "x",
                  "y": [
                    1,
                    1,
                    0
                  ],
                  "yaxis": "y"
                },
                {
                  "alignmentgroup": "True",
                  "hovertemplate": "category=Model Coordination<br>day=%{x}<br>value=%{y}<extra></extra>",
                  "legendgroup": "Model Coordination",
                  "marker": {
                    "color": "#ab63fa",
                    "pattern": {
                      "shape": ""
                    }
                  },
                  "name": "Model Coordination",
                  "offsetgroup": "Model Coordination",
                  "orientation": "v",
                  "showlegend": true,
                  "textposition": "auto",
                  "type": "bar",
                  "x": [
                    27,
                    28,
                    29
                  ],
                  "xaxis": "x",
                  "y": [
                    3,
                    0,
                    3
                  ],
                  "yaxis": "y"
                },
                {
                  "alignmentgroup": "True",
                  "hovertemplate": "category=Preconstruction<br>day=%{x}<br>value=%{y}<extra></extra>",
                  "legendgroup": "Preconstruction",
                  "marker": {
                    "color": "#FFA15A",
                    "pattern": {
                      "shape": ""
                    }
                  },
                  "name": "Preconstruction",
                  "offsetgroup": "Preconstruction",
                  "orientation": "v",
                  "showlegend": true,
                  "textposition": "auto",
                  "type": "bar",
                  "x": [
                    27,
                    28,
                    29
                  ],
                  "xaxis": "x",
                  "y": [
                    0,
                    1,
                    1
                  ],
                  "yaxis": "y"
                },
                {
                  "alignmentgroup": "True",
                  "hovertemplate": "category=Prefabrication<br>day=%{x}<br>value=%{y}<extra></extra>",
                  "legendgroup": "Prefabrication",
                  "marker": {
                    "color": "#19d3f3",
                    "pattern": {
                      "shape": ""
                    }
                  },
                  "name": "Prefabrication",
                  "offsetgroup": "Prefabrication",
                  "orientation": "v",
                  "showlegend": true,
                  "textposition": "auto",
                  "type": "bar",
                  "x": [
                    27,
                    28,
                    29
                  ],
                  "xaxis": "x",
                  "y": [
                    0,
                    0,
                    1
                  ],
                  "yaxis": "y"
                },
                {
                  "alignmentgroup": "True",
                  "hovertemplate": "category=Product Design<br>day=%{x}<br>value=%{y}<extra></extra>",
                  "legendgroup": "Product Design",
                  "marker": {
                    "color": "#FF6692",
                    "pattern": {
                      "shape": ""
                    }
                  },
                  "name": "Product Design",
                  "offsetgroup": "Product Design",
                  "orientation": "v",
                  "showlegend": true,
                  "textposition": "auto",
                  "type": "bar",
                  "x": [
                    27,
                    28,
                    29
                  ],
                  "xaxis": "x",
                  "y": [
                    2,
                    1,
                    1
                  ],
                  "yaxis": "y"
                },
                {
                  "alignmentgroup": "True",
                  "hovertemplate": "category=Project Management<br>day=%{x}<br>value=%{y}<extra></extra>",
                  "legendgroup": "Project Management",
                  "marker": {
                    "color": "#B6E880",
                    "pattern": {
                      "shape": ""
                    }
                  },
                  "name": "Project Management",
                  "offsetgroup": "Project Management",
                  "orientation": "v",
                  "showlegend": true,
                  "textposition": "auto",
                  "type": "bar",
                  "x": [
                    27,
                    28,
                    29
                  ],
                  "xaxis": "x",
                  "y": [
                    2,
                    3,
                    3
                  ],
                  "yaxis": "y"
                },
                {
                  "alignmentgroup": "True",
                  "hovertemplate": "category=Quality Management<br>day=%{x}<br>value=%{y}<extra></extra>",
                  "legendgroup": "Quality Management",
                  "marker": {
                    "color": "#FF97FF",
                    "pattern": {
                      "shape": ""
                    }
                  },
                  "name": "Quality Management",
                  "offsetgroup": "Quality Management",
                  "orientation": "v",
                  "showlegend": true,
                  "textposition": "auto",
                  "type": "bar",
                  "x": [
                    27,
                    28,
                    29
                  ],
                  "xaxis": "x",
                  "y": [
                    2,
                    1,
                    0
                  ],
                  "yaxis": "y"
                },
                {
                  "alignmentgroup": "True",
                  "hovertemplate": "category=Safety Management<br>day=%{x}<br>value=%{y}<extra></extra>",
                  "legendgroup": "Safety Management",
                  "marker": {
                    "color": "#FECB52",
                    "pattern": {
                      "shape": ""
                    }
                  },
                  "name": "Safety Management",
                  "offsetgroup": "Safety Management",
                  "orientation": "v",
                  "showlegend": true,
                  "textposition": "auto",
                  "type": "bar",
                  "x": [
                    27,
                    28,
                    29
                  ],
                  "xaxis": "x",
                  "y": [
                    1,
                    0,
                    0
                  ],
                  "yaxis": "y"
                },
                {
                  "alignmentgroup": "True",
                  "hovertemplate": "category=Simulation<br>day=%{x}<br>value=%{y}<extra></extra>",
                  "legendgroup": "Simulation",
                  "marker": {
                    "color": "#636efa",
                    "pattern": {
                      "shape": ""
                    }
                  },
                  "name": "Simulation",
                  "offsetgroup": "Simulation",
                  "orientation": "v",
                  "showlegend": true,
                  "textposition": "auto",
                  "type": "bar",
                  "x": [
                    27,
                    28,
                    29
                  ],
                  "xaxis": "x",
                  "y": [
                    2,
                    0,
                    1
                  ],
                  "yaxis": "y"
                },
                {
                  "alignmentgroup": "True",
                  "hovertemplate": "category=Software Development<br>day=%{x}<br>value=%{y}<extra></extra>",
                  "legendgroup": "Software Development",
                  "marker": {
                    "color": "#EF553B",
                    "pattern": {
                      "shape": ""
                    }
                  },
                  "name": "Software Development",
                  "offsetgroup": "Software Development",
                  "orientation": "v",
                  "showlegend": true,
                  "textposition": "auto",
                  "type": "bar",
                  "x": [
                    27,
                    28,
                    29
                  ],
                  "xaxis": "x",
                  "y": [
                    4,
                    2,
                    0
                  ],
                  "yaxis": "y"
                },
                {
                  "alignmentgroup": "True",
                  "hovertemplate": "category=Software Training<br>day=%{x}<br>value=%{y}<extra></extra>",
                  "legendgroup": "Software Training",
                  "marker": {
                    "color": "#00cc96",
                    "pattern": {
                      "shape": ""
                    }
                  },
                  "name": "Software Training",
                  "offsetgroup": "Software Training",
                  "orientation": "v",
                  "showlegend": true,
                  "textposition": "auto",
                  "type": "bar",
                  "x": [
                    27,
                    28,
                    29
                  ],
                  "xaxis": "x",
                  "y": [
                    2,
                    1,
                    1
                  ],
                  "yaxis": "y"
                },
                {
                  "alignmentgroup": "True",
                  "hovertemplate": "category=Structural Engineering and Design<br>day=%{x}<br>value=%{y}<extra></extra>",
                  "legendgroup": "Structural Engineering and Design",
                  "marker": {
                    "color": "#ab63fa",
                    "pattern": {
                      "shape": ""
                    }
                  },
                  "name": "Structural Engineering and Design",
                  "offsetgroup": "Structural Engineering and Design",
                  "orientation": "v",
                  "showlegend": true,
                  "textposition": "auto",
                  "type": "bar",
                  "x": [
                    27,
                    28,
                    29
                  ],
                  "xaxis": "x",
                  "y": [
                    2,
                    2,
                    0
                  ],
                  "yaxis": "y"
                },
                {
                  "alignmentgroup": "True",
                  "hovertemplate": "category=Sustainability<br>day=%{x}<br>value=%{y}<extra></extra>",
                  "legendgroup": "Sustainability",
                  "marker": {
                    "color": "#FFA15A",
                    "pattern": {
                      "shape": ""
                    }
                  },
                  "name": "Sustainability",
                  "offsetgroup": "Sustainability",
                  "orientation": "v",
                  "showlegend": true,
                  "textposition": "auto",
                  "type": "bar",
                  "x": [
                    27,
                    28,
                    29
                  ],
                  "xaxis": "x",
                  "y": [
                    3,
                    3,
                    3
                  ],
                  "yaxis": "y"
                },
                {
                  "alignmentgroup": "True",
                  "hovertemplate": "category=Virtual Production<br>day=%{x}<br>value=%{y}<extra></extra>",
                  "legendgroup": "Virtual Production",
                  "marker": {
                    "color": "#19d3f3",
                    "pattern": {
                      "shape": ""
                    }
                  },
                  "name": "Virtual Production",
                  "offsetgroup": "Virtual Production",
                  "orientation": "v",
                  "showlegend": true,
                  "textposition": "auto",
                  "type": "bar",
                  "x": [
                    27,
                    28,
                    29
                  ],
                  "xaxis": "x",
                  "y": [
                    1,
                    0,
                    1
                  ],
                  "yaxis": "y"
                },
                {
                  "alignmentgroup": "True",
                  "hovertemplate": "category=Water Resource Management<br>day=%{x}<br>value=%{y}<extra></extra>",
                  "legendgroup": "Water Resource Management",
                  "marker": {
                    "color": "#FF6692",
                    "pattern": {
                      "shape": ""
                    }
                  },
                  "name": "Water Resource Management",
                  "offsetgroup": "Water Resource Management",
                  "orientation": "v",
                  "showlegend": true,
                  "textposition": "auto",
                  "type": "bar",
                  "x": [
                    27,
                    28,
                    29
                  ],
                  "xaxis": "x",
                  "y": [
                    1,
                    1,
                    0
                  ],
                  "yaxis": "y"
                }
              ],
              "layout": {
                "barmode": "relative",
                "legend": {
                  "title": {
                    "text": "category"
                  },
                  "tracegroupgap": 0
                },
                "margin": {
                  "t": 60
                },
                "template": {
                  "data": {
                    "bar": [
                      {
                        "error_x": {
                          "color": "#2a3f5f"
                        },
                        "error_y": {
                          "color": "#2a3f5f"
                        },
                        "marker": {
                          "line": {
                            "color": "#E5ECF6",
                            "width": 0.5
                          },
                          "pattern": {
                            "fillmode": "overlay",
                            "size": 10,
                            "solidity": 0.2
                          }
                        },
                        "type": "bar"
                      }
                    ],
                    "barpolar": [
                      {
                        "marker": {
                          "line": {
                            "color": "#E5ECF6",
                            "width": 0.5
                          },
                          "pattern": {
                            "fillmode": "overlay",
                            "size": 10,
                            "solidity": 0.2
                          }
                        },
                        "type": "barpolar"
                      }
                    ],
                    "carpet": [
                      {
                        "aaxis": {
                          "endlinecolor": "#2a3f5f",
                          "gridcolor": "white",
                          "linecolor": "white",
                          "minorgridcolor": "white",
                          "startlinecolor": "#2a3f5f"
                        },
                        "baxis": {
                          "endlinecolor": "#2a3f5f",
                          "gridcolor": "white",
                          "linecolor": "white",
                          "minorgridcolor": "white",
                          "startlinecolor": "#2a3f5f"
                        },
                        "type": "carpet"
                      }
                    ],
                    "choropleth": [
                      {
                        "colorbar": {
                          "outlinewidth": 0,
                          "ticks": ""
                        },
                        "type": "choropleth"
                      }
                    ],
                    "contour": [
                      {
                        "colorbar": {
                          "outlinewidth": 0,
                          "ticks": ""
                        },
                        "colorscale": [
                          [
                            0,
                            "#0d0887"
                          ],
                          [
                            0.1111111111111111,
                            "#46039f"
                          ],
                          [
                            0.2222222222222222,
                            "#7201a8"
                          ],
                          [
                            0.3333333333333333,
                            "#9c179e"
                          ],
                          [
                            0.4444444444444444,
                            "#bd3786"
                          ],
                          [
                            0.5555555555555556,
                            "#d8576b"
                          ],
                          [
                            0.6666666666666666,
                            "#ed7953"
                          ],
                          [
                            0.7777777777777778,
                            "#fb9f3a"
                          ],
                          [
                            0.8888888888888888,
                            "#fdca26"
                          ],
                          [
                            1,
                            "#f0f921"
                          ]
                        ],
                        "type": "contour"
                      }
                    ],
                    "contourcarpet": [
                      {
                        "colorbar": {
                          "outlinewidth": 0,
                          "ticks": ""
                        },
                        "type": "contourcarpet"
                      }
                    ],
                    "heatmap": [
                      {
                        "colorbar": {
                          "outlinewidth": 0,
                          "ticks": ""
                        },
                        "colorscale": [
                          [
                            0,
                            "#0d0887"
                          ],
                          [
                            0.1111111111111111,
                            "#46039f"
                          ],
                          [
                            0.2222222222222222,
                            "#7201a8"
                          ],
                          [
                            0.3333333333333333,
                            "#9c179e"
                          ],
                          [
                            0.4444444444444444,
                            "#bd3786"
                          ],
                          [
                            0.5555555555555556,
                            "#d8576b"
                          ],
                          [
                            0.6666666666666666,
                            "#ed7953"
                          ],
                          [
                            0.7777777777777778,
                            "#fb9f3a"
                          ],
                          [
                            0.8888888888888888,
                            "#fdca26"
                          ],
                          [
                            1,
                            "#f0f921"
                          ]
                        ],
                        "type": "heatmap"
                      }
                    ],
                    "heatmapgl": [
                      {
                        "colorbar": {
                          "outlinewidth": 0,
                          "ticks": ""
                        },
                        "colorscale": [
                          [
                            0,
                            "#0d0887"
                          ],
                          [
                            0.1111111111111111,
                            "#46039f"
                          ],
                          [
                            0.2222222222222222,
                            "#7201a8"
                          ],
                          [
                            0.3333333333333333,
                            "#9c179e"
                          ],
                          [
                            0.4444444444444444,
                            "#bd3786"
                          ],
                          [
                            0.5555555555555556,
                            "#d8576b"
                          ],
                          [
                            0.6666666666666666,
                            "#ed7953"
                          ],
                          [
                            0.7777777777777778,
                            "#fb9f3a"
                          ],
                          [
                            0.8888888888888888,
                            "#fdca26"
                          ],
                          [
                            1,
                            "#f0f921"
                          ]
                        ],
                        "type": "heatmapgl"
                      }
                    ],
                    "histogram": [
                      {
                        "marker": {
                          "pattern": {
                            "fillmode": "overlay",
                            "size": 10,
                            "solidity": 0.2
                          }
                        },
                        "type": "histogram"
                      }
                    ],
                    "histogram2d": [
                      {
                        "colorbar": {
                          "outlinewidth": 0,
                          "ticks": ""
                        },
                        "colorscale": [
                          [
                            0,
                            "#0d0887"
                          ],
                          [
                            0.1111111111111111,
                            "#46039f"
                          ],
                          [
                            0.2222222222222222,
                            "#7201a8"
                          ],
                          [
                            0.3333333333333333,
                            "#9c179e"
                          ],
                          [
                            0.4444444444444444,
                            "#bd3786"
                          ],
                          [
                            0.5555555555555556,
                            "#d8576b"
                          ],
                          [
                            0.6666666666666666,
                            "#ed7953"
                          ],
                          [
                            0.7777777777777778,
                            "#fb9f3a"
                          ],
                          [
                            0.8888888888888888,
                            "#fdca26"
                          ],
                          [
                            1,
                            "#f0f921"
                          ]
                        ],
                        "type": "histogram2d"
                      }
                    ],
                    "histogram2dcontour": [
                      {
                        "colorbar": {
                          "outlinewidth": 0,
                          "ticks": ""
                        },
                        "colorscale": [
                          [
                            0,
                            "#0d0887"
                          ],
                          [
                            0.1111111111111111,
                            "#46039f"
                          ],
                          [
                            0.2222222222222222,
                            "#7201a8"
                          ],
                          [
                            0.3333333333333333,
                            "#9c179e"
                          ],
                          [
                            0.4444444444444444,
                            "#bd3786"
                          ],
                          [
                            0.5555555555555556,
                            "#d8576b"
                          ],
                          [
                            0.6666666666666666,
                            "#ed7953"
                          ],
                          [
                            0.7777777777777778,
                            "#fb9f3a"
                          ],
                          [
                            0.8888888888888888,
                            "#fdca26"
                          ],
                          [
                            1,
                            "#f0f921"
                          ]
                        ],
                        "type": "histogram2dcontour"
                      }
                    ],
                    "mesh3d": [
                      {
                        "colorbar": {
                          "outlinewidth": 0,
                          "ticks": ""
                        },
                        "type": "mesh3d"
                      }
                    ],
                    "parcoords": [
                      {
                        "line": {
                          "colorbar": {
                            "outlinewidth": 0,
                            "ticks": ""
                          }
                        },
                        "type": "parcoords"
                      }
                    ],
                    "pie": [
                      {
                        "automargin": true,
                        "type": "pie"
                      }
                    ],
                    "scatter": [
                      {
                        "fillpattern": {
                          "fillmode": "overlay",
                          "size": 10,
                          "solidity": 0.2
                        },
                        "type": "scatter"
                      }
                    ],
                    "scatter3d": [
                      {
                        "line": {
                          "colorbar": {
                            "outlinewidth": 0,
                            "ticks": ""
                          }
                        },
                        "marker": {
                          "colorbar": {
                            "outlinewidth": 0,
                            "ticks": ""
                          }
                        },
                        "type": "scatter3d"
                      }
                    ],
                    "scattercarpet": [
                      {
                        "marker": {
                          "colorbar": {
                            "outlinewidth": 0,
                            "ticks": ""
                          }
                        },
                        "type": "scattercarpet"
                      }
                    ],
                    "scattergeo": [
                      {
                        "marker": {
                          "colorbar": {
                            "outlinewidth": 0,
                            "ticks": ""
                          }
                        },
                        "type": "scattergeo"
                      }
                    ],
                    "scattergl": [
                      {
                        "marker": {
                          "colorbar": {
                            "outlinewidth": 0,
                            "ticks": ""
                          }
                        },
                        "type": "scattergl"
                      }
                    ],
                    "scattermapbox": [
                      {
                        "marker": {
                          "colorbar": {
                            "outlinewidth": 0,
                            "ticks": ""
                          }
                        },
                        "type": "scattermapbox"
                      }
                    ],
                    "scatterpolar": [
                      {
                        "marker": {
                          "colorbar": {
                            "outlinewidth": 0,
                            "ticks": ""
                          }
                        },
                        "type": "scatterpolar"
                      }
                    ],
                    "scatterpolargl": [
                      {
                        "marker": {
                          "colorbar": {
                            "outlinewidth": 0,
                            "ticks": ""
                          }
                        },
                        "type": "scatterpolargl"
                      }
                    ],
                    "scatterternary": [
                      {
                        "marker": {
                          "colorbar": {
                            "outlinewidth": 0,
                            "ticks": ""
                          }
                        },
                        "type": "scatterternary"
                      }
                    ],
                    "surface": [
                      {
                        "colorbar": {
                          "outlinewidth": 0,
                          "ticks": ""
                        },
                        "colorscale": [
                          [
                            0,
                            "#0d0887"
                          ],
                          [
                            0.1111111111111111,
                            "#46039f"
                          ],
                          [
                            0.2222222222222222,
                            "#7201a8"
                          ],
                          [
                            0.3333333333333333,
                            "#9c179e"
                          ],
                          [
                            0.4444444444444444,
                            "#bd3786"
                          ],
                          [
                            0.5555555555555556,
                            "#d8576b"
                          ],
                          [
                            0.6666666666666666,
                            "#ed7953"
                          ],
                          [
                            0.7777777777777778,
                            "#fb9f3a"
                          ],
                          [
                            0.8888888888888888,
                            "#fdca26"
                          ],
                          [
                            1,
                            "#f0f921"
                          ]
                        ],
                        "type": "surface"
                      }
                    ],
                    "table": [
                      {
                        "cells": {
                          "fill": {
                            "color": "#EBF0F8"
                          },
                          "line": {
                            "color": "white"
                          }
                        },
                        "header": {
                          "fill": {
                            "color": "#C8D4E3"
                          },
                          "line": {
                            "color": "white"
                          }
                        },
                        "type": "table"
                      }
                    ]
                  },
                  "layout": {
                    "annotationdefaults": {
                      "arrowcolor": "#2a3f5f",
                      "arrowhead": 0,
                      "arrowwidth": 1
                    },
                    "autotypenumbers": "strict",
                    "coloraxis": {
                      "colorbar": {
                        "outlinewidth": 0,
                        "ticks": ""
                      }
                    },
                    "colorscale": {
                      "diverging": [
                        [
                          0,
                          "#8e0152"
                        ],
                        [
                          0.1,
                          "#c51b7d"
                        ],
                        [
                          0.2,
                          "#de77ae"
                        ],
                        [
                          0.3,
                          "#f1b6da"
                        ],
                        [
                          0.4,
                          "#fde0ef"
                        ],
                        [
                          0.5,
                          "#f7f7f7"
                        ],
                        [
                          0.6,
                          "#e6f5d0"
                        ],
                        [
                          0.7,
                          "#b8e186"
                        ],
                        [
                          0.8,
                          "#7fbc41"
                        ],
                        [
                          0.9,
                          "#4d9221"
                        ],
                        [
                          1,
                          "#276419"
                        ]
                      ],
                      "sequential": [
                        [
                          0,
                          "#0d0887"
                        ],
                        [
                          0.1111111111111111,
                          "#46039f"
                        ],
                        [
                          0.2222222222222222,
                          "#7201a8"
                        ],
                        [
                          0.3333333333333333,
                          "#9c179e"
                        ],
                        [
                          0.4444444444444444,
                          "#bd3786"
                        ],
                        [
                          0.5555555555555556,
                          "#d8576b"
                        ],
                        [
                          0.6666666666666666,
                          "#ed7953"
                        ],
                        [
                          0.7777777777777778,
                          "#fb9f3a"
                        ],
                        [
                          0.8888888888888888,
                          "#fdca26"
                        ],
                        [
                          1,
                          "#f0f921"
                        ]
                      ],
                      "sequentialminus": [
                        [
                          0,
                          "#0d0887"
                        ],
                        [
                          0.1111111111111111,
                          "#46039f"
                        ],
                        [
                          0.2222222222222222,
                          "#7201a8"
                        ],
                        [
                          0.3333333333333333,
                          "#9c179e"
                        ],
                        [
                          0.4444444444444444,
                          "#bd3786"
                        ],
                        [
                          0.5555555555555556,
                          "#d8576b"
                        ],
                        [
                          0.6666666666666666,
                          "#ed7953"
                        ],
                        [
                          0.7777777777777778,
                          "#fb9f3a"
                        ],
                        [
                          0.8888888888888888,
                          "#fdca26"
                        ],
                        [
                          1,
                          "#f0f921"
                        ]
                      ]
                    },
                    "colorway": [
                      "#636efa",
                      "#EF553B",
                      "#00cc96",
                      "#ab63fa",
                      "#FFA15A",
                      "#19d3f3",
                      "#FF6692",
                      "#B6E880",
                      "#FF97FF",
                      "#FECB52"
                    ],
                    "font": {
                      "color": "#2a3f5f"
                    },
                    "geo": {
                      "bgcolor": "white",
                      "lakecolor": "white",
                      "landcolor": "#E5ECF6",
                      "showlakes": true,
                      "showland": true,
                      "subunitcolor": "white"
                    },
                    "hoverlabel": {
                      "align": "left"
                    },
                    "hovermode": "closest",
                    "mapbox": {
                      "style": "light"
                    },
                    "paper_bgcolor": "white",
                    "plot_bgcolor": "#E5ECF6",
                    "polar": {
                      "angularaxis": {
                        "gridcolor": "white",
                        "linecolor": "white",
                        "ticks": ""
                      },
                      "bgcolor": "#E5ECF6",
                      "radialaxis": {
                        "gridcolor": "white",
                        "linecolor": "white",
                        "ticks": ""
                      }
                    },
                    "scene": {
                      "xaxis": {
                        "backgroundcolor": "#E5ECF6",
                        "gridcolor": "white",
                        "gridwidth": 2,
                        "linecolor": "white",
                        "showbackground": true,
                        "ticks": "",
                        "zerolinecolor": "white"
                      },
                      "yaxis": {
                        "backgroundcolor": "#E5ECF6",
                        "gridcolor": "white",
                        "gridwidth": 2,
                        "linecolor": "white",
                        "showbackground": true,
                        "ticks": "",
                        "zerolinecolor": "white"
                      },
                      "zaxis": {
                        "backgroundcolor": "#E5ECF6",
                        "gridcolor": "white",
                        "gridwidth": 2,
                        "linecolor": "white",
                        "showbackground": true,
                        "ticks": "",
                        "zerolinecolor": "white"
                      }
                    },
                    "shapedefaults": {
                      "line": {
                        "color": "#2a3f5f"
                      }
                    },
                    "ternary": {
                      "aaxis": {
                        "gridcolor": "white",
                        "linecolor": "white",
                        "ticks": ""
                      },
                      "baxis": {
                        "gridcolor": "white",
                        "linecolor": "white",
                        "ticks": ""
                      },
                      "bgcolor": "#E5ECF6",
                      "caxis": {
                        "gridcolor": "white",
                        "linecolor": "white",
                        "ticks": ""
                      }
                    },
                    "title": {
                      "x": 0.05
                    },
                    "xaxis": {
                      "automargin": true,
                      "gridcolor": "white",
                      "linecolor": "white",
                      "ticks": "",
                      "title": {
                        "standoff": 15
                      },
                      "zerolinecolor": "white",
                      "zerolinewidth": 2
                    },
                    "yaxis": {
                      "automargin": true,
                      "gridcolor": "white",
                      "linecolor": "white",
                      "ticks": "",
                      "title": {
                        "standoff": 15
                      },
                      "zerolinecolor": "white",
                      "zerolinewidth": 2
                    }
                  }
                },
                "xaxis": {
                  "anchor": "y",
                  "domain": [
                    0,
                    1
                  ],
                  "title": {
                    "text": "day"
                  }
                },
                "yaxis": {
                  "anchor": "x",
                  "domain": [
                    0,
                    1
                  ],
                  "title": {
                    "text": "value"
                  }
                }
              }
            }
          },
          "metadata": {},
          "output_type": "display_data"
        }
      ],
      "source": [
        "data_categories = class_attendees_per_categories.groupby(['day', 'category'])['day'].count().unstack('category').fillna(0)\n",
        "# print(data.head())\n",
        "data_categories.plot(kind='bar', color=\"category\")\n",
        "# data.plot(kind='bar', stacked=True)\n"
      ]
    },
    {
      "cell_type": "code",
      "execution_count": 16,
      "metadata": {
        "id": "VKT77O3rzWbm"
      },
      "outputs": [
        {
          "ename": "NameError",
          "evalue": "name 'hex_to_rgba' is not defined",
          "output_type": "error",
          "traceback": [
            "\u001b[1;31m---------------------------------------------------------------------------\u001b[0m",
            "\u001b[1;31mNameError\u001b[0m                                 Traceback (most recent call last)",
            "\u001b[1;32mc:\\Users\\pdere\\source\\repos\\00_ResearchAndDevelopment\\Autodesk University\\AU2022.ipynb Cell 23\u001b[0m in \u001b[0;36m<cell line: 1>\u001b[1;34m()\u001b[0m\n\u001b[1;32m----> <a href='vscode-notebook-cell:/c%3A/Users/pdere/source/repos/00_ResearchAndDevelopment/Autodesk%20University/AU2022.ipynb#X31sZmlsZQ%3D%3D?line=0'>1</a>\u001b[0m \u001b[39mprint\u001b[39m(hex_to_rgba(\u001b[39m\"\u001b[39m\u001b[39m#B4FBB8\u001b[39m\u001b[39m\"\u001b[39m, \u001b[39m0.5\u001b[39m))\n",
            "\u001b[1;31mNameError\u001b[0m: name 'hex_to_rgba' is not defined"
          ]
        }
      ],
      "source": [
        "\n",
        "\n",
        "print(hex_to_rgba(\"#B4FBB8\", 0.5))"
      ]
    },
    {
      "cell_type": "code",
      "execution_count": null,
      "metadata": {
        "id": "sxSQ-Lkzljt9"
      },
      "outputs": [],
      "source": [
        "import numpy as np\n",
        "import plotly.graph_objs as go\n",
        "import plotly.express as px\n",
        "\n",
        "def hex_to_rgba(hex, alpha):\n",
        "  h = hex.lstrip('#')\n",
        "  rgb =  [int(h[i:i+2], 16) for i in (0, 2, 4)]\n",
        "  rgb.append(alpha)\n",
        "  return \"rgba\" +str(tuple(rgb))\n",
        "\n",
        "\n",
        "df_records[\"day\"] = pd.to_datetime(df_records[\"beginsAt\"]).dt.day\n",
        "\n",
        "software = [\n",
        "    \"revit\",\n",
        "            \"navisworks\",\n",
        "            \"forge\",\n",
        "            \"autocad\",\n",
        "            \"civil3d\",\n",
        "            \"civil 3d\",\n",
        "            \"formit\",\n",
        "            \"infraworks\",\n",
        "            \"dynamo\",\n",
        "            \"fusion\",\n",
        "            \"bim 360\",\n",
        "            # \"unreal\",\n",
        "            \"vault\",\n",
        "            \"inventor\",\n",
        "            # \"omniverse\",\n",
        "            # \"ilogic\",\n",
        "            \"construction cloud\",\n",
        "            \"bim collaborate pro\",\n",
        "            # \"vcad\",\n",
        "            # \"arcgis\",\n",
        "            # \"power bi\"\n",
        "             ]\n",
        "\n",
        "class_attendes_per_software = pd.DataFrame(columns=['class_name', 'software','total_attendees', 'day'])\n",
        "for i, r in df_records.iterrows():\n",
        "  visited = False\n",
        "  for s in software:\n",
        "    if s in r[\"description\"].lower() or s in r[\"class_name\"].lower():\n",
        "      n = {\"class_name\":r[\"class_name\"],\"total_attendees\":r[\"total_attendees\"], \"software\":s, 'day':str(r['day']) }\n",
        "      class_attendes_per_software = class_attendes_per_software.append(n,ignore_index=True)\n",
        "      visited=True\n",
        "  # if not visited:\n",
        "  #   n = {\"class_name\":r[\"class_name\"],\"total_attendees\":r[\"total_attendees\"], \"software\":\"others\", 'day':str(r['day']) }\n",
        "  #   class_attendes_per_software = class_attendes_per_software.append(n,ignore_index=True)\n",
        "\n",
        "class_attendes_per_software.sort_values([\"day\"])\n",
        "opacity = \"80\"\n",
        "nodes = np.unique(class_attendes_per_software[[\"software\", \"day\"]], axis=None)\n",
        "nodes = pd.Series(index=nodes, data=range(len(nodes)))\n",
        "fig = go.Figure(\n",
        "    go.Sankey(\n",
        "        node={\n",
        "  \n",
        "            \"thickness\" : 15,\n",
        "            \"label\": nodes.index, \n",
        "            # \"color\": [\n",
        "            #     hex_to_rgba(px.colors.qualitative.Plotly[i % len(px.colors.qualitative.Plotly)], 0.5) \n",
        "            #     for i in nodes\n",
        "            # ]\n",
        "            },\n",
        "        link={\n",
        "            \"source\": nodes.loc[class_attendes_per_software[\"software\"]],\n",
        "            \"target\": nodes.loc[class_attendes_per_software[\"day\"]],\n",
        "            \"value\": class_attendes_per_software[\"total_attendees\"],\n",
        "            \"color\": [\n",
        "                hex_to_rgba(px.colors.qualitative.Plotly[i % len(px.colors.qualitative.Plotly)], 0.5) \n",
        "                for i in nodes.loc[class_attendes_per_software[\"software\"]]\n",
        "            ],\n",
        "        },\n",
        "    )\n",
        ")\n",
        "fig.update_layout(title_text=\"Amount of attendees per day grouped by software\",\n",
        "                  font_size=10)\n",
        "\n",
        "\n"
      ]
    },
    {
      "cell_type": "markdown",
      "metadata": {
        "id": "jpvYSm59W6q0"
      },
      "source": [
        "amount of attendees per hour per day\n",
        "\n",
        "classes vs voted classes\n",
        "\n",
        "Twitter /google trends vs AU 2022 day by day\n"
      ]
    }
  ],
  "metadata": {
    "colab": {
      "collapsed_sections": [],
      "provenance": []
    },
    "kernelspec": {
      "display_name": "Python 3.10.6 64-bit",
      "language": "python",
      "name": "python3"
    },
    "language_info": {
      "codemirror_mode": {
        "name": "ipython",
        "version": 3
      },
      "file_extension": ".py",
      "mimetype": "text/x-python",
      "name": "python",
      "nbconvert_exporter": "python",
      "pygments_lexer": "ipython3",
      "version": "3.10.6"
    },
    "vscode": {
      "interpreter": {
        "hash": "369f2c481f4da34e4445cda3fffd2e751bd1c4d706f27375911949ba6bb62e1c"
      }
    }
  },
  "nbformat": 4,
  "nbformat_minor": 0
}
